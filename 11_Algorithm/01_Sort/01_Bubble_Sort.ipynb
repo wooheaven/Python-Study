{
 "cells": [
  {
   "cell_type": "code",
   "execution_count": 1,
   "metadata": {},
   "outputs": [],
   "source": [
    "def bubble_sort(data):\n",
    "    n = len(data)\n",
    "    for i in range(1, n):\n",
    "        for j in range(0, n-i):\n",
    "            print('before', i, j, data)\n",
    "            if data[j] > data[j+1]:\n",
    "                data[j], data[j+1] = data[j+1], data[j]\n",
    "            print('after ', i, j, data, '\\n')\n",
    "    return data"
   ]
  },
  {
   "cell_type": "code",
   "execution_count": 2,
   "metadata": {
    "scrolled": true
   },
   "outputs": [
    {
     "name": "stdout",
     "output_type": "stream",
     "text": [
      "before 1 0 [3, 4, 2, 1]\n",
      "after  1 0 [3, 4, 2, 1] \n",
      "\n",
      "before 1 1 [3, 4, 2, 1]\n",
      "after  1 1 [3, 2, 4, 1] \n",
      "\n",
      "before 1 2 [3, 2, 4, 1]\n",
      "after  1 2 [3, 2, 1, 4] \n",
      "\n",
      "before 2 0 [3, 2, 1, 4]\n",
      "after  2 0 [2, 3, 1, 4] \n",
      "\n",
      "before 2 1 [2, 3, 1, 4]\n",
      "after  2 1 [2, 1, 3, 4] \n",
      "\n",
      "before 3 0 [2, 1, 3, 4]\n",
      "after  3 0 [1, 2, 3, 4] \n",
      "\n"
     ]
    },
    {
     "data": {
      "text/plain": [
       "[1, 2, 3, 4]"
      ]
     },
     "execution_count": 2,
     "metadata": {},
     "output_type": "execute_result"
    }
   ],
   "source": [
    "bubble_sort([3,4,2,1])"
   ]
  }
 ],
 "metadata": {
  "kernelspec": {
   "display_name": "Python 3",
   "language": "python",
   "name": "python3"
  },
  "language_info": {
   "codemirror_mode": {
    "name": "ipython",
    "version": 3
   },
   "file_extension": ".py",
   "mimetype": "text/x-python",
   "name": "python",
   "nbconvert_exporter": "python",
   "pygments_lexer": "ipython3",
   "version": "3.7.4"
  }
 },
 "nbformat": 4,
 "nbformat_minor": 2
}
