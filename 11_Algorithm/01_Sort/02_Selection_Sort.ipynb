{
 "cells": [
  {
   "cell_type": "code",
   "execution_count": 1,
   "metadata": {},
   "outputs": [],
   "source": [
    "import numpy as np"
   ]
  },
  {
   "cell_type": "code",
   "execution_count": 2,
   "metadata": {},
   "outputs": [],
   "source": [
    "def selection_sort(data):\n",
    "    n = len(data)\n",
    "    for i in range(n-1):\n",
    "        min_idx = np.argmin(data[i:]) + i\n",
    "        print('before', i,data, 'min_idx = ', min_idx)\n",
    "        data[i], data[min_idx] = data[min_idx], data[i]\n",
    "        print('after ', i, data)\n",
    "    return data"
   ]
  },
  {
   "cell_type": "code",
   "execution_count": 3,
   "metadata": {},
   "outputs": [
    {
     "name": "stdout",
     "output_type": "stream",
     "text": [
      "before 0 [3 4 2 1] min_idx =  3\n",
      "after  0 [1 4 2 3]\n",
      "before 1 [1 4 2 3] min_idx =  2\n",
      "after  1 [1 2 4 3]\n",
      "before 2 [1 2 4 3] min_idx =  3\n",
      "after  2 [1 2 3 4]\n"
     ]
    },
    {
     "data": {
      "text/plain": [
       "array([1, 2, 3, 4])"
      ]
     },
     "execution_count": 3,
     "metadata": {},
     "output_type": "execute_result"
    }
   ],
   "source": [
    "selection_sort(np.array([3,4,2,1]))"
   ]
  }
 ],
 "metadata": {
  "kernelspec": {
   "display_name": "Python 3",
   "language": "python",
   "name": "python3"
  },
  "language_info": {
   "codemirror_mode": {
    "name": "ipython",
    "version": 3
   },
   "file_extension": ".py",
   "mimetype": "text/x-python",
   "name": "python",
   "nbconvert_exporter": "python",
   "pygments_lexer": "ipython3",
   "version": "3.7.4"
  }
 },
 "nbformat": 4,
 "nbformat_minor": 2
}
