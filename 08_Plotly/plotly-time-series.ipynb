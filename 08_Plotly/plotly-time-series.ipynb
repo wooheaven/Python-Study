{
 "cells": [
  {
   "cell_type": "markdown",
   "metadata": {
    "toc": true
   },
   "source": [
    "<h1>Table of Contents<span class=\"tocSkip\"></span></h1>\n",
    "<div class=\"toc\"><ul class=\"toc-item\"><li><span><a href=\"#Introduction:-Time-Series-in-Plotly\" data-toc-modified-id=\"Introduction:-Time-Series-in-Plotly-1\"><span class=\"toc-item-num\">1&nbsp;&nbsp;</span>Introduction: Time-Series in Plotly</a></span><ul class=\"toc-item\"><li><span><a href=\"#Authentication-of-Plotly\" data-toc-modified-id=\"Authentication-of-Plotly-1.1\"><span class=\"toc-item-num\">1.1&nbsp;&nbsp;</span>Authentication of Plotly</a></span><ul class=\"toc-item\"><li><span><a href=\"#Building-Energy-Data\" data-toc-modified-id=\"Building-Energy-Data-1.1.1\"><span class=\"toc-item-num\">1.1.1&nbsp;&nbsp;</span>Building Energy Data</a></span></li></ul></li></ul></li><li><span><a href=\"#Basic-Time-Series-Plot\" data-toc-modified-id=\"Basic-Time-Series-Plot-2\"><span class=\"toc-item-num\">2&nbsp;&nbsp;</span>Basic Time Series Plot</a></span><ul class=\"toc-item\"><li><span><a href=\"#Plot-Formatting\" data-toc-modified-id=\"Plot-Formatting-2.1\"><span class=\"toc-item-num\">2.1&nbsp;&nbsp;</span>Plot Formatting</a></span></li></ul></li><li><span><a href=\"#Secondary-Y-Axis\" data-toc-modified-id=\"Secondary-Y-Axis-3\"><span class=\"toc-item-num\">3&nbsp;&nbsp;</span>Secondary Y-Axis</a></span><ul class=\"toc-item\"><li><ul class=\"toc-item\"><li><span><a href=\"#Add-to-Layout\" data-toc-modified-id=\"Add-to-Layout-3.0.1\"><span class=\"toc-item-num\">3.0.1&nbsp;&nbsp;</span>Add to Layout</a></span></li></ul></li></ul></li><li><span><a href=\"#Annotations\" data-toc-modified-id=\"Annotations-4\"><span class=\"toc-item-num\">4&nbsp;&nbsp;</span>Annotations</a></span><ul class=\"toc-item\"><li><span><a href=\"#Building-Annotations\" data-toc-modified-id=\"Building-Annotations-4.1\"><span class=\"toc-item-num\">4.1&nbsp;&nbsp;</span>Building Annotations</a></span><ul class=\"toc-item\"><li><span><a href=\"#Add-Annotations-to-Plot\" data-toc-modified-id=\"Add-Annotations-to-Plot-4.1.1\"><span class=\"toc-item-num\">4.1.1&nbsp;&nbsp;</span>Add Annotations to Plot</a></span></li></ul></li></ul></li><li><span><a href=\"#Range-Selection\" data-toc-modified-id=\"Range-Selection-5\"><span class=\"toc-item-num\">5&nbsp;&nbsp;</span>Range Selection</a></span><ul class=\"toc-item\"><li><span><a href=\"#Range-Selector-and-Range-Slider\" data-toc-modified-id=\"Range-Selector-and-Range-Slider-5.1\"><span class=\"toc-item-num\">5.1&nbsp;&nbsp;</span>Range Selector and Range Slider</a></span></li><li><span><a href=\"#Range-Selector-with-Double-Axes\" data-toc-modified-id=\"Range-Selector-with-Double-Axes-5.2\"><span class=\"toc-item-num\">5.2&nbsp;&nbsp;</span>Range Selector with Double Axes</a></span></li></ul></li><li><span><a href=\"#Dropdown-Menu\" data-toc-modified-id=\"Dropdown-Menu-6\"><span class=\"toc-item-num\">6&nbsp;&nbsp;</span>Dropdown Menu</a></span><ul class=\"toc-item\"><li><ul class=\"toc-item\"><li><span><a href=\"#Update-Menus\" data-toc-modified-id=\"Update-Menus-6.0.1\"><span class=\"toc-item-num\">6.0.1&nbsp;&nbsp;</span>Update Menus</a></span></li></ul></li><li><span><a href=\"#Dropdown-Menu-with-Annotations\" data-toc-modified-id=\"Dropdown-Menu-with-Annotations-6.1\"><span class=\"toc-item-num\">6.1&nbsp;&nbsp;</span>Dropdown Menu with Annotations</a></span></li></ul></li><li><span><a href=\"#Conclusions\" data-toc-modified-id=\"Conclusions-7\"><span class=\"toc-item-num\">7&nbsp;&nbsp;</span>Conclusions</a></span></li></ul></div>"
   ]
  },
  {
   "cell_type": "markdown",
   "metadata": {},
   "source": [
    "# Introduction: Time-Series in Plotly\n",
    "\n",
    "This notebook will show a basic introduction to plotting time-series in Plotly. We will see how to get a simple plot up and running and how to add basic interactivity. Plotly is a useful library because it abstracts away many of the plotting details, letting us focus on the results, rather than how to make the plot look just the way we want it. Moreover, plotly includes useful interactive elements without much additional effort."
   ]
  },
  {
   "cell_type": "code",
   "execution_count": null,
   "metadata": {
    "ExecuteTime": {
     "end_time": "2018-12-15T17:55:40.500042Z",
     "start_time": "2018-12-15T17:55:39.578537Z"
    }
   },
   "outputs": [],
   "source": [
    "# Standard data science libraries\n",
    "import pandas as pd\n",
    "import numpy as np\n",
    "\n",
    "# Display all cell outputs\n",
    "from IPython.core.interactiveshell import InteractiveShell\n",
    "InteractiveShell.ast_node_interactivity = 'all'\n",
    "\n",
    "# Visualization\n",
    "import matplotlib.pyplot as plt\n",
    "import seaborn as sns\n",
    "plt.style.use('bmh')"
   ]
  },
  {
   "cell_type": "markdown",
   "metadata": {},
   "source": [
    "## Authentication of Plotly \n",
    "\n",
    "If you have not yet run plotly, you have to authenticate your account the first time you use the library. You can get a free api key, which you will need to supply in the cell below. (For more details, follow [these instructions](https://plot.ly/python/getting-started/))."
   ]
  },
  {
   "cell_type": "code",
   "execution_count": null,
   "metadata": {
    "ExecuteTime": {
     "end_time": "2018-12-15T17:55:40.504154Z",
     "start_time": "2018-12-15T17:55:40.502002Z"
    }
   },
   "outputs": [],
   "source": [
    "## Replace with your credentials.\n",
    "\n",
    "# import plotly\n",
    "# plotly.tools.set_credentials_file(username='########', api_key='******')"
   ]
  },
  {
   "cell_type": "markdown",
   "metadata": {},
   "source": [
    "Below are the plotly imports with the standard abbreviations. If you want to run plotly in offline mode, uncomment the offline code."
   ]
  },
  {
   "cell_type": "code",
   "execution_count": null,
   "metadata": {
    "ExecuteTime": {
     "end_time": "2018-12-15T17:55:41.124207Z",
     "start_time": "2018-12-15T17:55:40.505914Z"
    }
   },
   "outputs": [],
   "source": [
    "# Plot imports\n",
    "import plotly.plotly as py\n",
    "import plotly.graph_objs as go\n",
    "\n",
    "## Offline mode\n",
    "from plotly.offline import init_notebook_mode, iplot\n",
    "init_notebook_mode(connected=True)"
   ]
  },
  {
   "cell_type": "markdown",
   "metadata": {},
   "source": [
    "### Building Energy Data\n",
    "\n",
    "For these plots, we will be examining building energy data. We have data for one building, with 3 different types of sensors: Energy, Steam, and Static Pressure. This dataframe has a multiindex on the columns which is a helpful way to keep track of hierarchical relationships. "
   ]
  },
  {
   "cell_type": "code",
   "execution_count": null,
   "metadata": {
    "ExecuteTime": {
     "end_time": "2018-12-15T17:55:41.213230Z",
     "start_time": "2018-12-15T17:55:41.125423Z"
    }
   },
   "outputs": [],
   "source": [
    "# Read in data and convert index to a datetime\n",
    "df = pd.read_csv('building_one.csv', \n",
    "                 header=[0, 1], index_col=0)\n",
    "df.index = pd.to_datetime(df.index)\n",
    "df.sort_index(inplace=True)\n",
    "df.head()"
   ]
  },
  {
   "cell_type": "markdown",
   "metadata": {},
   "source": [
    "There are two levels to the columns: the sensor type and then the name of the sensor. We can access a specific sensor using the following indexing."
   ]
  },
  {
   "cell_type": "code",
   "execution_count": null,
   "metadata": {
    "ExecuteTime": {
     "end_time": "2018-12-15T17:55:41.219945Z",
     "start_time": "2018-12-15T17:55:41.215059Z"
    }
   },
   "outputs": [],
   "source": [
    "energy_series = df.loc[:, ('Energy', '3')].copy()\n",
    "energy_series.head()"
   ]
  },
  {
   "cell_type": "markdown",
   "metadata": {},
   "source": [
    "Let's see what matplotlib can do with this."
   ]
  },
  {
   "cell_type": "code",
   "execution_count": null,
   "metadata": {
    "ExecuteTime": {
     "end_time": "2018-12-15T17:55:41.538296Z",
     "start_time": "2018-12-15T17:55:41.221694Z"
    }
   },
   "outputs": [],
   "source": [
    "energy_series.plot(figsize = (10, 8));\n",
    "plt.ylabel('kwh'); plt.title('Energy Usage');"
   ]
  },
  {
   "cell_type": "markdown",
   "metadata": {},
   "source": [
    "Not terrible, but also not very attractive! Let's get started with plotly."
   ]
  },
  {
   "cell_type": "markdown",
   "metadata": {},
   "source": [
    "# Basic Time Series Plot\n",
    "\n",
    "We will being by just making the most introductory plot we can. This requires a little more code than in matplotlib, but it gives us more features, such as interactivity with no extra effort."
   ]
  },
  {
   "cell_type": "markdown",
   "metadata": {},
   "source": [
    "First, we need to create a data object. We use `go.Scatter` and provide it with x and y values. By default, with more than 20 points, the mode will be set to `lines`. Here we'll just use the defaults for all of the parameters."
   ]
  },
  {
   "cell_type": "code",
   "execution_count": null,
   "metadata": {
    "ExecuteTime": {
     "end_time": "2018-12-15T17:55:41.649676Z",
     "start_time": "2018-12-15T17:55:41.539737Z"
    }
   },
   "outputs": [],
   "source": [
    "energy_data = go.Scatter(x=energy_series.index,\n",
    "                        y=energy_series.values)"
   ]
  },
  {
   "cell_type": "markdown",
   "metadata": {},
   "source": [
    "Then, we set up the plot layout. This will set the defaults again although we do provide the minimum labels."
   ]
  },
  {
   "cell_type": "code",
   "execution_count": null,
   "metadata": {
    "ExecuteTime": {
     "end_time": "2018-12-15T17:55:42.104960Z",
     "start_time": "2018-12-15T17:55:41.651338Z"
    }
   },
   "outputs": [],
   "source": [
    "layout = go.Layout(title='Energy Plot', xaxis=dict(title='Date'),\n",
    "                   yaxis=dict(title='(kWh)'))"
   ]
  },
  {
   "cell_type": "markdown",
   "metadata": {},
   "source": [
    "Now, we just need to create a figure and display it. When we pass in the data, it needs to be a list even with a single item."
   ]
  },
  {
   "cell_type": "code",
   "execution_count": null,
   "metadata": {
    "ExecuteTime": {
     "end_time": "2018-12-15T17:55:42.546116Z",
     "start_time": "2018-12-15T17:55:42.106413Z"
    }
   },
   "outputs": [],
   "source": [
    "fig = go.Figure(data=[energy_data],layout=layout)"
   ]
  },
  {
   "cell_type": "markdown",
   "metadata": {},
   "source": [
    "Finally, we can display the plot interactively in the notebook."
   ]
  },
  {
   "cell_type": "code",
   "execution_count": null,
   "metadata": {
    "ExecuteTime": {
     "end_time": "2018-12-15T17:55:43.634644Z",
     "start_time": "2018-12-15T17:55:42.547523Z"
    }
   },
   "outputs": [],
   "source": [
    "iplot(fig)"
   ]
  },
  {
   "cell_type": "markdown",
   "metadata": {},
   "source": [
    "## Plot Formatting\n",
    "\n",
    "This plot is pretty impressive by itself (better than matplotlib), and we can add a few parameters to make things look better than the default. Below we format the hover information using `text`, set the `line` parameters, adjust the `height` and `width` of the plot, and show the results."
   ]
  },
  {
   "cell_type": "code",
   "execution_count": null,
   "metadata": {
    "ExecuteTime": {
     "end_time": "2018-12-15T17:55:45.624484Z",
     "start_time": "2018-12-15T17:55:43.636959Z"
    }
   },
   "outputs": [],
   "source": [
    "# Create the data object\n",
    "energy_data = go.Scatter(x=energy_series.index,\n",
    "                        y=energy_series.values,\n",
    "                        line=go.scatter.Line(color='red', width = 0.8),\n",
    "                           opacity=0.8,\n",
    "                           name='Energy',\n",
    "                           text=[f'Energy: {x:.0f} kWh' for x in energy_series.values])\n",
    "\n",
    "\n",
    "# Set up the plot layout\n",
    "layout = go.Layout(height=800, width=800, titlefont=dict(size=20),\n",
    "                   font=dict(size=16),\n",
    "                   title='Energy Plot', xaxis=dict(title='Date'),\n",
    "                   yaxis=dict(title='(kWh)'))\n",
    "\n",
    "# Create figure and display\n",
    "fig = go.Figure(data=[energy_data], layout=layout)\n",
    "iplot(fig)"
   ]
  },
  {
   "cell_type": "markdown",
   "metadata": {},
   "source": [
    "# Secondary Y-Axis\n",
    "\n",
    "If we want to include multiple data sources with different ranges, then we will need to use a secondary yaxis. Fortunately, this is simple in plotly and we'll just add it to the interactive plot. "
   ]
  },
  {
   "cell_type": "code",
   "execution_count": null,
   "metadata": {
    "ExecuteTime": {
     "end_time": "2018-12-15T17:55:45.634414Z",
     "start_time": "2018-12-15T17:55:45.626964Z"
    }
   },
   "outputs": [],
   "source": [
    "steam_series = df.loc[:, (\"Steam\", \"4\")].copy()\n",
    "steam_series.tail()"
   ]
  },
  {
   "cell_type": "markdown",
   "metadata": {},
   "source": [
    "The key is to add the secondary data source using a `yaxis` of `y2`. This plots the data on the second yaxis which will add."
   ]
  },
  {
   "cell_type": "code",
   "execution_count": null,
   "metadata": {
    "ExecuteTime": {
     "end_time": "2018-12-15T17:55:45.720423Z",
     "start_time": "2018-12-15T17:55:45.636700Z"
    }
   },
   "outputs": [],
   "source": [
    "steam_data = go.Scatter(x=steam_series.index,\n",
    "                        y=steam_series.values,\n",
    "                        line=dict(color='blue', width=0.8),\n",
    "                        opacity=0.8,\n",
    "                        name='Steam',\n",
    "                        yaxis='y2',\n",
    "                        text=[f'Steam: {x:.1f} Mlbs/hr' for x in steam_series.values])"
   ]
  },
  {
   "cell_type": "markdown",
   "metadata": {},
   "source": [
    "### Add to Layout\n",
    "\n",
    "We also need to add a secondary `yaxis` to the layout."
   ]
  },
  {
   "cell_type": "code",
   "execution_count": null,
   "metadata": {
    "ExecuteTime": {
     "end_time": "2018-12-15T17:55:49.418895Z",
     "start_time": "2018-12-15T17:55:45.721850Z"
    }
   },
   "outputs": [],
   "source": [
    "# Create a layout with two yaxes\n",
    "layout = go.Layout(height=600, width=1000, font=dict(size=18),\n",
    "                   title='Energy and Steam Plot',\n",
    "                   xaxis=dict(title='Date', type='date'),\n",
    "                   \n",
    "                   yaxis=dict(title='Energy', color='red'),\n",
    "                   # Add a second yaxis to the right of the plot\n",
    "                   yaxis2=dict(title='Steam', color='blue',\n",
    "                                          overlaying='y',\n",
    "                                          side='right')\n",
    "                   )\n",
    "\n",
    "fig = go.Figure(data=[energy_data, steam_data], layout=layout)\n",
    "iplot(fig)"
   ]
  },
  {
   "cell_type": "markdown",
   "metadata": {},
   "source": [
    "There it is! We have the energy and the steam on a single plot. We can see that steam is only used during the winter (for heating) while of course we need energy year-round! "
   ]
  },
  {
   "cell_type": "markdown",
   "metadata": {},
   "source": [
    "# Annotations\n",
    "\n",
    "Annotations allow us to call our (highlight) aspects of our data. Let's look at how to annotate a weeks worth of steam measurements with the daily high values."
   ]
  },
  {
   "cell_type": "markdown",
   "metadata": {},
   "source": [
    "First, we'll get a weeks worth of steam data."
   ]
  },
  {
   "cell_type": "code",
   "execution_count": null,
   "metadata": {
    "ExecuteTime": {
     "end_time": "2018-12-15T17:55:49.441754Z",
     "start_time": "2018-12-15T17:55:49.420767Z"
    }
   },
   "outputs": [],
   "source": [
    "df_short = df.loc[df.index.week == 6].copy()\n",
    "df_short.head()\n",
    "df_short.tail()"
   ]
  },
  {
   "cell_type": "code",
   "execution_count": null,
   "metadata": {
    "ExecuteTime": {
     "end_time": "2018-12-15T17:55:49.446423Z",
     "start_time": "2018-12-15T17:55:49.442968Z"
    }
   },
   "outputs": [],
   "source": [
    "steam_series_four = df_short.loc[:, ('Steam', '4')].copy()\n",
    "steam_series_five = df_short.loc[:, ('Steam', '5')].copy()"
   ]
  },
  {
   "cell_type": "markdown",
   "metadata": {},
   "source": [
    "These can be made into data objects as follows:"
   ]
  },
  {
   "cell_type": "code",
   "execution_count": null,
   "metadata": {
    "ExecuteTime": {
     "end_time": "2018-12-15T17:55:49.455624Z",
     "start_time": "2018-12-15T17:55:49.447742Z"
    }
   },
   "outputs": [],
   "source": [
    "steam_data_four = go.Scatter(\n",
    "    x=steam_series_four.index,\n",
    "    y=steam_series_four.values,\n",
    "    line=dict(color='blue', width=1.1),\n",
    "    opacity=0.8,\n",
    "    name='Steam: Sensor 4',\n",
    "    hoverinfo = 'text',\n",
    "    text = [f'Sensor 4: {x:.1f} Mlbs/hr' for x in steam_series_four.values])"
   ]
  },
  {
   "cell_type": "code",
   "execution_count": null,
   "metadata": {
    "ExecuteTime": {
     "end_time": "2018-12-15T17:55:49.464020Z",
     "start_time": "2018-12-15T17:55:49.456954Z"
    }
   },
   "outputs": [],
   "source": [
    "steam_data_five = go.Scatter(\n",
    "    x=steam_series_five.index,\n",
    "    y=steam_series_five.values,\n",
    "    line=dict(color='orange', width=1.1),\n",
    "    opacity=0.8,\n",
    "    name='Steam: Sensor 5',\n",
    "    hoverinfo='text',\n",
    "    text=[f'Sensor 5: {x:.1f} Mlbs/hr' for x in steam_series_five.values])"
   ]
  },
  {
   "cell_type": "markdown",
   "metadata": {},
   "source": [
    "Then, we'll write a short function to find the daily maximumn steam measurement."
   ]
  },
  {
   "cell_type": "code",
   "execution_count": null,
   "metadata": {
    "ExecuteTime": {
     "end_time": "2018-12-15T17:55:49.505951Z",
     "start_time": "2018-12-15T17:55:49.465308Z"
    }
   },
   "outputs": [],
   "source": [
    "def find_daily_maxes(x):\n",
    "    \"\"\"Return maximum measurement on each day and when it occurred in a dataframe\"\"\"\n",
    "    x = x.copy().to_frame()\n",
    "    x['day'] = x.index.day\n",
    "    result =pd.concat([x.groupby('day').max(), \n",
    "                      x.groupby('day').idxmax()], axis = 1).iloc[:, [0, 1]]\n",
    "    result.columns = ['value', 'date']\n",
    "    return result.set_index('date')\n",
    "\n",
    "four_highs = find_daily_maxes(steam_series_four)\n",
    "five_highs = find_daily_maxes(steam_series_five)\n",
    "four_highs"
   ]
  },
  {
   "cell_type": "markdown",
   "metadata": {},
   "source": [
    "We'll also use a short function to format the time of day at which the maximum occurred."
   ]
  },
  {
   "cell_type": "code",
   "execution_count": null,
   "metadata": {
    "ExecuteTime": {
     "end_time": "2018-12-15T17:55:49.511105Z",
     "start_time": "2018-12-15T17:55:49.507111Z"
    }
   },
   "outputs": [],
   "source": [
    "from datetime import datetime\n",
    "\n",
    "def format_time(dt):\n",
    "    if pd.isnull(dt):\n",
    "        return \"NaT\"\n",
    "    else:\n",
    "        return datetime.strftime(dt, \"%a <br> %H:%M %p\")\n",
    "    \n",
    "format_time(datetime.now())"
   ]
  },
  {
   "cell_type": "markdown",
   "metadata": {},
   "source": [
    "## Building Annotations\n",
    "\n",
    "The following creates the annotation using a list comprehension. For each annotation, we specify the x and y position, along with the formatted text to display. We can adjust other aspects, but we'll let plotly take care of those details. "
   ]
  },
  {
   "cell_type": "code",
   "execution_count": null,
   "metadata": {
    "ExecuteTime": {
     "end_time": "2018-12-15T17:55:49.515394Z",
     "start_time": "2018-12-15T17:55:49.512340Z"
    }
   },
   "outputs": [],
   "source": [
    "four_annotations = [dict(x = date, y = value[0], \n",
    "                         xref = 'x', yref = 'y', \n",
    "                         font=dict(color = 'blue'),\n",
    "                         text = f'{format_time(date)}<br> {value[0]:.1f} Mlbs/hr')\n",
    "                    for date, value in zip(four_highs.index, four_highs.values)]"
   ]
  },
  {
   "cell_type": "code",
   "execution_count": null,
   "metadata": {
    "ExecuteTime": {
     "end_time": "2018-12-15T17:55:49.520007Z",
     "start_time": "2018-12-15T17:55:49.516601Z"
    }
   },
   "outputs": [],
   "source": [
    "four_annotations[:2]"
   ]
  },
  {
   "cell_type": "code",
   "execution_count": null,
   "metadata": {
    "ExecuteTime": {
     "end_time": "2018-12-15T17:55:49.526115Z",
     "start_time": "2018-12-15T17:55:49.523023Z"
    }
   },
   "outputs": [],
   "source": [
    "five_annotations = [dict(x = date, y = value[0], xref = 'x', yref = 'y', font=dict(color = 'orange'),\n",
    "                         text = f'{format_time(date)}<br> {value[0]:.1f} Mlbs/hr')\n",
    "                    for date, value in zip(five_highs.index, five_highs.values)]"
   ]
  },
  {
   "cell_type": "markdown",
   "metadata": {},
   "source": [
    "### Add Annotations to Plot\n",
    "\n",
    "To actually show the annotations on the plot, all we need is to add them to the layout. Then we display the plot as before."
   ]
  },
  {
   "cell_type": "code",
   "execution_count": null,
   "metadata": {
    "ExecuteTime": {
     "end_time": "2018-12-15T17:55:49.629098Z",
     "start_time": "2018-12-15T17:55:49.528526Z"
    }
   },
   "outputs": [],
   "source": [
    "layout = go.Layout(height=800, width=1000, \n",
    "                   title='Steam Sensor with Daily High Annotations',\n",
    "                   annotations=four_annotations)\n",
    "\n",
    "fig = go.Figure(data = [steam_data_four],\n",
    "                layout=layout)\n",
    "iplot(fig)"
   ]
  },
  {
   "cell_type": "markdown",
   "metadata": {},
   "source": [
    "# Range Selection\n",
    "\n",
    "This plot already has some basic interaction, but we can improve that by adding a range slider. This will allow us to choose the timescale and the frame of time."
   ]
  },
  {
   "cell_type": "markdown",
   "metadata": {},
   "source": [
    "We'll go back to the plot showing energy to demonstrate range selection. The data object will stay the same, but the layout needs to be modified.\n",
    "\n",
    "## Range Selector and Range Slider\n",
    "\n",
    "In particular, we will set the xaxis to have a `rangeselector`, which we use for selecting the time scale, and a `rangeslider` which is used to select the window of time. For the `rangeselector`, we add in buttons that allow us select the time scale. The `rangeslider` is easier to code because it does not have buttons. The yaxis remains the same.\n",
    "\n",
    "For more information, see the documentation on [range selector](https://plot.ly/python/reference/#layout-xaxis-rangeselector) \n",
    "and [range slider](https://plot.ly/python/reference/#layout-xaxis-rangeslider). You can also look [this example](https://plot.ly/python/range-slider/)."
   ]
  },
  {
   "cell_type": "code",
   "execution_count": null,
   "metadata": {
    "ExecuteTime": {
     "end_time": "2018-12-15T17:55:51.681206Z",
     "start_time": "2018-12-15T17:55:49.630440Z"
    }
   },
   "outputs": [],
   "source": [
    "# Create the same data object\n",
    "energy_data = go.Scatter(x=energy_series.index,\n",
    "                        y=energy_series.values,\n",
    "                        line=go.scatter.Line(color='red', width = 0.6),\n",
    "                           opacity=0.8,\n",
    "                           name='energy',\n",
    "                           text=[f'energy: {x:.0f} kWh' for x in energy_series.values])\n",
    "\n",
    "\n",
    "# Create a layout with a rangeselector and rangeslider on the xaxis\n",
    "layout = go.Layout(height=600, width=900, font=dict(size=18),\n",
    "                   title='Energy Plot with Range Selection',\n",
    "                   xaxis=dict(title='Date',\n",
    "                                        # Range selector with buttons\n",
    "                                         rangeselector=dict(\n",
    "                                             # Buttons for selecting time scale\n",
    "                                             buttons=list([\n",
    "                                                 # 1 month\n",
    "                                                 dict(count=1,\n",
    "                                                      label='1m',\n",
    "                                                      step='month',\n",
    "                                                      stepmode='backward'),\n",
    "                                                 # 1 week\n",
    "                                                 dict(count=7,\n",
    "                                                      label='1w',\n",
    "                                                      step='day',\n",
    "                                                      stepmode='todate'),\n",
    "                                                 # 1 day\n",
    "                                                 dict(count=1,\n",
    "                                                      label='1d',\n",
    "                                                      step='day',\n",
    "                                                      stepmode='todate'),\n",
    "                                                 # 12 hours\n",
    "                                                 dict(count=12,\n",
    "                                                      label='12h',\n",
    "                                                      step='hour',\n",
    "                                                      stepmode='backward'),\n",
    "                                                 # 4 hours\n",
    "                                                 dict(count=4,\n",
    "                                                      label='4h',\n",
    "                                                      step='hour',\n",
    "                                                      stepmode='backward'),\n",
    "                                                 # Entire scale\n",
    "                                                 dict(step='all')\n",
    "                                             ])\n",
    "                                         ),\n",
    "                                         # Sliding for selecting time window\n",
    "                                         rangeslider=dict(visible=True),\n",
    "                                         # Type of xaxis\n",
    "                                         type='date'),\n",
    "                   # yaxis is unchanged\n",
    "                   yaxis=dict(title='Static Pressure')\n",
    "                   )\n",
    "\n",
    "# Create the figure and display\n",
    "fig = go.Figure(data=[energy_data], layout=layout)\n",
    "iplot(fig)"
   ]
  },
  {
   "cell_type": "markdown",
   "metadata": {},
   "source": [
    "## Range Selector with Double Axes"
   ]
  },
  {
   "cell_type": "code",
   "execution_count": null,
   "metadata": {
    "ExecuteTime": {
     "end_time": "2018-12-15T18:19:17.717595Z",
     "start_time": "2018-12-15T18:19:14.303376Z"
    }
   },
   "outputs": [],
   "source": [
    "# Create a layout with interactive elements and two yaxes\n",
    "layout = go.Layout(height=600, width=800, font=dict(size=14),\n",
    "                   title='Energy Plot with Range Selection',\n",
    "                   xaxis=dict(title='Date',\n",
    "                                        # Range selector with buttons\n",
    "                                         rangeselector=dict(\n",
    "                                             # Buttons for selecting time scale\n",
    "                                             buttons=list([\n",
    "                                                 # 1 month\n",
    "                                                 dict(count=1,\n",
    "                                                      label='1m',\n",
    "                                                      step='month',\n",
    "                                                      stepmode='backward'),\n",
    "                                                 # 1 week\n",
    "                                                 dict(count=7,\n",
    "                                                      label='1w',\n",
    "                                                      step='day',\n",
    "                                                      stepmode='todate'),\n",
    "                                                 # 1 day\n",
    "                                                 dict(count=1,\n",
    "                                                      label='1d',\n",
    "                                                      step='day',\n",
    "                                                      stepmode='todate'),\n",
    "                                                 # 12 hours\n",
    "                                                 dict(count=12,\n",
    "                                                      label='12h',\n",
    "                                                      step='hour',\n",
    "                                                      stepmode='backward'),\n",
    "                                                 # 4 hours\n",
    "                                                 dict(count=4,\n",
    "                                                      label='4h',\n",
    "                                                      step='hour',\n",
    "                                                      stepmode='backward'),\n",
    "                                                 # Entire scale\n",
    "                                                 dict(step='all')\n",
    "                                             ])\n",
    "                                         ),\n",
    "                                         # Sliding for selecting time window\n",
    "                                         rangeslider=dict(visible=True),\n",
    "                                         # Type of xaxis\n",
    "                                         type='date'),\n",
    "                   yaxis=dict(title='Energy (kWh)', color='red'),\n",
    "                   # Add a second yaxis to the right of the plot\n",
    "                   yaxis2=dict(title='Steam (Mlbs/hr)', color='blue',\n",
    "                                          overlaying='y',\n",
    "                                          side='right')\n",
    "                   )\n",
    "\n",
    "fig = go.Figure(data=[energy_data, steam_data], layout=layout)\n",
    "iplot(fig)"
   ]
  },
  {
   "cell_type": "markdown",
   "metadata": {},
   "source": [
    "# Dropdown Menu\n",
    "\n",
    "Another option for adding interaction is through a dropdown menu. Here, we will plot a single week and give users the options of which sensor to view for steam. Adding in dropdown menus is a little trickier, but still not too much work for a nice interactive plot! "
   ]
  },
  {
   "cell_type": "markdown",
   "metadata": {},
   "source": [
    "### Update Menus\n",
    "\n",
    "To add the dropdown, we want to create an updatemenu object. This includes the buttons as well as the actions they trigger which are stored in `args`. Because we are changing the visible data, we set the `visible` attribute. We also change the `title` to reflect which sensor(s) is currently shown. "
   ]
  },
  {
   "cell_type": "code",
   "execution_count": null,
   "metadata": {
    "ExecuteTime": {
     "end_time": "2018-12-15T17:55:55.298614Z",
     "start_time": "2018-12-15T17:55:55.274463Z"
    }
   },
   "outputs": [],
   "source": [
    "updatemenus = list([\n",
    "    dict(\n",
    "        active=2,\n",
    "        buttons=list([\n",
    "            dict(\n",
    "                label='Sensor 4',\n",
    "                method='update',\n",
    "                args=[{\n",
    "                    'visible': [True, False]\n",
    "                }, {\n",
    "                    'title': 'Sensor 4'\n",
    "                }]),\n",
    "            dict(\n",
    "                label='Sensor 5',\n",
    "                method='update',\n",
    "                args=[{\n",
    "                    'visible': [False, True]\n",
    "                }, {\n",
    "                    'title': 'Sensor 5'\n",
    "                }]),\n",
    "            dict(\n",
    "                label='Both',\n",
    "                method='update',\n",
    "                args=[{\n",
    "                    'visible': [True, True]\n",
    "                }, {\n",
    "                    'title': 'Sensor Sensors'\n",
    "                }])\n",
    "        ]),\n",
    "    )\n",
    "])\n",
    "\n",
    "layout = go.Layout(height=800, width=1000, title='Steam Sensors',\n",
    "                   updatemenus=updatemenus)"
   ]
  },
  {
   "cell_type": "code",
   "execution_count": null,
   "metadata": {
    "ExecuteTime": {
     "end_time": "2018-12-15T17:55:55.413970Z",
     "start_time": "2018-12-15T17:55:55.299836Z"
    }
   },
   "outputs": [],
   "source": [
    "fig = go.Figure(data=[steam_data_four, steam_data_five], layout=layout)\n",
    "iplot(fig)"
   ]
  },
  {
   "cell_type": "markdown",
   "metadata": {},
   "source": [
    "## Dropdown Menu with Annotations\n",
    "\n",
    "We can easily add in the annotations to the plot by including them in the `args` for the dropdown menu. This will show annotations when we are looking at one or the other sensor but not both."
   ]
  },
  {
   "cell_type": "code",
   "execution_count": null,
   "metadata": {
    "ExecuteTime": {
     "end_time": "2018-12-15T17:55:55.438299Z",
     "start_time": "2018-12-15T17:55:55.415307Z"
    }
   },
   "outputs": [],
   "source": [
    "updatemenus = list([\n",
    "    dict(\n",
    "        active=2,\n",
    "        buttons=list([\n",
    "            dict(\n",
    "                label='Sensor 4',\n",
    "                method='update',\n",
    "                args=[{\n",
    "                    'visible': [True, False]\n",
    "                }, {\n",
    "                    'title': 'Sensor 4',\n",
    "                    'annotations': four_annotations\n",
    "                }]),\n",
    "            dict(\n",
    "                label='Sensor 5',\n",
    "                method='update',\n",
    "                args=[{\n",
    "                    'visible': [False, True]\n",
    "                }, {\n",
    "                    'title': 'Sensor 5',\n",
    "                    'annotations': five_annotations\n",
    "                }]),\n",
    "            dict(\n",
    "                label='Both',\n",
    "                method='update',\n",
    "                args=[{\n",
    "                    'visible': [True, True]\n",
    "                }, {\n",
    "                    'title': 'Sensor Sensors'\n",
    "                }])\n",
    "        ]),\n",
    "    )\n",
    "])\n",
    "\n",
    "layout = go.Layout(height=600, width=800, title='Steam Sensors',\n",
    "                   updatemenus=updatemenus)"
   ]
  },
  {
   "cell_type": "code",
   "execution_count": null,
   "metadata": {
    "ExecuteTime": {
     "end_time": "2018-12-15T17:55:55.564437Z",
     "start_time": "2018-12-15T17:55:55.439545Z"
    }
   },
   "outputs": [],
   "source": [
    "fig = go.Figure(data = [steam_data_four, steam_data_five], \n",
    "                layout=layout)\n",
    "\n",
    "iplot(fig)"
   ]
  },
  {
   "cell_type": "markdown",
   "metadata": {},
   "source": [
    "# Conclusions\n",
    "\n",
    "In this notebook, we got an introduction to making time-series plots with plotly. We were able to accomplish quite a lot, even without getting into all the details. This is because plotly is smart enough to interpret our data and figure out the details without our input. Ultimately, this makes us much more productive as data scientists because we can spend more time investigating the data and less time figuring out the particulars of a plot. \n",
    "\n",
    "There are many more capabilities in plotly, so check out [the documentation](https://plot.ly/python/) for more. [Dash](https://dash.plot.ly/), created by plotly, can even be used to build web applications with Python code.  "
   ]
  },
  {
   "cell_type": "code",
   "execution_count": null,
   "metadata": {},
   "outputs": [],
   "source": []
  }
 ],
 "metadata": {
  "hide_input": false,
  "kernelspec": {
   "display_name": "Python 3",
   "language": "python",
   "name": "python3"
  },
  "language_info": {
   "codemirror_mode": {
    "name": "ipython",
    "version": 3
   },
   "file_extension": ".py",
   "mimetype": "text/x-python",
   "name": "python",
   "nbconvert_exporter": "python",
   "pygments_lexer": "ipython3",
   "version": "3.7.2"
  },
  "toc": {
   "base_numbering": 1,
   "nav_menu": {},
   "number_sections": true,
   "sideBar": true,
   "skip_h1_title": false,
   "title_cell": "Table of Contents",
   "title_sidebar": "Contents",
   "toc_cell": true,
   "toc_position": {
    "height": "calc(100% - 180px)",
    "left": "10px",
    "top": "150px",
    "width": "305.455px"
   },
   "toc_section_display": true,
   "toc_window_display": true
  },
  "varInspector": {
   "cols": {
    "lenName": 16,
    "lenType": 16,
    "lenVar": 40
   },
   "kernels_config": {
    "python": {
     "delete_cmd_postfix": "",
     "delete_cmd_prefix": "del ",
     "library": "var_list.py",
     "varRefreshCmd": "print(var_dic_list())"
    },
    "r": {
     "delete_cmd_postfix": ") ",
     "delete_cmd_prefix": "rm(",
     "library": "var_list.r",
     "varRefreshCmd": "cat(var_dic_list()) "
    }
   },
   "types_to_exclude": [
    "module",
    "function",
    "builtin_function_or_method",
    "instance",
    "_Feature"
   ],
   "window_display": false
  }
 },
 "nbformat": 4,
 "nbformat_minor": 2
}
