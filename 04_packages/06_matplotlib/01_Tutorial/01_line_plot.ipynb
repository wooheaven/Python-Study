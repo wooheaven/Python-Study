{
 "cells": [
  {
   "cell_type": "code",
   "execution_count": 1,
   "metadata": {},
   "outputs": [
    {
     "name": "stdout",
     "output_type": "stream",
     "text": [
      "3.0.3\n"
     ]
    }
   ],
   "source": [
    "import matplotlib\n",
    "import matplotlib.pyplot as plt\n",
    "print(matplotlib.__version__)"
   ]
  },
  {
   "cell_type": "code",
   "execution_count": 2,
   "metadata": {},
   "outputs": [],
   "source": [
    "# interative\n",
    "# %matplotlib nbagg \n",
    "# not interative\n",
    "%matplotlib inline "
   ]
  },
  {
   "cell_type": "code",
   "execution_count": 3,
   "metadata": {},
   "outputs": [],
   "source": [
    "import pandas as pd\n",
    "import numpy as np"
   ]
  },
  {
   "cell_type": "code",
   "execution_count": 4,
   "metadata": {},
   "outputs": [
    {
     "data": {
      "text/plain": [
       "0     1.802544\n",
       "10    1.491733\n",
       "20    2.213561\n",
       "30    3.315942\n",
       "40    1.179128\n",
       "50    1.883871\n",
       "60    1.374380\n",
       "70    1.305639\n",
       "80    2.190546\n",
       "90    1.602342\n",
       "dtype: float64"
      ]
     },
     "execution_count": 4,
     "metadata": {},
     "output_type": "execute_result"
    }
   ],
   "source": [
    "s = pd.Series(np.random.randn(10).cumsum(), index=np.arange(0, 100, 10))\n",
    "s"
   ]
  },
  {
   "cell_type": "code",
   "execution_count": 5,
   "metadata": {},
   "outputs": [
    {
     "data": {
      "text/plain": [
       "<matplotlib.axes._subplots.AxesSubplot at 0x115693668>"
      ]
     },
     "execution_count": 5,
     "metadata": {},
     "output_type": "execute_result"
    },
    {
     "data": {
      "image/png": "[encoded data removed]",
      "text/plain": [
       "<Figure size 432x288 with 1 Axes>"
      ]
     },
     "metadata": {
      "needs_background": "light"
     },
     "output_type": "display_data"
    }
   ],
   "source": [
    "s.plot()"
   ]
  },
  {
   "cell_type": "code",
   "execution_count": 6,
   "metadata": {},
   "outputs": [
    {
     "data": {
      "text/html": [
       "<div>\n",
       "<style scoped>\n",
       "    .dataframe tbody tr th:only-of-type {\n",
       "        vertical-align: middle;\n",
       "    }\n",
       "\n",
       "    .dataframe tbody tr th {\n",
       "        vertical-align: top;\n",
       "    }\n",
       "\n",
       "    .dataframe thead th {\n",
       "        text-align: right;\n",
       "    }\n",
       "</style>\n",
       "<table border=\"1\" class=\"dataframe\">\n",
       "  <thead>\n",
       "    <tr style=\"text-align: right;\">\n",
       "      <th></th>\n",
       "      <th>A</th>\n",
       "      <th>B</th>\n",
       "      <th>C</th>\n",
       "      <th>D</th>\n",
       "    </tr>\n",
       "  </thead>\n",
       "  <tbody>\n",
       "    <tr>\n",
       "      <th>0</th>\n",
       "      <td>0.802990</td>\n",
       "      <td>0.181566</td>\n",
       "      <td>0.436357</td>\n",
       "      <td>0.723267</td>\n",
       "    </tr>\n",
       "    <tr>\n",
       "      <th>10</th>\n",
       "      <td>1.705474</td>\n",
       "      <td>0.260669</td>\n",
       "      <td>0.178802</td>\n",
       "      <td>-0.176384</td>\n",
       "    </tr>\n",
       "    <tr>\n",
       "      <th>20</th>\n",
       "      <td>1.347947</td>\n",
       "      <td>0.669462</td>\n",
       "      <td>0.406950</td>\n",
       "      <td>0.701972</td>\n",
       "    </tr>\n",
       "    <tr>\n",
       "      <th>30</th>\n",
       "      <td>1.056961</td>\n",
       "      <td>0.372216</td>\n",
       "      <td>0.163413</td>\n",
       "      <td>-1.247044</td>\n",
       "    </tr>\n",
       "    <tr>\n",
       "      <th>40</th>\n",
       "      <td>2.480560</td>\n",
       "      <td>2.144658</td>\n",
       "      <td>0.422920</td>\n",
       "      <td>-2.681869</td>\n",
       "    </tr>\n",
       "    <tr>\n",
       "      <th>50</th>\n",
       "      <td>4.001846</td>\n",
       "      <td>0.643989</td>\n",
       "      <td>2.159024</td>\n",
       "      <td>-3.858918</td>\n",
       "    </tr>\n",
       "    <tr>\n",
       "      <th>60</th>\n",
       "      <td>4.818481</td>\n",
       "      <td>0.947429</td>\n",
       "      <td>3.868845</td>\n",
       "      <td>-3.871718</td>\n",
       "    </tr>\n",
       "    <tr>\n",
       "      <th>70</th>\n",
       "      <td>4.403124</td>\n",
       "      <td>3.192959</td>\n",
       "      <td>2.761656</td>\n",
       "      <td>-3.832888</td>\n",
       "    </tr>\n",
       "    <tr>\n",
       "      <th>80</th>\n",
       "      <td>4.648284</td>\n",
       "      <td>2.401194</td>\n",
       "      <td>3.463225</td>\n",
       "      <td>-2.714306</td>\n",
       "    </tr>\n",
       "    <tr>\n",
       "      <th>90</th>\n",
       "      <td>4.913045</td>\n",
       "      <td>1.926059</td>\n",
       "      <td>3.368858</td>\n",
       "      <td>-3.697283</td>\n",
       "    </tr>\n",
       "  </tbody>\n",
       "</table>\n",
       "</div>"
      ],
      "text/plain": [
       "           A         B         C         D\n",
       "0   0.802990  0.181566  0.436357  0.723267\n",
       "10  1.705474  0.260669  0.178802 -0.176384\n",
       "20  1.347947  0.669462  0.406950  0.701972\n",
       "30  1.056961  0.372216  0.163413 -1.247044\n",
       "40  2.480560  2.144658  0.422920 -2.681869\n",
       "50  4.001846  0.643989  2.159024 -3.858918\n",
       "60  4.818481  0.947429  3.868845 -3.871718\n",
       "70  4.403124  3.192959  2.761656 -3.832888\n",
       "80  4.648284  2.401194  3.463225 -2.714306\n",
       "90  4.913045  1.926059  3.368858 -3.697283"
      ]
     },
     "execution_count": 6,
     "metadata": {},
     "output_type": "execute_result"
    }
   ],
   "source": [
    "d = pd.DataFrame(np.random.randn(10, 4).cumsum(axis=0), \n",
    "                 columns=[\"A\", \"B\", \"C\", \"D\"], \n",
    "                 index=np.arange(0, 100, 10))\n",
    "d"
   ]
  },
  {
   "cell_type": "code",
   "execution_count": 7,
   "metadata": {},
   "outputs": [
    {
     "data": {
      "text/plain": [
       "<matplotlib.axes._subplots.AxesSubplot at 0x1177bb2e8>"
      ]
     },
     "execution_count": 7,
     "metadata": {},
     "output_type": "execute_result"
    },
    {
     "data": {
      "image/png": "[encoded data removed]",
      "text/plain": [
       "<Figure size 432x288 with 1 Axes>"
      ]
     },
     "metadata": {
      "needs_background": "light"
     },
     "output_type": "display_data"
    }
   ],
   "source": [
    "d.plot()"
   ]
  }
 ],
 "metadata": {
  "kernelspec": {
   "display_name": "Python 3",
   "language": "python",
   "name": "python3"
  },
  "language_info": {
   "codemirror_mode": {
    "name": "ipython",
    "version": 3
   },
   "file_extension": ".py",
   "mimetype": "text/x-python",
   "name": "python",
   "nbconvert_exporter": "python",
   "pygments_lexer": "ipython3",
   "version": "3.7.2"
  }
 },
 "nbformat": 4,
 "nbformat_minor": 2
}
