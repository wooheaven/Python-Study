{
 "cells": [
  {
   "cell_type": "code",
   "execution_count": 1,
   "metadata": {},
   "outputs": [],
   "source": [
    "!touch 1.txt"
   ]
  },
  {
   "cell_type": "code",
   "execution_count": 2,
   "metadata": {},
   "outputs": [],
   "source": [
    "!mkdir tmp"
   ]
  },
  {
   "cell_type": "code",
   "execution_count": 3,
   "metadata": {},
   "outputs": [
    {
     "name": "stdout",
     "output_type": "stream",
     "text": [
      "total 40\r\n",
      "4 drwxrwxr-x  4 ubuntu ubuntu 4096  6월 13 13:02 .\r\n",
      "4 drwxrwxr-x 16 ubuntu ubuntu 4096  6월 13 12:38 ..\r\n",
      "4 -rw-rw-r--  1 ubuntu ubuntu 1619  6월 10 20:27 01_os.chmod_of_file.ipynb\r\n",
      "4 -rw-rw-r--  1 ubuntu ubuntu 2491  6월 13 12:38 02_os.path.exists_of_file.ipynb\r\n",
      "4 -rw-rw-r--  1 ubuntu ubuntu 2218  6월 13 12:53 03_os.path.exists_of_folder.ipynb\r\n",
      "4 -rw-rw-r--  1 ubuntu ubuntu 1955  6월 13 12:38 04_os.path.isfile_of_file.ipynb\r\n",
      "4 -rw-rw-r--  1 ubuntu ubuntu 2725  6월 13 12:46 05_os.remove_of_file.ipynb\r\n",
      "0 -rw-rw-r--  1 ubuntu ubuntu    0  6월 13 13:02 1.txt\r\n",
      "4 drwxrwxr-x  2 ubuntu ubuntu 4096  6월 13 12:51 .ipynb_checkpoints\r\n",
      "4 -rwxrwxr-x  1 ubuntu ubuntu  489  6월 13 12:38 reNumberFiles.sh\r\n",
      "4 drwxrwxr-x  2 ubuntu ubuntu 4096  6월 13 13:02 tmp\r\n"
     ]
    }
   ],
   "source": [
    "!ls -als"
   ]
  },
  {
   "cell_type": "code",
   "execution_count": 4,
   "metadata": {},
   "outputs": [],
   "source": [
    "import os"
   ]
  },
  {
   "cell_type": "code",
   "execution_count": 5,
   "metadata": {},
   "outputs": [
    {
     "data": {
      "text/plain": [
       "True"
      ]
     },
     "execution_count": 5,
     "metadata": {},
     "output_type": "execute_result"
    }
   ],
   "source": [
    "os.path.exists(\"1.txt\")"
   ]
  },
  {
   "cell_type": "code",
   "execution_count": 6,
   "metadata": {},
   "outputs": [
    {
     "data": {
      "text/plain": [
       "True"
      ]
     },
     "execution_count": 6,
     "metadata": {},
     "output_type": "execute_result"
    }
   ],
   "source": [
    "os.path.exists(\"tmp\")"
   ]
  },
  {
   "cell_type": "code",
   "execution_count": 7,
   "metadata": {},
   "outputs": [],
   "source": [
    "!rm 1.txt"
   ]
  },
  {
   "cell_type": "code",
   "execution_count": 8,
   "metadata": {},
   "outputs": [
    {
     "data": {
      "text/plain": [
       "False"
      ]
     },
     "execution_count": 8,
     "metadata": {},
     "output_type": "execute_result"
    }
   ],
   "source": [
    "os.path.exists(\"1.txt\")"
   ]
  },
  {
   "cell_type": "code",
   "execution_count": 9,
   "metadata": {},
   "outputs": [],
   "source": [
    "!rm -rf tmp"
   ]
  },
  {
   "cell_type": "code",
   "execution_count": 10,
   "metadata": {},
   "outputs": [
    {
     "data": {
      "text/plain": [
       "False"
      ]
     },
     "execution_count": 10,
     "metadata": {},
     "output_type": "execute_result"
    }
   ],
   "source": [
    "os.path.exists(\"tmp\")"
   ]
  }
 ],
 "metadata": {
  "kernelspec": {
   "display_name": "Python 3",
   "language": "python",
   "name": "python3"
  },
  "language_info": {
   "codemirror_mode": {
    "name": "ipython",
    "version": 3
   },
   "file_extension": ".py",
   "mimetype": "text/x-python",
   "name": "python",
   "nbconvert_exporter": "python",
   "pygments_lexer": "ipython3",
   "version": "3.7.3"
  }
 },
 "nbformat": 4,
 "nbformat_minor": 2
}
