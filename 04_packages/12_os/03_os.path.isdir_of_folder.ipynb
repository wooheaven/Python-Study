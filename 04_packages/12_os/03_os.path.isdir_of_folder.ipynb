{
 "cells": [
  {
   "cell_type": "code",
   "execution_count": 1,
   "metadata": {},
   "outputs": [],
   "source": [
    "!mkdir tmp"
   ]
  },
  {
   "cell_type": "code",
   "execution_count": 2,
   "metadata": {},
   "outputs": [
    {
     "name": "stdout",
     "output_type": "stream",
     "text": [
      "total 40\r\n",
      "4 drwxrwxr-x  4 ubuntu ubuntu 4096  6월 13 13:09 .\r\n",
      "4 drwxrwxr-x 16 ubuntu ubuntu 4096  6월 13 12:38 ..\r\n",
      "4 -rw-rw-r--  1 ubuntu ubuntu 1619  6월 10 20:27 01_os.chmod_of_file.ipynb\r\n",
      "4 -rw-rw-r--  1 ubuntu ubuntu 3499  6월 13 13:02 02_os.path.exists_of_file_and_folder.ipynb\r\n",
      "4 -rw-rw-r--  1 ubuntu ubuntu 2218  6월 13 12:53 03_os.path.isdir_of_folder.ipynb\r\n",
      "4 -rw-rw-r--  1 ubuntu ubuntu 1955  6월 13 12:38 04_os.path.isfile_of_file.ipynb\r\n",
      "4 -rw-rw-r--  1 ubuntu ubuntu 2725  6월 13 12:46 05_os.remove_of_file.ipynb\r\n",
      "4 drwxrwxr-x  2 ubuntu ubuntu 4096  6월 13 13:02 .ipynb_checkpoints\r\n",
      "4 -rwxrwxr-x  1 ubuntu ubuntu  489  6월 13 12:38 reNumberFiles.sh\r\n",
      "4 drwxrwxr-x  2 ubuntu ubuntu 4096  6월 13 13:09 tmp\r\n"
     ]
    }
   ],
   "source": [
    "!ls -als"
   ]
  },
  {
   "cell_type": "code",
   "execution_count": 3,
   "metadata": {},
   "outputs": [],
   "source": [
    "import os"
   ]
  },
  {
   "cell_type": "code",
   "execution_count": 4,
   "metadata": {},
   "outputs": [
    {
     "data": {
      "text/plain": [
       "True"
      ]
     },
     "execution_count": 4,
     "metadata": {},
     "output_type": "execute_result"
    }
   ],
   "source": [
    "os.path.isdir(\"tmp\")"
   ]
  },
  {
   "cell_type": "code",
   "execution_count": 5,
   "metadata": {},
   "outputs": [],
   "source": [
    "!rm -rf tmp"
   ]
  }
 ],
 "metadata": {
  "kernelspec": {
   "display_name": "Python 3",
   "language": "python",
   "name": "python3"
  },
  "language_info": {
   "codemirror_mode": {
    "name": "ipython",
    "version": 3
   },
   "file_extension": ".py",
   "mimetype": "text/x-python",
   "name": "python",
   "nbconvert_exporter": "python",
   "pygments_lexer": "ipython3",
   "version": "3.7.3"
  }
 },
 "nbformat": 4,
 "nbformat_minor": 2
}
