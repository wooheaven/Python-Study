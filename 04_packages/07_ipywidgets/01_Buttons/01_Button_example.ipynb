{
 "cells": [
  {
   "cell_type": "markdown",
   "metadata": {},
   "source": [
    "# Docs = https://ipywidgets.readthedocs.io/en/stable/index.html"
   ]
  },
  {
   "cell_type": "code",
   "execution_count": 1,
   "metadata": {},
   "outputs": [
    {
     "name": "stdout",
     "output_type": "stream",
     "text": [
      "Enabling notebook extension jupyter-js-widgets/extension...\r\n",
      "      - Validating: \u001b[32mOK\u001b[0m\r\n"
     ]
    }
   ],
   "source": [
    "!pip install -U -q ipywidgets\n",
    "!jupyter nbextension enable --py widgetsnbextension"
   ]
  },
  {
   "cell_type": "code",
   "execution_count": 2,
   "metadata": {},
   "outputs": [],
   "source": [
    "# some handy functions to use along widgets\n",
    "from IPython.display import display, Markdown, clear_output"
   ]
  },
  {
   "cell_type": "code",
   "execution_count": 3,
   "metadata": {},
   "outputs": [],
   "source": [
    "# widget packages\n",
    "import ipywidgets as widgets"
   ]
  },
  {
   "cell_type": "code",
   "execution_count": 4,
   "metadata": {},
   "outputs": [],
   "source": [
    "# defining some widgets\n",
    "text = widgets.Text(\n",
    "       value='My Text',\n",
    "       description='Title', )\n",
    "calendar = widgets.DatePicker(\n",
    "           description='Pick a Date')\n",
    "slider = widgets.FloatSlider(\n",
    "         value=1,\n",
    "         min=0,\n",
    "         max=10.0,\n",
    "         step=0.1,)\n",
    "menu = widgets.Dropdown(\n",
    "       options=['red', 'blue', 'green'],\n",
    "       value='red',\n",
    "       description='Color:')\n",
    "checkbox = widgets.Checkbox(\n",
    "           description='Check to invert')"
   ]
  },
  {
   "cell_type": "code",
   "execution_count": 5,
   "metadata": {},
   "outputs": [
    {
     "data": {
      "application/vnd.jupyter.widget-view+json": {
       "model_id": "09a9d011917b41fba814032eeb75a820",
       "version_major": 2,
       "version_minor": 0
      },
      "text/plain": [
       "VBox(children=(Text(value='My Text', description='Title'), FloatSlider(value=1.0, max=10.0), Dropdown(descript…"
      ]
     },
     "metadata": {},
     "output_type": "display_data"
    }
   ],
   "source": [
    "box = widgets.VBox([text, slider, menu, calendar, checkbox ])\n",
    "box"
   ]
  },
  {
   "cell_type": "code",
   "execution_count": 6,
   "metadata": {},
   "outputs": [
    {
     "data": {
      "application/vnd.jupyter.widget-view+json": {
       "model_id": "44080de3624c48d7ac77e7eefcea0f5d",
       "version_major": 2,
       "version_minor": 0
      },
      "text/plain": [
       "HBox(children=(VBox(children=(Text(value='My Text', description='Title'), FloatSlider(value=1.0, max=10.0), Dr…"
      ]
     },
     "metadata": {},
     "output_type": "display_data"
    }
   ],
   "source": [
    "widgets.HBox([box, box])"
   ]
  },
  {
   "cell_type": "code",
   "execution_count": 7,
   "metadata": {},
   "outputs": [
    {
     "data": {
      "application/vnd.jupyter.widget-view+json": {
       "model_id": "f42039ae12374330b7df21dc6f232f7e",
       "version_major": 2,
       "version_minor": 0
      },
      "text/plain": [
       "Tab(children=(VBox(children=(Text(value='My Text', description='Title'), FloatSlider(value=1.0, max=10.0), Dro…"
      ]
     },
     "metadata": {},
     "output_type": "display_data"
    }
   ],
   "source": [
    "# defining a list with the contents of our windows\n",
    "children = [box, box]\n",
    "# initializing a tab\n",
    "tab = widgets.Tab()\n",
    "# setting the tab windows \n",
    "tab.children = children\n",
    "# changing the title of the first and second window\n",
    "tab.set_title(0, 'box')\n",
    "tab.set_title(1, 'copy of box')\n",
    "tab"
   ]
  },
  {
   "cell_type": "code",
   "execution_count": 8,
   "metadata": {},
   "outputs": [],
   "source": [
    "menu.options = ['red', 'blue', 'green', 'black']"
   ]
  },
  {
   "cell_type": "code",
   "execution_count": 9,
   "metadata": {},
   "outputs": [
    {
     "name": "stdout",
     "output_type": "stream",
     "text": [
      "Widget text has value My Text, of <class 'str'>\n",
      "Widget checkbox has value False, of <class 'bool'>\n",
      "Widget calendar has value None, of <class 'NoneType'>\n"
     ]
    }
   ],
   "source": [
    "# current value of text, checkbox and calendar \n",
    "print('Widget text has value {}, of {}'.format(text.value, type(text.value)))\n",
    "print('Widget checkbox has value {}, of {}'.format(checkbox.value, type(checkbox.value)))\n",
    "print('Widget calendar has value {}, of {}'.format(calendar.value, type(calendar.value)))"
   ]
  },
  {
   "cell_type": "code",
   "execution_count": 10,
   "metadata": {},
   "outputs": [
    {
     "data": {
      "image/png": "[encoded data removed]",
      "text/plain": [
       "<Figure size 432x288 with 1 Axes>"
      ]
     },
     "metadata": {
      "needs_background": "light"
     },
     "output_type": "display_data"
    }
   ],
   "source": [
    "# We'll use the value of menu to display a plot and its title\n",
    "import matplotlib.pyplot as plt\n",
    "%matplotlib inline\n",
    "\n",
    "plt.plot([1,2,3], color = menu.value)\n",
    "plt.title('A {} line'.format(menu.value))\n",
    "plt.show()"
   ]
  },
  {
   "cell_type": "code",
   "execution_count": 11,
   "metadata": {},
   "outputs": [
    {
     "data": {
      "application/vnd.jupyter.widget-view+json": {
       "model_id": "270b5202ee32498e999118c71f133173",
       "version_major": 2,
       "version_minor": 0
      },
      "text/plain": [
       "Button(description='My Button', style=ButtonStyle())"
      ]
     },
     "metadata": {},
     "output_type": "display_data"
    }
   ],
   "source": [
    "button = widgets.Button(description='My Button')\n",
    "button"
   ]
  },
  {
   "cell_type": "code",
   "execution_count": 12,
   "metadata": {},
   "outputs": [
    {
     "data": {
      "application/vnd.jupyter.widget-view+json": {
       "model_id": "04afbaa3337d46ddb32bf3bcf7291dd6",
       "version_major": 2,
       "version_minor": 0
      },
      "text/plain": [
       "VBox(children=(Button(description='My Button', style=ButtonStyle()), Output()))"
      ]
     },
     "metadata": {},
     "output_type": "display_data"
    }
   ],
   "source": [
    "button = widgets.Button(description='My Button')\n",
    "out = widgets.Output()\n",
    "\n",
    "import datetime\n",
    "def on_button_clicked(_):\n",
    "      # \"linking function with output\"\n",
    "      with out:\n",
    "          # what happens when we press the button\n",
    "          clear_output()\n",
    "          print('Something happens! ' + str(datetime.datetime.now()))\n",
    "# linking button and function together using a button's method\n",
    "button.on_click(on_button_clicked)\n",
    "# displaying button and its output together\n",
    "widgets.VBox([button,out])"
   ]
  },
  {
   "cell_type": "code",
   "execution_count": 13,
   "metadata": {},
   "outputs": [
    {
     "data": {
      "application/vnd.jupyter.widget-view+json": {
       "model_id": "10396bd6ba6f4322953487ebffc8b28c",
       "version_major": 2,
       "version_minor": 0
      },
      "text/plain": [
       "Output()"
      ]
     },
     "metadata": {},
     "output_type": "display_data"
    }
   ],
   "source": [
    "from IPython.display import Markdown\n",
    "# Using output to display Markdown\n",
    "markdown_out = widgets.Output()\n",
    "with markdown_out:\n",
    "    display(Markdown('Slider value is ${}$'.format(slider.value)))\n",
    "markdown_out"
   ]
  },
  {
   "cell_type": "code",
   "execution_count": 14,
   "metadata": {},
   "outputs": [
    {
     "data": {
      "application/vnd.jupyter.widget-view+json": {
       "model_id": "8d9c14d4b5dc443e87dcd3981fa14211",
       "version_major": 2,
       "version_minor": 0
      },
      "text/plain": [
       "VBox(children=(Dropdown(description='USER-ID:', options=(1, 2, 3, 4, 5, 6, 7, 8, 9, 10, 11, 12, 13, 14, 15, 16…"
      ]
     },
     "metadata": {},
     "output_type": "display_data"
    }
   ],
   "source": [
    "import pandas as pd\n",
    "import math\n",
    "import ipywidgets as widgets\n",
    "from IPython.display import display, clear_output, Markdown\n",
    "df = pd.read_csv('https://raw.githubusercontent.com/diegopenilla/Some_Data/master/Downloads/trainingData.csv')\n",
    "\n",
    "# DROPDOWN MENU FOR SELECTING USER-ID\n",
    "users = widgets.Dropdown(\n",
    "    options=list(set(df['USERID'])),\n",
    "    value=1,\n",
    "    description='USER-ID:',\n",
    "    disabled=False)\n",
    "\n",
    "dicti = {} # Initialize dictionary for holding {building(s): floor(s)} for each user.\n",
    "# Button to display info about user\n",
    "buttonuser_info = widgets.Button(description='Show Info')\n",
    "outuser_info = widgets.Output()\n",
    "def on_buttonuser_info_clicked(b):\n",
    "    with outuser_info:\n",
    "        clear_output()\n",
    "        selection = df[df['USERID']==users.value]\n",
    "        visited_places = len(set(selection['SPACEID']))\n",
    "        dicti = {i: 0 for i in list(set(selection['BUILDINGID']))}\n",
    "        for key, val in dicti.items():\n",
    "            dicti[key] = list(set(df.loc[(df[\"USERID\"] ==users.value) & (df[\"BUILDINGID\"] == key), \"FLOOR\"]))\n",
    "        # Extract distance travelled \n",
    "        lat = list(selection[\"LATITUDE\"])\n",
    "        long = list(selection[\"LONGITUDE\"])\n",
    "        # Calculate distance between one point and the next\n",
    "        total = []\n",
    "        for latitude, longitude in zip(lat, long):\n",
    "            total.append((latitude, longitude))\n",
    "        rez = []\n",
    "        # computing distance as the distance between the coordinates x,y from one point to the next.\n",
    "        # (we sorted our dataframe by time, and now we are accesing data from a user)\n",
    "        for i in range(len(total)-1):\n",
    "            rez.append(math.hypot(total[i+1][0] - total[i][0], total[i+1][1] - total[i][1]))   \n",
    "        distance_travelled = sum(rez)\n",
    "        # display, the information in Markdown to make it look better.\n",
    "        display(Markdown('''For User {}, there are ${}$ observations from ${}$ WAP (*Wireless Access Points*)\n",
    "- Beginning in {} and ending in {}\n",
    "- Using smartphone {}\n",
    "- The user travelled {:.2f} $m$ (does not take into account vertical movemement, change of floors)\n",
    "- Visited places {}\n",
    "- In {} locations with different SPACEID'''.format(users.value, selection.shape[0], selection.shape[1]-9,         \n",
    "                                                   str(selection['TIMESTAMP'].min()), str(selection['TIMESTAMP'].max()),\n",
    "                                                   str(list(set(selection['PHONEID']))[0]), distance_travelled,\n",
    "                                                   str(dicti),len(set(selection['SPACEID'])))))\n",
    "# Links button: buttonuser_info to its output function      \n",
    "buttonuser_info.on_click(on_buttonuser_info_clicked)\n",
    "# Display\n",
    "display(widgets.VBox([users,buttonuser_info, outuser_info]))"
   ]
  },
  {
   "cell_type": "code",
   "execution_count": 15,
   "metadata": {},
   "outputs": [
    {
     "data": {
      "text/markdown": [
       "# 2D/3D Grapher\n",
       "- Write down the equation you want to plot in the Equation window. \n",
       "- If only $X$ or $Y$ is defined in the equation a 2D plot will be shown.\n",
       "- If $Y$ and $X$ are defined a 3D plot will be shown.\n",
       "- Detail specifies the number of points created between the specified range."
      ],
      "text/plain": [
       "<IPython.core.display.Markdown object>"
      ]
     },
     "metadata": {},
     "output_type": "display_data"
    },
    {
     "data": {
      "application/vnd.jupyter.widget-view+json": {
       "model_id": "19ea5116051649c793464751a1a063ce",
       "version_major": 2,
       "version_minor": 0
      },
      "text/plain": [
       "VBox(children=(IntText(value=50, description='Detail:'), FloatRangeSlider(value=(-5.0, 5.0), description='rang…"
      ]
     },
     "metadata": {},
     "output_type": "display_data"
    }
   ],
   "source": [
    "from IPython.core.display import display, HTML, Markdown, clear_output\n",
    "import json\n",
    "import numpy as np\n",
    "import matplotlib.pyplot as plt\n",
    "import ipywidgets as widgets\n",
    "\n",
    "# Defining Widgets: \n",
    "equation = widgets.Text(\n",
    "            value='np.sin(X*Y)+np.cos(X+Y)',\n",
    "            placeholder='Type something',\n",
    "            description='Equation:')\n",
    "range_ = widgets.FloatRangeSlider(\n",
    "    value=[-5, 5],\n",
    "    min=-100,\n",
    "    step=0.1,\n",
    "    description='range:',\n",
    "    orientation='horizontal',\n",
    "    readout=True,\n",
    "    readout_format='d',)\n",
    "points = widgets.IntText(\n",
    "    value=50,\n",
    "    description='Detail:')\n",
    "\n",
    "# DEFINING FUNCTIONS\n",
    "def plot2D(x_points):\n",
    "    # I find where the letter X is in my equation text and replace by placeholders {}\n",
    "    number_of_placeholders = equation.value.count('X')\n",
    "    decomposed_equation = equation.value.replace('X', '{}')\n",
    "    y = []\n",
    "    for point in x_points:\n",
    "        dicti = {i: point for i in range(number_of_placeholders)}\n",
    "        decomposed_eq = decomposed_equation.format(*dicti.values())   \n",
    "        # WARNING: couldn't figure out any other way, let me know if you know\n",
    "        exec(\"\"\"global res\n",
    "res = {}\"\"\".format(decomposed_eq))\n",
    "        y.append(res)\n",
    "    plt.plot(x_points, y)\n",
    "    plt.show()\n",
    "\n",
    "def plot3D(X, Y, Z):\n",
    "    options = {\n",
    "        \"width\": \"100%\",\n",
    "        \"style\": \"surface\",\n",
    "        \"showPerspective\": True,\n",
    "        \"showGrid\": True,\n",
    "        \"showShadow\": True,\n",
    "        \"keepAspectRatio\": False,\n",
    "        \"height\": \"600px\"}\n",
    "     # LOADING DATA\n",
    "    data = [ {\"x\": X[y,x], \n",
    "              \"y\": Y[y,x], \n",
    "              \"z\": Z[y,x]} for y in range(Y.shape[0]) for x in range(Y.shape[1]) ]  \n",
    "    visual_code = r\"\"\"\n",
    "       <link href=\"https://cdnjs.cloudflare.com/ajax/libs/vis/4.21.0/vis.min.css\" type=\"text/css\" rel=\"stylesheet\" />\n",
    "       <script src=\"https://cdnjs.cloudflare.com/ajax/libs/vis/4.21.0/vis.min.js\"></script>\n",
    "       <div id=\"pos\" style=\"top:0px;left:0px;position:absolute;\"></div>\n",
    "       <div id=\"visualization\"></div>      \n",
    "       <script type=\"text/javascript\">\n",
    "        var data = new vis.DataSet();\n",
    "        data.add(\"\"\" + json.dumps(data) + \"\"\");\n",
    "        var options = \"\"\" + json.dumps(options) + \"\"\";\n",
    "        var container = document.getElementById(\"visualization\");\n",
    "        var graph3d = new vis.Graph3d(container, data, options);\n",
    "        // setting the camera position initial\n",
    "        graph3d.setCameraPosition({horizontal:0.8197963, vertical:0.945, distance:1.988})\n",
    "        graph3d.on(\"cameraPositionChange\", function(evt)\n",
    "        {\n",
    "            elem = document.getElementById(\"pos\");\n",
    "            elem.innerHTML = \"Horizontal: \" + evt.horizontal + \"<br>Vertical: \" + evt.vertical + \"<br>Camera Distance: \" + evt.distance;\n",
    "        });\n",
    "       </script>\n",
    "    \"\"\"\n",
    "    html= \"<iframe srcdoc='\"+visual_code+\"' width='75%' height='600px' style='border:10;' scrolling='no'> </iframe>\"\n",
    "    display(HTML(html))\n",
    "    \n",
    "# CREATING BUTTON\n",
    "# if X and Y are inside equation.value we run plot3D\n",
    "# otherwise we run plot2D\n",
    "button = widgets.Button(description='Reveal Equation')\n",
    "out = widgets.Output()\n",
    "def on_button_clicked(b):\n",
    "    global X, Y\n",
    "    with out:\n",
    "        clear_output()    \n",
    "        # computing the x points to evaluate our function\n",
    "        x_points = np.linspace(range_.value[0], \n",
    "            range_.value[1], points.value)\n",
    "        X, Y = np.meshgrid(x_points, x_points)\n",
    "        # WARNING: couldn't figure out any other way, let me know if you know\n",
    "        exec(\"\"\"global Z\n",
    "Z = {}\n",
    "\"\"\".format(equation.value))\n",
    "        if 'Y' in equation.value and 'X' in equation.value:\n",
    "            plot3D(X,Y,Z)\n",
    "        elif 'Y' in equation.value:\n",
    "            equation.value = equation.value.replace('Y', 'X')\n",
    "            plot2D(x_points)\n",
    "        else:\n",
    "            plot2D(x_points)    \n",
    "button.on_click(on_button_clicked)\n",
    "info = Markdown(\"\"\"# 2D/3D Grapher\n",
    "- Write down the equation you want to plot in the Equation window. \n",
    "- If only $X$ or $Y$ is defined in the equation a 2D plot will be shown.\n",
    "- If $Y$ and $X$ are defined a 3D plot will be shown.\n",
    "- Detail specifies the number of points created between the specified range.\"\"\")\n",
    "grapher = widgets.VBox([points, range_,  equation, button, out])\n",
    "display(info, grapher)\n"
   ]
  },
  {
   "cell_type": "markdown",
   "metadata": {},
   "source": [
    "## You can use this to execute the code of other notebooks in the environment of your current notebook by %run widgets.ipynb"
   ]
  },
  {
   "cell_type": "code",
   "execution_count": null,
   "metadata": {},
   "outputs": [],
   "source": []
  }
 ],
 "metadata": {
  "kernelspec": {
   "display_name": "Python 3",
   "language": "python",
   "name": "python3"
  },
  "language_info": {
   "codemirror_mode": {
    "name": "ipython",
    "version": 3
   },
   "file_extension": ".py",
   "mimetype": "text/x-python",
   "name": "python",
   "nbconvert_exporter": "python",
   "pygments_lexer": "ipython3",
   "version": "3.8.5"
  }
 },
 "nbformat": 4,
 "nbformat_minor": 2
}
