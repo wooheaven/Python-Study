{
 "cells": [
  {
   "cell_type": "code",
   "execution_count": 1,
   "metadata": {},
   "outputs": [],
   "source": [
    "import glob"
   ]
  },
  {
   "cell_type": "code",
   "execution_count": 2,
   "metadata": {},
   "outputs": [
    {
     "name": "stdout",
     "output_type": "stream",
     "text": [
      "\u001b[01;34m.\u001b[00m\r\n",
      "├── 01_find_folder_and_file_by_glob.ipynb\r\n",
      "└── \u001b[01;34mtest\u001b[00m\r\n",
      "    ├── \u001b[01;34msub1\u001b[00m\r\n",
      "    │   ├── sample1.txt\r\n",
      "    │   └── sample2.txt\r\n",
      "    └── \u001b[01;34msub2\u001b[00m\r\n",
      "        ├── sample3.txt\r\n",
      "        └── sample4.txt\r\n",
      "\r\n",
      "3 directories, 5 files\r\n"
     ]
    }
   ],
   "source": [
    "!tree"
   ]
  },
  {
   "cell_type": "code",
   "execution_count": 3,
   "metadata": {},
   "outputs": [
    {
     "data": {
      "text/plain": [
       "['./test/sub1/', './test/sub2/']"
      ]
     },
     "execution_count": 3,
     "metadata": {},
     "output_type": "execute_result"
    }
   ],
   "source": [
    "glob.glob('./test/sub*/')"
   ]
  },
  {
   "cell_type": "code",
   "execution_count": 4,
   "metadata": {},
   "outputs": [
    {
     "data": {
      "text/plain": [
       "['./test/sub1/sample1.txt',\n",
       " './test/sub1/sample2.txt',\n",
       " './test/sub2/sample3.txt',\n",
       " './test/sub2/sample4.txt']"
      ]
     },
     "execution_count": 4,
     "metadata": {},
     "output_type": "execute_result"
    }
   ],
   "source": [
    "glob.glob('./test/sub*/sample*.txt')"
   ]
  }
 ],
 "metadata": {
  "kernelspec": {
   "display_name": "Python 3",
   "language": "python",
   "name": "python3"
  },
  "language_info": {
   "codemirror_mode": {
    "name": "ipython",
    "version": 3
   },
   "file_extension": ".py",
   "mimetype": "text/x-python",
   "name": "python",
   "nbconvert_exporter": "python",
   "pygments_lexer": "ipython3",
   "version": "3.7.2"
  }
 },
 "nbformat": 4,
 "nbformat_minor": 2
}
