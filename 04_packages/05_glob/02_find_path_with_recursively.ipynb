{
 "cells": [
  {
   "cell_type": "code",
   "execution_count": 1,
   "metadata": {},
   "outputs": [],
   "source": [
    "import glob"
   ]
  },
  {
   "cell_type": "code",
   "execution_count": 2,
   "metadata": {},
   "outputs": [],
   "source": [
    "!mkdir test\n",
    "!mkdir test/sub1\n",
    "!mkdir test/sub1/ssub1\n",
    "!touch test/sub1/ssub1/1.txt\n",
    "!mkdir test/sub2\n",
    "!touch test/sub2/2.txt"
   ]
  },
  {
   "cell_type": "code",
   "execution_count": 3,
   "metadata": {},
   "outputs": [
    {
     "name": "stdout",
     "output_type": "stream",
     "text": [
      "\u001b[01;34m.\u001b[00m\r\n",
      "├── 01_find_folder_and_file_with_pathname.ipynb\r\n",
      "├── 02_find_path_with_recursively.ipynb\r\n",
      "└── \u001b[01;34mtest\u001b[00m\r\n",
      "    ├── \u001b[01;34msub1\u001b[00m\r\n",
      "    │   └── \u001b[01;34mssub1\u001b[00m\r\n",
      "    │       └── 1.txt\r\n",
      "    └── \u001b[01;34msub2\u001b[00m\r\n",
      "        └── 2.txt\r\n",
      "\r\n",
      "4 directories, 4 files\r\n"
     ]
    }
   ],
   "source": [
    "!tree"
   ]
  },
  {
   "cell_type": "code",
   "execution_count": 4,
   "metadata": {},
   "outputs": [
    {
     "data": {
      "text/plain": [
       "['test/sub1', 'test/sub2']"
      ]
     },
     "execution_count": 4,
     "metadata": {},
     "output_type": "execute_result"
    }
   ],
   "source": [
    "glob.glob('test/*')"
   ]
  },
  {
   "cell_type": "code",
   "execution_count": 5,
   "metadata": {},
   "outputs": [
    {
     "data": {
      "text/plain": [
       "['test/',\n",
       " 'test/sub1',\n",
       " 'test/sub1/ssub1',\n",
       " 'test/sub1/ssub1/1.txt',\n",
       " 'test/sub2',\n",
       " 'test/sub2/2.txt']"
      ]
     },
     "execution_count": 5,
     "metadata": {},
     "output_type": "execute_result"
    }
   ],
   "source": [
    "glob.glob('test/**', recursive=True)"
   ]
  },
  {
   "cell_type": "code",
   "execution_count": 6,
   "metadata": {},
   "outputs": [],
   "source": [
    "!rm -rf ./test"
   ]
  }
 ],
 "metadata": {
  "kernelspec": {
   "display_name": "Python 3",
   "language": "python",
   "name": "python3"
  },
  "language_info": {
   "codemirror_mode": {
    "name": "ipython",
    "version": 3
   },
   "file_extension": ".py",
   "mimetype": "text/x-python",
   "name": "python",
   "nbconvert_exporter": "python",
   "pygments_lexer": "ipython3",
   "version": "3.7.3"
  }
 },
 "nbformat": 4,
 "nbformat_minor": 2
}
