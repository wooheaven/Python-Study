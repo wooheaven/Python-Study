{
 "cells": [
  {
   "cell_type": "code",
   "execution_count": 1,
   "metadata": {},
   "outputs": [],
   "source": [
    "import numpy as np"
   ]
  },
  {
   "cell_type": "code",
   "execution_count": 2,
   "metadata": {},
   "outputs": [
    {
     "data": {
      "text/plain": [
       "array([1, 2, 3, 4, 5])"
      ]
     },
     "execution_count": 2,
     "metadata": {},
     "output_type": "execute_result"
    }
   ],
   "source": [
    "x = np.array([1, 2, 3, 4, 5])\n",
    "x"
   ]
  },
  {
   "cell_type": "code",
   "execution_count": 3,
   "metadata": {},
   "outputs": [
    {
     "data": {
      "text/plain": [
       "array([1.        , 1.41421356, 1.73205081, 2.        , 2.23606798])"
      ]
     },
     "execution_count": 3,
     "metadata": {},
     "output_type": "execute_result"
    }
   ],
   "source": [
    "squares = np.array([np.sqrt(xi) for xi in x])\n",
    "squares"
   ]
  },
  {
   "cell_type": "code",
   "execution_count": 4,
   "metadata": {},
   "outputs": [],
   "source": [
    "import perfplot\n",
    "import math"
   ]
  },
  {
   "cell_type": "code",
   "execution_count": 5,
   "metadata": {},
   "outputs": [],
   "source": [
    "def f(x):\n",
    "    # return math.sqrt(x)\n",
    "    return np.sqrt(x)\n",
    "\n",
    "vf = np.vectorize(f)\n",
    "\n",
    "\n",
    "def array_for(x):\n",
    "    return np.array([f(xi) for xi in x])\n",
    "\n",
    "\n",
    "def array_map(x):\n",
    "    return np.array(list(map(f, x)))\n",
    "\n",
    "\n",
    "def fromiter(x):\n",
    "    return np.fromiter((f(xi) for xi in x), x.dtype)\n",
    "\n",
    "\n",
    "def vectorize(x):\n",
    "    return np.vectorize(f)(x)\n",
    "\n",
    "\n",
    "def vectorize_without_init(x):\n",
    "    return vf(x)"
   ]
  },
  {
   "cell_type": "code",
   "execution_count": 6,
   "metadata": {},
   "outputs": [
    {
     "name": "stderr",
     "output_type": "stream",
     "text": [
      "  0%|          | 0/20 [00:00<?, ?it/s]\n",
      "  0%|          | 0/6 [00:00<?, ?it/s]\u001b[A\n",
      " 17%|█▋        | 1/6 [00:00<00:01,  2.87it/s]\u001b[A\n",
      " 33%|███▎      | 2/6 [00:00<00:01,  2.77it/s]\u001b[A\n",
      " 50%|█████     | 3/6 [00:01<00:01,  2.65it/s]\u001b[A\n",
      " 67%|██████▋   | 4/6 [00:01<00:00,  2.56it/s]\u001b[A\n",
      " 83%|████████▎ | 5/6 [00:01<00:00,  2.65it/s]\u001b[A\n",
      "  5%|▌         | 1/20 [00:02<00:41,  2.21s/it][A\n",
      "  0%|          | 0/6 [00:00<?, ?it/s]\u001b[A\n",
      " 17%|█▋        | 1/6 [00:00<00:01,  3.67it/s]\u001b[A\n",
      " 33%|███▎      | 2/6 [00:00<00:01,  3.87it/s]\u001b[A\n",
      " 50%|█████     | 3/6 [00:00<00:00,  3.11it/s]\u001b[A\n",
      " 67%|██████▋   | 4/6 [00:01<00:00,  2.66it/s]\u001b[A\n",
      " 83%|████████▎ | 5/6 [00:01<00:00,  2.75it/s]\u001b[A\n",
      " 10%|█         | 2/20 [00:04<00:38,  2.16s/it][A\n",
      "  0%|          | 0/6 [00:00<?, ?it/s]\u001b[A\n",
      " 17%|█▋        | 1/6 [00:00<00:01,  3.04it/s]\u001b[A\n",
      " 33%|███▎      | 2/6 [00:00<00:01,  3.29it/s]\u001b[A\n",
      " 50%|█████     | 3/6 [00:00<00:00,  3.09it/s]\u001b[A\n",
      " 67%|██████▋   | 4/6 [00:01<00:00,  2.91it/s]\u001b[A\n",
      " 83%|████████▎ | 5/6 [00:01<00:00,  3.29it/s]\u001b[A\n",
      " 15%|█▌        | 3/20 [00:06<00:35,  2.07s/it][A\n",
      "  0%|          | 0/6 [00:00<?, ?it/s]\u001b[A\n",
      " 17%|█▋        | 1/6 [00:00<00:01,  3.06it/s]\u001b[A\n",
      " 33%|███▎      | 2/6 [00:00<00:01,  3.08it/s]\u001b[A\n",
      " 50%|█████     | 3/6 [00:01<00:01,  2.91it/s]\u001b[A\n",
      " 67%|██████▋   | 4/6 [00:01<00:00,  2.73it/s]\u001b[A\n",
      " 83%|████████▎ | 5/6 [00:01<00:00,  2.40it/s]\u001b[A\n",
      " 20%|██        | 4/20 [00:08<00:34,  2.14s/it][A\n",
      "  0%|          | 0/6 [00:00<?, ?it/s]\u001b[A\n",
      " 17%|█▋        | 1/6 [00:00<00:02,  2.12it/s]\u001b[A\n",
      " 33%|███▎      | 2/6 [00:00<00:01,  2.37it/s]\u001b[A\n",
      " 50%|█████     | 3/6 [00:01<00:01,  2.29it/s]\u001b[A\n",
      " 67%|██████▋   | 4/6 [00:01<00:00,  2.33it/s]\u001b[A\n",
      " 83%|████████▎ | 5/6 [00:02<00:00,  2.46it/s]\u001b[A\n",
      " 25%|██▌       | 5/20 [00:10<00:32,  2.19s/it][A\n",
      "  0%|          | 0/6 [00:00<?, ?it/s]\u001b[A\n",
      " 17%|█▋        | 1/6 [00:00<00:01,  3.52it/s]\u001b[A\n",
      " 33%|███▎      | 2/6 [00:00<00:01,  3.07it/s]\u001b[A\n",
      " 50%|█████     | 3/6 [00:01<00:01,  2.84it/s]\u001b[A\n",
      " 67%|██████▋   | 4/6 [00:01<00:00,  2.55it/s]\u001b[A\n",
      " 83%|████████▎ | 5/6 [00:02<00:00,  2.12it/s]\u001b[A\n",
      " 30%|███       | 6/20 [00:13<00:32,  2.33s/it][A\n",
      "  0%|          | 0/6 [00:00<?, ?it/s]\u001b[A\n",
      " 17%|█▋        | 1/6 [00:00<00:02,  2.34it/s]\u001b[A\n",
      " 33%|███▎      | 2/6 [00:00<00:01,  2.41it/s]\u001b[A\n",
      " 50%|█████     | 3/6 [00:01<00:01,  1.75it/s]\u001b[A\n",
      " 67%|██████▋   | 4/6 [00:02<00:01,  1.59it/s]\u001b[A\n",
      " 83%|████████▎ | 5/6 [00:03<00:00,  1.62it/s]\u001b[A\n",
      " 35%|███▌      | 7/20 [00:17<00:36,  2.80s/it][A\n",
      "  0%|          | 0/6 [00:00<?, ?it/s]\u001b[A\n",
      " 17%|█▋        | 1/6 [00:00<00:01,  2.55it/s]\u001b[A\n",
      " 33%|███▎      | 2/6 [00:00<00:01,  2.47it/s]\u001b[A\n",
      " 50%|█████     | 3/6 [00:01<00:01,  1.78it/s]\u001b[A\n",
      " 67%|██████▋   | 4/6 [00:02<00:01,  1.46it/s]\u001b[A\n",
      " 83%|████████▎ | 5/6 [00:03<00:00,  1.47it/s]\u001b[A\n",
      " 40%|████      | 8/20 [00:21<00:38,  3.19s/it][A\n",
      "  0%|          | 0/6 [00:00<?, ?it/s]\u001b[A\n",
      " 17%|█▋        | 1/6 [00:00<00:02,  2.33it/s]\u001b[A\n",
      " 33%|███▎      | 2/6 [00:01<00:02,  1.98it/s]\u001b[A\n",
      " 50%|█████     | 3/6 [00:01<00:01,  1.76it/s]\u001b[A\n",
      " 67%|██████▋   | 4/6 [00:02<00:01,  1.49it/s]\u001b[A\n",
      " 83%|████████▎ | 5/6 [00:03<00:00,  1.77it/s]\u001b[A\n",
      " 45%|████▌     | 9/20 [00:24<00:35,  3.24s/it][A\n",
      "  0%|          | 0/6 [00:00<?, ?it/s]\u001b[A\n",
      " 17%|█▋        | 1/6 [00:00<00:02,  2.49it/s]\u001b[A\n",
      " 33%|███▎      | 2/6 [00:01<00:02,  1.81it/s]\u001b[A\n",
      " 50%|█████     | 3/6 [00:02<00:01,  1.56it/s]\u001b[A\n",
      " 67%|██████▋   | 4/6 [00:03<00:01,  1.39it/s]\u001b[A\n",
      " 83%|████████▎ | 5/6 [00:03<00:00,  1.49it/s]\u001b[A\n",
      " 50%|█████     | 10/20 [00:28<00:34,  3.49s/it]A\n",
      "  0%|          | 0/6 [00:00<?, ?it/s]\u001b[A\n",
      " 33%|███▎      | 2/6 [00:01<00:02,  1.85it/s]\u001b[A\n",
      " 50%|█████     | 3/6 [00:02<00:02,  1.49it/s]\u001b[A\n",
      " 67%|██████▋   | 4/6 [00:03<00:01,  1.32it/s]\u001b[A\n",
      " 83%|████████▎ | 5/6 [00:03<00:00,  1.31it/s]\u001b[A\n",
      " 55%|█████▌    | 11/20 [00:33<00:34,  3.80s/it]A\n",
      "  0%|          | 0/6 [00:00<?, ?it/s]\u001b[A\n",
      " 17%|█▋        | 1/6 [00:00<00:01,  2.59it/s]\u001b[A\n",
      " 33%|███▎      | 2/6 [00:01<00:02,  1.82it/s]\u001b[A\n",
      " 50%|█████     | 3/6 [00:02<00:02,  1.49it/s]\u001b[A\n",
      " 67%|██████▋   | 4/6 [00:03<00:01,  1.45it/s]\u001b[A\n",
      " 83%|████████▎ | 5/6 [00:03<00:00,  1.30it/s]\u001b[A\n",
      " 60%|██████    | 12/20 [00:37<00:32,  4.06s/it]A\n",
      "  0%|          | 0/6 [00:00<?, ?it/s]\u001b[A\n",
      " 17%|█▋        | 1/6 [00:00<00:02,  2.05it/s]\u001b[A\n",
      " 33%|███▎      | 2/6 [00:01<00:02,  1.70it/s]\u001b[A\n",
      " 50%|█████     | 3/6 [00:02<00:01,  1.51it/s]\u001b[A\n",
      " 67%|██████▋   | 4/6 [00:02<00:01,  1.41it/s]\u001b[A\n",
      " 83%|████████▎ | 5/6 [00:03<00:00,  1.34it/s]\u001b[A\n",
      " 65%|██████▌   | 13/20 [00:42<00:29,  4.24s/it]A\n",
      "  0%|          | 0/6 [00:00<?, ?it/s]\u001b[A\n",
      " 17%|█▋        | 1/6 [00:00<00:03,  1.45it/s]\u001b[A\n",
      " 33%|███▎      | 2/6 [00:01<00:03,  1.33it/s]\u001b[A\n",
      " 50%|█████     | 3/6 [00:02<00:02,  1.26it/s]\u001b[A\n",
      " 67%|██████▋   | 4/6 [00:03<00:01,  1.21it/s]\u001b[A\n",
      " 83%|████████▎ | 5/6 [00:04<00:00,  1.17it/s]\u001b[A\n",
      " 70%|███████   | 14/20 [00:47<00:27,  4.53s/it]A\n",
      "  0%|          | 0/6 [00:00<?, ?it/s]\u001b[A\n",
      " 17%|█▋        | 1/6 [00:00<00:03,  1.44it/s]\u001b[A\n",
      " 33%|███▎      | 2/6 [00:01<00:03,  1.32it/s]\u001b[A\n",
      " 50%|█████     | 3/6 [00:02<00:02,  1.24it/s]\u001b[A\n",
      " 67%|██████▋   | 4/6 [00:03<00:01,  1.18it/s]\u001b[A\n",
      " 83%|████████▎ | 5/6 [00:04<00:00,  1.16it/s]\u001b[A\n",
      " 75%|███████▌  | 15/20 [00:53<00:23,  4.74s/it]A\n",
      "  0%|          | 0/6 [00:00<?, ?it/s]\u001b[A\n",
      " 17%|█▋        | 1/6 [00:00<00:01,  2.95it/s]\u001b[A\n",
      " 33%|███▎      | 2/6 [00:01<00:02,  1.83it/s]\u001b[A\n",
      " 50%|█████     | 3/6 [00:02<00:02,  1.44it/s]\u001b[A\n",
      " 67%|██████▋   | 4/6 [00:03<00:01,  1.28it/s]\u001b[A\n",
      " 83%|████████▎ | 5/6 [00:04<00:00,  1.19it/s]\u001b[A\n",
      " 80%|████████  | 16/20 [00:58<00:19,  4.93s/it]A\n",
      "  0%|          | 0/6 [00:00<?, ?it/s]\u001b[A\n",
      " 17%|█▋        | 1/6 [00:00<00:04,  1.24it/s]\u001b[A\n",
      " 33%|███▎      | 2/6 [00:01<00:03,  1.14it/s]\u001b[A\n",
      " 50%|█████     | 3/6 [00:02<00:02,  1.08it/s]\u001b[A\n",
      " 67%|██████▋   | 4/6 [00:03<00:01,  1.02it/s]\u001b[A\n",
      " 83%|████████▎ | 5/6 [00:05<00:00,  1.00it/s]\u001b[A\n",
      " 85%|████████▌ | 17/20 [01:04<00:15,  5.27s/it]A\n",
      "  0%|          | 0/6 [00:00<?, ?it/s]\u001b[A\n",
      " 17%|█▋        | 1/6 [00:00<00:04,  1.11it/s]\u001b[A\n",
      " 33%|███▎      | 2/6 [00:02<00:03,  1.04it/s]\u001b[A\n",
      " 50%|█████     | 3/6 [00:03<00:02,  1.00it/s]\u001b[A\n",
      " 67%|██████▋   | 4/6 [00:04<00:02,  1.04s/it]\u001b[A\n",
      " 83%|████████▎ | 5/6 [00:05<00:01,  1.02s/it]\u001b[A\n",
      " 90%|█████████ | 18/20 [01:10<00:11,  5.55s/it]A\n",
      "  0%|          | 0/6 [00:00<?, ?it/s]\u001b[A\n",
      " 17%|█▋        | 1/6 [00:00<00:01,  3.19it/s]\u001b[A\n",
      " 33%|███▎      | 2/6 [00:01<00:02,  1.76it/s]\u001b[A\n",
      " 50%|█████     | 3/6 [00:02<00:02,  1.36it/s]\u001b[A\n",
      " 67%|██████▋   | 4/6 [00:03<00:01,  1.17it/s]\u001b[A\n",
      " 83%|████████▎ | 5/6 [00:04<00:00,  1.04it/s]\u001b[A\n",
      " 95%|█████████▌| 19/20 [01:16<00:05,  5.73s/it]A\n",
      "  0%|          | 0/6 [00:00<?, ?it/s]\u001b[A\n",
      " 17%|█▋        | 1/6 [00:00<00:01,  3.08it/s]\u001b[A\n",
      " 33%|███▎      | 2/6 [00:01<00:02,  1.45it/s]\u001b[A\n",
      " 50%|█████     | 3/6 [00:03<00:02,  1.07it/s]\u001b[A\n",
      " 67%|██████▋   | 4/6 [00:04<00:02,  1.11s/it]\u001b[A\n",
      " 83%|████████▎ | 5/6 [00:06<00:01,  1.15s/it]\u001b[A\n",
      "100%|██████████| 20/20 [01:24<00:00,  6.22s/it]A\n"
     ]
    },
    {
     "data": {
      "image/png": "[encoded data removed]",
      "text/plain": [
       "<Figure size 432x288 with 1 Axes>"
      ]
     },
     "metadata": {
      "needs_background": "light"
     },
     "output_type": "display_data"
    }
   ],
   "source": [
    "perfplot.show(\n",
    "    setup=lambda n: np.random.rand(n),\n",
    "    n_range=[2**k for k in range(20)],\n",
    "    kernels=[\n",
    "        f,\n",
    "        array_for, array_map, fromiter, vectorize, vectorize_without_init\n",
    "        ],\n",
    "    logx=True,\n",
    "    logy=True,\n",
    "    xlabel='len(x)',\n",
    "    )"
   ]
  }
 ],
 "metadata": {
  "kernelspec": {
   "display_name": "Python 3",
   "language": "python",
   "name": "python3"
  },
  "language_info": {
   "codemirror_mode": {
    "name": "ipython",
    "version": 3
   },
   "file_extension": ".py",
   "mimetype": "text/x-python",
   "name": "python",
   "nbconvert_exporter": "python",
   "pygments_lexer": "ipython3",
   "version": "3.7.3"
  }
 },
 "nbformat": 4,
 "nbformat_minor": 2
}
