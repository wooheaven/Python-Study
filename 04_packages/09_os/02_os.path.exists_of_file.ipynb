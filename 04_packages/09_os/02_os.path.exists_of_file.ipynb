{
 "cells": [
  {
   "cell_type": "code",
   "execution_count": 1,
   "metadata": {},
   "outputs": [],
   "source": [
    "!touch 1.txt"
   ]
  },
  {
   "cell_type": "code",
   "execution_count": 2,
   "metadata": {},
   "outputs": [
    {
     "name": "stdout",
     "output_type": "stream",
     "text": [
      "total 16\r\n",
      "0 drwxr-xr-x   6 rwoo  staff   204 Jun 10 16:54 \u001b[1m\u001b[36m.\u001b[m\u001b[m\r\n",
      "0 drwxr-xr-x  17 rwoo  staff   578 May 16 11:33 \u001b[1m\u001b[36m..\u001b[m\u001b[m\r\n",
      "0 drwxr-xr-x   4 rwoo  staff   136 Jun 10 16:53 \u001b[1m\u001b[36m.ipynb_checkpoints\u001b[m\u001b[m\r\n",
      "8 -rw-r--r--   1 rwoo  staff  1619 May 16 11:33 01_os.chmod_of_file.ipynb\r\n",
      "8 -rw-r--r--   1 rwoo  staff    72 Jun 10 16:53 02_os.path.exists.ipynb\r\n",
      "0 -rw-r--r--   1 rwoo  staff     0 Jun 10 16:54 1.txt\r\n"
     ]
    }
   ],
   "source": [
    "!ls -als"
   ]
  },
  {
   "cell_type": "code",
   "execution_count": 3,
   "metadata": {},
   "outputs": [],
   "source": [
    "import os"
   ]
  },
  {
   "cell_type": "code",
   "execution_count": 4,
   "metadata": {},
   "outputs": [
    {
     "data": {
      "text/plain": [
       "True"
      ]
     },
     "execution_count": 4,
     "metadata": {},
     "output_type": "execute_result"
    }
   ],
   "source": [
    "os.path.exists(\"1.txt\")"
   ]
  },
  {
   "cell_type": "code",
   "execution_count": 5,
   "metadata": {},
   "outputs": [],
   "source": [
    "!rm 1.txt"
   ]
  },
  {
   "cell_type": "code",
   "execution_count": 6,
   "metadata": {},
   "outputs": [
    {
     "data": {
      "text/plain": [
       "False"
      ]
     },
     "execution_count": 6,
     "metadata": {},
     "output_type": "execute_result"
    }
   ],
   "source": [
    "os.path.exists(\"1.txt\")"
   ]
  }
 ],
 "metadata": {
  "kernelspec": {
   "display_name": "Python 3",
   "language": "python",
   "name": "python3"
  },
  "language_info": {
   "codemirror_mode": {
    "name": "ipython",
    "version": 3
   },
   "file_extension": ".py",
   "mimetype": "text/x-python",
   "name": "python",
   "nbconvert_exporter": "python",
   "pygments_lexer": "ipython3",
   "version": "3.7.3"
  }
 },
 "nbformat": 4,
 "nbformat_minor": 2
}
