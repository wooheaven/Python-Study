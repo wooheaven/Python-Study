{
 "cells": [
  {
   "cell_type": "code",
   "execution_count": 1,
   "metadata": {},
   "outputs": [],
   "source": [
    "!touch 1.txt"
   ]
  },
  {
   "cell_type": "code",
   "execution_count": 2,
   "metadata": {},
   "outputs": [
    {
     "name": "stdout",
     "output_type": "stream",
     "text": [
      "total 32\r\n",
      "4 drwxrwxr-x  3 ubuntu ubuntu 4096  6월 13 12:41 .\r\n",
      "4 drwxrwxr-x 16 ubuntu ubuntu 4096  6월 13 12:38 ..\r\n",
      "4 -rw-rw-r--  1 ubuntu ubuntu 1619  6월 10 20:27 01_os.chmod_of_file.ipynb\r\n",
      "4 -rw-rw-r--  1 ubuntu ubuntu 2491  6월 13 12:38 02_os.path.exists_of_file.ipynb\r\n",
      "4 -rw-rw-r--  1 ubuntu ubuntu 1955  6월 13 12:38 03_os.path.isfile_of_file.ipynb\r\n",
      "4 -rw-rw-r--  1 ubuntu ubuntu 1955  6월 13 12:40 04_os.remove_of_file.ipynb\r\n",
      "0 -rw-rw-r--  1 ubuntu ubuntu    0  6월 13 12:41 1.txt\r\n",
      "4 drwxrwxr-x  2 ubuntu ubuntu 4096  6월 13 12:40 .ipynb_checkpoints\r\n",
      "4 -rwxrwxr-x  1 ubuntu ubuntu  489  6월 13 12:38 reNumberFiles.sh\r\n"
     ]
    }
   ],
   "source": [
    "!ls -als"
   ]
  },
  {
   "cell_type": "code",
   "execution_count": 3,
   "metadata": {},
   "outputs": [],
   "source": [
    "import os"
   ]
  },
  {
   "cell_type": "code",
   "execution_count": 4,
   "metadata": {},
   "outputs": [],
   "source": [
    "os.remove(\"1.txt\")"
   ]
  },
  {
   "cell_type": "code",
   "execution_count": 5,
   "metadata": {},
   "outputs": [
    {
     "name": "stdout",
     "output_type": "stream",
     "text": [
      "total 32\r\n",
      "4 drwxrwxr-x  3 ubuntu ubuntu 4096  6월 13 12:41 .\r\n",
      "4 drwxrwxr-x 16 ubuntu ubuntu 4096  6월 13 12:38 ..\r\n",
      "4 -rw-rw-r--  1 ubuntu ubuntu 1619  6월 10 20:27 01_os.chmod_of_file.ipynb\r\n",
      "4 -rw-rw-r--  1 ubuntu ubuntu 2491  6월 13 12:38 02_os.path.exists_of_file.ipynb\r\n",
      "4 -rw-rw-r--  1 ubuntu ubuntu 1955  6월 13 12:38 03_os.path.isfile_of_file.ipynb\r\n",
      "4 -rw-rw-r--  1 ubuntu ubuntu 1955  6월 13 12:40 04_os.remove_of_file.ipynb\r\n",
      "4 drwxrwxr-x  2 ubuntu ubuntu 4096  6월 13 12:40 .ipynb_checkpoints\r\n",
      "4 -rwxrwxr-x  1 ubuntu ubuntu  489  6월 13 12:38 reNumberFiles.sh\r\n"
     ]
    }
   ],
   "source": [
    "!ls -als"
   ]
  }
 ],
 "metadata": {
  "kernelspec": {
   "display_name": "Python 3",
   "language": "python",
   "name": "python3"
  },
  "language_info": {
   "codemirror_mode": {
    "name": "ipython",
    "version": 3
   },
   "file_extension": ".py",
   "mimetype": "text/x-python",
   "name": "python",
   "nbconvert_exporter": "python",
   "pygments_lexer": "ipython3",
   "version": "3.7.3"
  }
 },
 "nbformat": 4,
 "nbformat_minor": 2
}
