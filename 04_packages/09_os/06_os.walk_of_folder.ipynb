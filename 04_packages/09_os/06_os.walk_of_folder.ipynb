{
 "cells": [
  {
   "cell_type": "code",
   "execution_count": 1,
   "metadata": {},
   "outputs": [],
   "source": [
    "!mkdir tmp\n",
    "!mkdir tmp/tmp1\n",
    "!mkdir tmp/tmp2\n",
    "!touch tmp/tmp1/1.txt\n",
    "!touch tmp/tmp2/2.txt"
   ]
  },
  {
   "cell_type": "code",
   "execution_count": 2,
   "metadata": {},
   "outputs": [
    {
     "name": "stdout",
     "output_type": "stream",
     "text": [
      "\u001b[01;34mtmp\u001b[00m\r\n",
      "├── \u001b[01;34mtmp1\u001b[00m\r\n",
      "│   └── 1.txt\r\n",
      "└── \u001b[01;34mtmp2\u001b[00m\r\n",
      "    └── 2.txt\r\n",
      "\r\n",
      "2 directories, 2 files\r\n"
     ]
    }
   ],
   "source": [
    "!tree tmp"
   ]
  },
  {
   "cell_type": "code",
   "execution_count": 3,
   "metadata": {},
   "outputs": [],
   "source": [
    "import os"
   ]
  },
  {
   "cell_type": "code",
   "execution_count": 4,
   "metadata": {},
   "outputs": [
    {
     "data": {
      "text/plain": [
       "'/home/ubuntu/Documents/04_Python_WorkSpace/Python-Study/04_packages/09_os/tmp'"
      ]
     },
     "execution_count": 4,
     "metadata": {},
     "output_type": "execute_result"
    }
   ],
   "source": [
    "cwd = os.getcwd() + \"/tmp\"\n",
    "cwd"
   ]
  },
  {
   "cell_type": "code",
   "execution_count": 5,
   "metadata": {},
   "outputs": [
    {
     "name": "stdout",
     "output_type": "stream",
     "text": [
      "/home/ubuntu/Documents/04_Python_WorkSpace/Python-Study/04_packages/09_os/tmp/tmp1/1.txt\n",
      "/home/ubuntu/Documents/04_Python_WorkSpace/Python-Study/04_packages/09_os/tmp/tmp2/2.txt\n"
     ]
    }
   ],
   "source": [
    "for (path, dirs, files) in os.walk(cwd):\n",
    "    for f in files:\n",
    "        fullpath = os.path.join(path, f)\n",
    "        print(fullpath)"
   ]
  },
  {
   "cell_type": "code",
   "execution_count": 6,
   "metadata": {},
   "outputs": [],
   "source": [
    "!rm -rf tmp"
   ]
  }
 ],
 "metadata": {
  "kernelspec": {
   "display_name": "Python 3",
   "language": "python",
   "name": "python3"
  },
  "language_info": {
   "codemirror_mode": {
    "name": "ipython",
    "version": 3
   },
   "file_extension": ".py",
   "mimetype": "text/x-python",
   "name": "python",
   "nbconvert_exporter": "python",
   "pygments_lexer": "ipython3",
   "version": "3.7.3"
  }
 },
 "nbformat": 4,
 "nbformat_minor": 2
}
