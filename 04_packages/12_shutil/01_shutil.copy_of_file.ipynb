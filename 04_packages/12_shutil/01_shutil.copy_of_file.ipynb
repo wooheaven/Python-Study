{
 "cells": [
  {
   "cell_type": "code",
   "execution_count": 1,
   "metadata": {},
   "outputs": [],
   "source": [
    "!touch 1.txt"
   ]
  },
  {
   "cell_type": "code",
   "execution_count": 2,
   "metadata": {},
   "outputs": [
    {
     "name": "stdout",
     "output_type": "stream",
     "text": [
      "total 8\r\n",
      "0 drwxr-xr-x   5 rwoo  staff   170 Jun 11 12:52 \u001b[1m\u001b[36m.\u001b[m\u001b[m\r\n",
      "0 drwxr-xr-x  18 rwoo  staff   612 Jun 11 12:50 \u001b[1m\u001b[36m..\u001b[m\u001b[m\r\n",
      "0 drwxr-xr-x   2 rwoo  staff    68 Jun 11 12:51 \u001b[1m\u001b[36m.ipynb_checkpoints\u001b[m\u001b[m\r\n",
      "8 -rw-r--r--   1 rwoo  staff  2261 Jun 11 12:50 02_os.path.exists_of_file.ipynb\r\n",
      "0 -rw-r--r--   1 rwoo  staff     0 Jun 11 12:52 1.txt\r\n"
     ]
    }
   ],
   "source": [
    "!ls -als"
   ]
  },
  {
   "cell_type": "code",
   "execution_count": 3,
   "metadata": {},
   "outputs": [],
   "source": [
    "import shutil"
   ]
  },
  {
   "cell_type": "code",
   "execution_count": 4,
   "metadata": {},
   "outputs": [
    {
     "data": {
      "text/plain": [
       "'2.txt'"
      ]
     },
     "execution_count": 4,
     "metadata": {},
     "output_type": "execute_result"
    }
   ],
   "source": [
    "shutil.copy('1.txt', '2.txt')"
   ]
  },
  {
   "cell_type": "code",
   "execution_count": 5,
   "metadata": {},
   "outputs": [
    {
     "name": "stdout",
     "output_type": "stream",
     "text": [
      "total 8\r\n",
      "0 drwxr-xr-x   6 rwoo  staff   204 Jun 11 12:52 \u001b[1m\u001b[36m.\u001b[m\u001b[m\r\n",
      "0 drwxr-xr-x  18 rwoo  staff   612 Jun 11 12:50 \u001b[1m\u001b[36m..\u001b[m\u001b[m\r\n",
      "0 drwxr-xr-x   2 rwoo  staff    68 Jun 11 12:51 \u001b[1m\u001b[36m.ipynb_checkpoints\u001b[m\u001b[m\r\n",
      "8 -rw-r--r--   1 rwoo  staff  2261 Jun 11 12:50 02_os.path.exists_of_file.ipynb\r\n",
      "0 -rw-r--r--   1 rwoo  staff     0 Jun 11 12:52 1.txt\r\n",
      "0 -rw-r--r--   1 rwoo  staff     0 Jun 11 12:52 2.txt\r\n"
     ]
    }
   ],
   "source": [
    "!ls -als"
   ]
  },
  {
   "cell_type": "code",
   "execution_count": 6,
   "metadata": {},
   "outputs": [],
   "source": [
    "!rm -rf 1.txt 2.txt"
   ]
  }
 ],
 "metadata": {
  "kernelspec": {
   "display_name": "Python 3",
   "language": "python",
   "name": "python3"
  },
  "language_info": {
   "codemirror_mode": {
    "name": "ipython",
    "version": 3
   },
   "file_extension": ".py",
   "mimetype": "text/x-python",
   "name": "python",
   "nbconvert_exporter": "python",
   "pygments_lexer": "ipython3",
   "version": "3.7.3"
  }
 },
 "nbformat": 4,
 "nbformat_minor": 2
}
