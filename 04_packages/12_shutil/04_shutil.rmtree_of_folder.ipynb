{
 "cells": [
  {
   "cell_type": "code",
   "execution_count": 1,
   "metadata": {},
   "outputs": [],
   "source": [
    "!mkdir tmp"
   ]
  },
  {
   "cell_type": "code",
   "execution_count": 2,
   "metadata": {},
   "outputs": [],
   "source": [
    "!touch tmp/1.txt"
   ]
  },
  {
   "cell_type": "code",
   "execution_count": 3,
   "metadata": {},
   "outputs": [
    {
     "name": "stdout",
     "output_type": "stream",
     "text": [
      "\u001b[01;34m.\u001b[00m\r\n",
      "├── 01_shutil.copy_of_file.ipynb\r\n",
      "├── 02_shutil.copytree_of_folder.ipynb\r\n",
      "├── 03_shutil.move_of_file_and_folder.ipynb\r\n",
      "├── 04_shutil.rmtree_of_folder.ipynb\r\n",
      "├── \u001b[01;32mreNumberFiles.sh\u001b[00m\r\n",
      "└── \u001b[01;34mtmp\u001b[00m\r\n",
      "    └── 1.txt\r\n",
      "\r\n",
      "1 directory, 6 files\r\n"
     ]
    }
   ],
   "source": [
    "!tree"
   ]
  },
  {
   "cell_type": "code",
   "execution_count": 4,
   "metadata": {},
   "outputs": [],
   "source": [
    "import shutil"
   ]
  },
  {
   "cell_type": "code",
   "execution_count": 5,
   "metadata": {},
   "outputs": [],
   "source": [
    "shutil.rmtree(\"tmp\")"
   ]
  },
  {
   "cell_type": "code",
   "execution_count": 6,
   "metadata": {},
   "outputs": [
    {
     "name": "stdout",
     "output_type": "stream",
     "text": [
      "\u001b[01;34m.\u001b[00m\r\n",
      "├── 01_shutil.copy_of_file.ipynb\r\n",
      "├── 02_shutil.copytree_of_folder.ipynb\r\n",
      "├── 03_shutil.move_of_file_and_folder.ipynb\r\n",
      "├── 04_shutil.rmtree_of_folder.ipynb\r\n",
      "└── \u001b[01;32mreNumberFiles.sh\u001b[00m\r\n",
      "\r\n",
      "0 directories, 5 files\r\n"
     ]
    }
   ],
   "source": [
    "!tree"
   ]
  }
 ],
 "metadata": {
  "kernelspec": {
   "display_name": "Python 3",
   "language": "python",
   "name": "python3"
  },
  "language_info": {
   "codemirror_mode": {
    "name": "ipython",
    "version": 3
   },
   "file_extension": ".py",
   "mimetype": "text/x-python",
   "name": "python",
   "nbconvert_exporter": "python",
   "pygments_lexer": "ipython3",
   "version": "3.7.3"
  }
 },
 "nbformat": 4,
 "nbformat_minor": 2
}
