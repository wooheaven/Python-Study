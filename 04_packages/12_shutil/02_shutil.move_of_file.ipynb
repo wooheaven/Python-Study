{
 "cells": [
  {
   "cell_type": "code",
   "execution_count": 1,
   "metadata": {},
   "outputs": [],
   "source": [
    "!touch 1.txt"
   ]
  },
  {
   "cell_type": "code",
   "execution_count": 2,
   "metadata": {},
   "outputs": [
    {
     "name": "stdout",
     "output_type": "stream",
     "text": [
      "total 20\r\n",
      "4 drwxrwxr-x  3 ubuntu ubuntu 4096  6월 13 12:32 .\r\n",
      "4 drwxrwxr-x 16 ubuntu ubuntu 4096  6월 13 12:30 ..\r\n",
      "4 -rw-rw-r--  1 ubuntu ubuntu 2666  6월 13 12:30 01_shutil.copy_of_file.ipynb\r\n",
      "4 -rw-rw-r--  1 ubuntu ubuntu 2595  6월 13 12:31 02_shutil.move_of_file.ipynb\r\n",
      "0 -rw-rw-r--  1 ubuntu ubuntu    0  6월 13 12:32 1.txt\r\n",
      "4 drwxrwxr-x  2 ubuntu ubuntu 4096  6월 13 12:32 .ipynb_checkpoints\r\n"
     ]
    }
   ],
   "source": [
    "!ls -als"
   ]
  },
  {
   "cell_type": "code",
   "execution_count": 3,
   "metadata": {},
   "outputs": [],
   "source": [
    "import shutil"
   ]
  },
  {
   "cell_type": "code",
   "execution_count": 4,
   "metadata": {},
   "outputs": [
    {
     "data": {
      "text/plain": [
       "'2.txt'"
      ]
     },
     "execution_count": 4,
     "metadata": {},
     "output_type": "execute_result"
    }
   ],
   "source": [
    "shutil.move('1.txt', '2.txt')"
   ]
  },
  {
   "cell_type": "code",
   "execution_count": 5,
   "metadata": {},
   "outputs": [
    {
     "name": "stdout",
     "output_type": "stream",
     "text": [
      "total 20\r\n",
      "4 drwxrwxr-x  3 ubuntu ubuntu 4096  6월 13 12:32 .\r\n",
      "4 drwxrwxr-x 16 ubuntu ubuntu 4096  6월 13 12:30 ..\r\n",
      "4 -rw-rw-r--  1 ubuntu ubuntu 2666  6월 13 12:30 01_shutil.copy_of_file.ipynb\r\n",
      "4 -rw-rw-r--  1 ubuntu ubuntu 2595  6월 13 12:31 02_shutil.move_of_file.ipynb\r\n",
      "0 -rw-rw-r--  1 ubuntu ubuntu    0  6월 13 12:32 2.txt\r\n",
      "4 drwxrwxr-x  2 ubuntu ubuntu 4096  6월 13 12:32 .ipynb_checkpoints\r\n"
     ]
    }
   ],
   "source": [
    "!ls -als"
   ]
  },
  {
   "cell_type": "code",
   "execution_count": 6,
   "metadata": {},
   "outputs": [],
   "source": [
    "!rm -rf 2.txt"
   ]
  }
 ],
 "metadata": {
  "kernelspec": {
   "display_name": "Python 3",
   "language": "python",
   "name": "python3"
  },
  "language_info": {
   "codemirror_mode": {
    "name": "ipython",
    "version": 3
   },
   "file_extension": ".py",
   "mimetype": "text/x-python",
   "name": "python",
   "nbconvert_exporter": "python",
   "pygments_lexer": "ipython3",
   "version": "3.7.3"
  }
 },
 "nbformat": 4,
 "nbformat_minor": 2
}
