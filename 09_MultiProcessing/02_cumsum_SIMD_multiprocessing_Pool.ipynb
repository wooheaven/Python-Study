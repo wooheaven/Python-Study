{
 "cells": [
  {
   "cell_type": "code",
   "execution_count": 1,
   "metadata": {},
   "outputs": [],
   "source": [
    "import time\n",
    "import numpy as np\n",
    "import multiprocessing as mp"
   ]
  },
  {
   "cell_type": "code",
   "execution_count": 2,
   "metadata": {},
   "outputs": [],
   "source": [
    "def f(a_list):\n",
    "    out = 0\n",
    "    for n in a_list:\n",
    "        out += n\n",
    "    return out"
   ]
  },
  {
   "cell_type": "code",
   "execution_count": 3,
   "metadata": {},
   "outputs": [],
   "source": [
    "target_number = 250_000_000"
   ]
  },
  {
   "cell_type": "code",
   "execution_count": 4,
   "metadata": {},
   "outputs": [
    {
     "data": {
      "text/plain": [
       "array([        0,         1,         2, ..., 249999997, 249999998,\n",
       "       249999999])"
      ]
     },
     "execution_count": 4,
     "metadata": {},
     "output_type": "execute_result"
    }
   ],
   "source": [
    "target_array = np.arange(target_number)\n",
    "target_array"
   ]
  },
  {
   "cell_type": "code",
   "execution_count": 5,
   "metadata": {},
   "outputs": [
    {
     "name": "stdout",
     "output_type": "stream",
     "text": [
      "--- 34.11581611633301 seconds --- 31249999875000000\n"
     ]
    }
   ],
   "source": [
    "start_time = time.time()\n",
    "output1 = f(target_array)\n",
    "print(\"--- %s seconds ---\" % (time.time() - start_time), output1)"
   ]
  },
  {
   "cell_type": "code",
   "execution_count": 6,
   "metadata": {},
   "outputs": [],
   "source": [
    "def f_mp1(a_list):\n",
    "    chunk_size = mp.cpu_count()-3\n",
    "    print(chunk_size)\n",
    "    chunks = [a_list[i::chunk_size] for i in range(chunk_size)]\n",
    "    pool = mp.Pool(processes=chunk_size)\n",
    "    result = pool.map(f, chunks) # blocking enabled\n",
    "    return sum(result)"
   ]
  },
  {
   "cell_type": "code",
   "execution_count": 7,
   "metadata": {},
   "outputs": [
    {
     "name": "stdout",
     "output_type": "stream",
     "text": [
      "5\n",
      "--- 24.96068286895752 seconds --- 31249999875000000\n"
     ]
    }
   ],
   "source": [
    "start_time = time.time()\n",
    "output2 = f_mp1(target_array)\n",
    "print(\"--- %s seconds ---\" % (time.time() - start_time), output2)"
   ]
  },
  {
   "cell_type": "code",
   "execution_count": 8,
   "metadata": {},
   "outputs": [],
   "source": [
    "def f_mp2(a_list):\n",
    "    chunk_size = mp.cpu_count()-3\n",
    "    print(chunk_size)\n",
    "    chunks = [a_list[i::chunk_size] for i in range(chunk_size)]\n",
    "    pool = mp.Pool(processes=chunk_size)\n",
    "    result = pool.map_async(f, chunks)\n",
    "    print(\"before blocking\")\n",
    "    result.wait() # blocking enabled\n",
    "    print(\"after blocking\")\n",
    "    return sum(result.get())"
   ]
  },
  {
   "cell_type": "code",
   "execution_count": 9,
   "metadata": {},
   "outputs": [
    {
     "name": "stdout",
     "output_type": "stream",
     "text": [
      "5\n",
      "before blocking\n",
      "after blocking\n",
      "--- 24.78633213043213 seconds --- 31249999875000000\n"
     ]
    }
   ],
   "source": [
    "start_time = time.time()\n",
    "output3 = f_mp2(target_array)\n",
    "print(\"--- %s seconds ---\" % (time.time() - start_time), output3)"
   ]
  },
  {
   "cell_type": "code",
   "execution_count": null,
   "metadata": {},
   "outputs": [],
   "source": []
  }
 ],
 "metadata": {
  "kernelspec": {
   "display_name": "Python 3",
   "language": "python",
   "name": "python3"
  },
  "language_info": {
   "codemirror_mode": {
    "name": "ipython",
    "version": 3
   },
   "file_extension": ".py",
   "mimetype": "text/x-python",
   "name": "python",
   "nbconvert_exporter": "python",
   "pygments_lexer": "ipython3",
   "version": "3.7.2"
  }
 },
 "nbformat": 4,
 "nbformat_minor": 2
}
