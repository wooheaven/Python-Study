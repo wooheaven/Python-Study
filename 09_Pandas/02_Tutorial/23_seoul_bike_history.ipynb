{
 "cells": [
  {
   "cell_type": "code",
   "execution_count": 1,
   "metadata": {},
   "outputs": [],
   "source": [
    "import warnings\n",
    "warnings.simplefilter(action='ignore',category=FutureWarning)"
   ]
  },
  {
   "cell_type": "code",
   "execution_count": 2,
   "metadata": {},
   "outputs": [],
   "source": [
    "import pandas as pd\n",
    "import numpy as np\n",
    "from plotnine import *"
   ]
  },
  {
   "cell_type": "markdown",
   "metadata": {},
   "source": [
    "# 아래 링크에서 seoul bike history 데이터 받기\n",
    "https://data.seoul.go.kr/dataList/datasetView.do?infId=OA-15182&srvType=F&serviceKind=1&currentPageNo=1"
   ]
  },
  {
   "cell_type": "code",
   "execution_count": 3,
   "metadata": {},
   "outputs": [
    {
     "name": "stdout",
     "output_type": "stream",
     "text": [
      "\u001b[31m23_서울특별시_공공자전거_대여이력_정보_2018년_2분기_4.csv\u001b[m\u001b[m\r\n"
     ]
    }
   ],
   "source": [
    "# unix\n",
    "!ls '23_서울특별시_공공자전거_대여이력_정보_2018년_2분기_4.csv'\n",
    "# windows\n",
    "# %ls '23_서울특별시_공공자전거_대여이력_정보_2018년_2분기_4.csv'"
   ]
  },
  {
   "cell_type": "code",
   "execution_count": 4,
   "metadata": {},
   "outputs": [
    {
     "data": {
      "text/plain": [
       "(586304, 11)"
      ]
     },
     "execution_count": 4,
     "metadata": {},
     "output_type": "execute_result"
    }
   ],
   "source": [
    "df = pd.read_csv('23_서울특별시_공공자전거_대여이력_정보_2018년_2분기_4.csv', encoding='cp949', engine='python')\n",
    "df.shape"
   ]
  },
  {
   "cell_type": "code",
   "execution_count": 5,
   "metadata": {},
   "outputs": [
    {
     "data": {
      "text/html": [
       "<div>\n",
       "<style scoped>\n",
       "    .dataframe tbody tr th:only-of-type {\n",
       "        vertical-align: middle;\n",
       "    }\n",
       "\n",
       "    .dataframe tbody tr th {\n",
       "        vertical-align: top;\n",
       "    }\n",
       "\n",
       "    .dataframe thead th {\n",
       "        text-align: right;\n",
       "    }\n",
       "</style>\n",
       "<table border=\"1\" class=\"dataframe\">\n",
       "  <thead>\n",
       "    <tr style=\"text-align: right;\">\n",
       "      <th></th>\n",
       "      <th>'자전거번호'</th>\n",
       "      <th>'대여일시'</th>\n",
       "      <th>'대여대여소번호'</th>\n",
       "      <th>'대여대여소명'</th>\n",
       "      <th>'대여거치대'</th>\n",
       "      <th>'반납일시'</th>\n",
       "      <th>'반납대여소번호'</th>\n",
       "      <th>'반납대여소명'</th>\n",
       "      <th>'반납거치대'</th>\n",
       "      <th>'이용시간(분)'</th>\n",
       "      <th>'이용거리(M)'</th>\n",
       "    </tr>\n",
       "  </thead>\n",
       "  <tbody>\n",
       "    <tr>\n",
       "      <th>0</th>\n",
       "      <td>'SPB-11906'</td>\n",
       "      <td>'2018-06-16 00:00:07'</td>\n",
       "      <td>'932'</td>\n",
       "      <td>' 예일여중'</td>\n",
       "      <td>1</td>\n",
       "      <td>'2018-06-16 00:16:41'</td>\n",
       "      <td>'934'</td>\n",
       "      <td>' 신사동 성당'</td>\n",
       "      <td>11</td>\n",
       "      <td>15</td>\n",
       "      <td>2160</td>\n",
       "    </tr>\n",
       "    <tr>\n",
       "      <th>1</th>\n",
       "      <td>'SPB-16954'</td>\n",
       "      <td>'2018-06-16 00:00:07'</td>\n",
       "      <td>'272'</td>\n",
       "      <td>' 당산육갑문'</td>\n",
       "      <td>16</td>\n",
       "      <td>'2018-06-16 02:00:36'</td>\n",
       "      <td>'1827'</td>\n",
       "      <td>' 독산보도육교 앞 자전거 보관소'</td>\n",
       "      <td>9</td>\n",
       "      <td>120</td>\n",
       "      <td>18100</td>\n",
       "    </tr>\n",
       "    <tr>\n",
       "      <th>2</th>\n",
       "      <td>'SPB-09676'</td>\n",
       "      <td>'2018-06-16 00:00:11'</td>\n",
       "      <td>'1036'</td>\n",
       "      <td>' 고덕동 주양쇼핑'</td>\n",
       "      <td>7</td>\n",
       "      <td>'2018-06-16 00:24:05'</td>\n",
       "      <td>'1038'</td>\n",
       "      <td>' 강일 다솜 어린이 공원'</td>\n",
       "      <td>9</td>\n",
       "      <td>23</td>\n",
       "      <td>3350</td>\n",
       "    </tr>\n",
       "    <tr>\n",
       "      <th>3</th>\n",
       "      <td>'SPB-07143'</td>\n",
       "      <td>'2018-06-16 00:00:15'</td>\n",
       "      <td>'1726'</td>\n",
       "      <td>' 삼익세라믹아파트교차로'</td>\n",
       "      <td>7</td>\n",
       "      <td>'2018-06-16 00:15:31'</td>\n",
       "      <td>'1706'</td>\n",
       "      <td>' 기업은행 앞'</td>\n",
       "      <td>9</td>\n",
       "      <td>14</td>\n",
       "      <td>1480</td>\n",
       "    </tr>\n",
       "    <tr>\n",
       "      <th>4</th>\n",
       "      <td>'SPB-13007'</td>\n",
       "      <td>'2018-06-16 00:00:16'</td>\n",
       "      <td>'2058'</td>\n",
       "      <td>' 노량진동 맥도널드앞'</td>\n",
       "      <td>10</td>\n",
       "      <td>'2018-06-16 00:14:25'</td>\n",
       "      <td>'258'</td>\n",
       "      <td>' 신길역3번출구'</td>\n",
       "      <td>8</td>\n",
       "      <td>13</td>\n",
       "      <td>2920</td>\n",
       "    </tr>\n",
       "  </tbody>\n",
       "</table>\n",
       "</div>"
      ],
      "text/plain": [
       "       '자전거번호'                 '대여일시' '대여대여소번호'        '대여대여소명'  '대여거치대'  \\\n",
       "0  'SPB-11906'  '2018-06-16 00:00:07'     '932'         ' 예일여중'        1   \n",
       "1  'SPB-16954'  '2018-06-16 00:00:07'     '272'        ' 당산육갑문'       16   \n",
       "2  'SPB-09676'  '2018-06-16 00:00:11'    '1036'     ' 고덕동 주양쇼핑'        7   \n",
       "3  'SPB-07143'  '2018-06-16 00:00:15'    '1726'  ' 삼익세라믹아파트교차로'        7   \n",
       "4  'SPB-13007'  '2018-06-16 00:00:16'    '2058'   ' 노량진동 맥도널드앞'       10   \n",
       "\n",
       "                  '반납일시' '반납대여소번호'             '반납대여소명'  '반납거치대'  '이용시간(분)'  \\\n",
       "0  '2018-06-16 00:16:41'     '934'            ' 신사동 성당'       11         15   \n",
       "1  '2018-06-16 02:00:36'    '1827'  ' 독산보도육교 앞 자전거 보관소'        9        120   \n",
       "2  '2018-06-16 00:24:05'    '1038'      ' 강일 다솜 어린이 공원'        9         23   \n",
       "3  '2018-06-16 00:15:31'    '1706'            ' 기업은행 앞'        9         14   \n",
       "4  '2018-06-16 00:14:25'     '258'           ' 신길역3번출구'        8         13   \n",
       "\n",
       "   '이용거리(M)'  \n",
       "0       2160  \n",
       "1      18100  \n",
       "2       3350  \n",
       "3       1480  \n",
       "4       2920  "
      ]
     },
     "execution_count": 5,
     "metadata": {},
     "output_type": "execute_result"
    }
   ],
   "source": [
    "df.head()"
   ]
  },
  {
   "cell_type": "code",
   "execution_count": 6,
   "metadata": {},
   "outputs": [
    {
     "name": "stdout",
     "output_type": "stream",
     "text": [
      "<class 'pandas.core.frame.DataFrame'>\n",
      "RangeIndex: 586304 entries, 0 to 586303\n",
      "Data columns (total 11 columns):\n",
      "'자전거번호'      586304 non-null object\n",
      "'대여일시'       586304 non-null object\n",
      "'대여대여소번호'    586304 non-null object\n",
      "'대여대여소명'     586304 non-null object\n",
      "'대여거치대'      586304 non-null int64\n",
      "'반납일시'       586304 non-null object\n",
      "'반납대여소번호'    586304 non-null object\n",
      "'반납대여소명'     586304 non-null object\n",
      "'반납거치대'      586304 non-null int64\n",
      "'이용시간(분)'    586304 non-null int64\n",
      "'이용거리(M)'    586304 non-null int64\n",
      "dtypes: int64(4), object(7)\n",
      "memory usage: 49.2+ MB\n"
     ]
    }
   ],
   "source": [
    "df.info()"
   ]
  },
  {
   "cell_type": "code",
   "execution_count": 7,
   "metadata": {},
   "outputs": [
    {
     "data": {
      "text/html": [
       "<div>\n",
       "<style scoped>\n",
       "    .dataframe tbody tr th:only-of-type {\n",
       "        vertical-align: middle;\n",
       "    }\n",
       "\n",
       "    .dataframe tbody tr th {\n",
       "        vertical-align: top;\n",
       "    }\n",
       "\n",
       "    .dataframe thead th {\n",
       "        text-align: right;\n",
       "    }\n",
       "</style>\n",
       "<table border=\"1\" class=\"dataframe\">\n",
       "  <thead>\n",
       "    <tr style=\"text-align: right;\">\n",
       "      <th></th>\n",
       "      <th>'대여거치대'</th>\n",
       "      <th>'반납거치대'</th>\n",
       "      <th>'이용시간(분)'</th>\n",
       "      <th>'이용거리(M)'</th>\n",
       "    </tr>\n",
       "  </thead>\n",
       "  <tbody>\n",
       "    <tr>\n",
       "      <th>count</th>\n",
       "      <td>586304.000000</td>\n",
       "      <td>586304.000000</td>\n",
       "      <td>586304.000000</td>\n",
       "      <td>586304.000000</td>\n",
       "    </tr>\n",
       "    <tr>\n",
       "      <th>mean</th>\n",
       "      <td>6.981460</td>\n",
       "      <td>6.939248</td>\n",
       "      <td>28.922530</td>\n",
       "      <td>4712.563602</td>\n",
       "    </tr>\n",
       "    <tr>\n",
       "      <th>std</th>\n",
       "      <td>5.217671</td>\n",
       "      <td>5.196975</td>\n",
       "      <td>30.866556</td>\n",
       "      <td>9003.052657</td>\n",
       "    </tr>\n",
       "    <tr>\n",
       "      <th>min</th>\n",
       "      <td>1.000000</td>\n",
       "      <td>1.000000</td>\n",
       "      <td>2.000000</td>\n",
       "      <td>0.000000</td>\n",
       "    </tr>\n",
       "    <tr>\n",
       "      <th>25%</th>\n",
       "      <td>3.000000</td>\n",
       "      <td>3.000000</td>\n",
       "      <td>9.000000</td>\n",
       "      <td>1320.000000</td>\n",
       "    </tr>\n",
       "    <tr>\n",
       "      <th>50%</th>\n",
       "      <td>6.000000</td>\n",
       "      <td>6.000000</td>\n",
       "      <td>18.000000</td>\n",
       "      <td>2530.000000</td>\n",
       "    </tr>\n",
       "    <tr>\n",
       "      <th>75%</th>\n",
       "      <td>10.000000</td>\n",
       "      <td>10.000000</td>\n",
       "      <td>40.000000</td>\n",
       "      <td>5290.000000</td>\n",
       "    </tr>\n",
       "    <tr>\n",
       "      <th>max</th>\n",
       "      <td>40.000000</td>\n",
       "      <td>40.000000</td>\n",
       "      <td>4320.000000</td>\n",
       "      <td>255070.000000</td>\n",
       "    </tr>\n",
       "  </tbody>\n",
       "</table>\n",
       "</div>"
      ],
      "text/plain": [
       "             '대여거치대'        '반납거치대'      '이용시간(분)'      '이용거리(M)'\n",
       "count  586304.000000  586304.000000  586304.000000  586304.000000\n",
       "mean        6.981460       6.939248      28.922530    4712.563602\n",
       "std         5.217671       5.196975      30.866556    9003.052657\n",
       "min         1.000000       1.000000       2.000000       0.000000\n",
       "25%         3.000000       3.000000       9.000000    1320.000000\n",
       "50%         6.000000       6.000000      18.000000    2530.000000\n",
       "75%        10.000000      10.000000      40.000000    5290.000000\n",
       "max        40.000000      40.000000    4320.000000  255070.000000"
      ]
     },
     "execution_count": 7,
     "metadata": {},
     "output_type": "execute_result"
    }
   ],
   "source": [
    "df.describe()"
   ]
  },
  {
   "cell_type": "code",
   "execution_count": 8,
   "metadata": {},
   "outputs": [
    {
     "data": {
      "text/html": [
       "<div>\n",
       "<style scoped>\n",
       "    .dataframe tbody tr th:only-of-type {\n",
       "        vertical-align: middle;\n",
       "    }\n",
       "\n",
       "    .dataframe tbody tr th {\n",
       "        vertical-align: top;\n",
       "    }\n",
       "\n",
       "    .dataframe thead th {\n",
       "        text-align: right;\n",
       "    }\n",
       "</style>\n",
       "<table border=\"1\" class=\"dataframe\">\n",
       "  <thead>\n",
       "    <tr style=\"text-align: right;\">\n",
       "      <th></th>\n",
       "      <th>'자전거번호'</th>\n",
       "      <th>'대여일시'</th>\n",
       "      <th>'대여대여소번호'</th>\n",
       "      <th>'대여대여소명'</th>\n",
       "      <th>'반납일시'</th>\n",
       "      <th>'반납대여소번호'</th>\n",
       "      <th>'반납대여소명'</th>\n",
       "    </tr>\n",
       "  </thead>\n",
       "  <tbody>\n",
       "    <tr>\n",
       "      <th>count</th>\n",
       "      <td>586304</td>\n",
       "      <td>586304</td>\n",
       "      <td>586304</td>\n",
       "      <td>586304</td>\n",
       "      <td>586304</td>\n",
       "      <td>586304</td>\n",
       "      <td>586304</td>\n",
       "    </tr>\n",
       "    <tr>\n",
       "      <th>unique</th>\n",
       "      <td>12970</td>\n",
       "      <td>426750</td>\n",
       "      <td>1267</td>\n",
       "      <td>1267</td>\n",
       "      <td>427833</td>\n",
       "      <td>1269</td>\n",
       "      <td>1269</td>\n",
       "    </tr>\n",
       "    <tr>\n",
       "      <th>top</th>\n",
       "      <td>'SPB-18238'</td>\n",
       "      <td>'2018-06-18 18:56:44'</td>\n",
       "      <td>'207'</td>\n",
       "      <td>' 여의나루역 1번출구 앞'</td>\n",
       "      <td>'2018-06-19 19:53:32'</td>\n",
       "      <td>'113'</td>\n",
       "      <td>' 홍대입구역 2번출구 앞'</td>\n",
       "    </tr>\n",
       "    <tr>\n",
       "      <th>freq</th>\n",
       "      <td>139</td>\n",
       "      <td>42</td>\n",
       "      <td>4073</td>\n",
       "      <td>4073</td>\n",
       "      <td>18</td>\n",
       "      <td>3896</td>\n",
       "      <td>3896</td>\n",
       "    </tr>\n",
       "  </tbody>\n",
       "</table>\n",
       "</div>"
      ],
      "text/plain": [
       "            '자전거번호'                 '대여일시' '대여대여소번호'         '대여대여소명'  \\\n",
       "count        586304                 586304    586304           586304   \n",
       "unique        12970                 426750      1267             1267   \n",
       "top     'SPB-18238'  '2018-06-18 18:56:44'     '207'  ' 여의나루역 1번출구 앞'   \n",
       "freq            139                     42      4073             4073   \n",
       "\n",
       "                       '반납일시' '반납대여소번호'         '반납대여소명'  \n",
       "count                  586304    586304           586304  \n",
       "unique                 427833      1269             1269  \n",
       "top     '2018-06-19 19:53:32'     '113'  ' 홍대입구역 2번출구 앞'  \n",
       "freq                       18      3896             3896  "
      ]
     },
     "execution_count": 8,
     "metadata": {},
     "output_type": "execute_result"
    }
   ],
   "source": [
    "df.describe(include=np.object)"
   ]
  },
  {
   "cell_type": "code",
   "execution_count": 9,
   "metadata": {},
   "outputs": [],
   "source": [
    "#컬럼명에 있는 \"'\" 제거\n",
    "df.columns = df.columns.str.strip(\"'\")"
   ]
  },
  {
   "cell_type": "code",
   "execution_count": 10,
   "metadata": {},
   "outputs": [
    {
     "data": {
      "text/html": [
       "<div>\n",
       "<style scoped>\n",
       "    .dataframe tbody tr th:only-of-type {\n",
       "        vertical-align: middle;\n",
       "    }\n",
       "\n",
       "    .dataframe tbody tr th {\n",
       "        vertical-align: top;\n",
       "    }\n",
       "\n",
       "    .dataframe thead th {\n",
       "        text-align: right;\n",
       "    }\n",
       "</style>\n",
       "<table border=\"1\" class=\"dataframe\">\n",
       "  <thead>\n",
       "    <tr style=\"text-align: right;\">\n",
       "      <th></th>\n",
       "      <th>자전거번호</th>\n",
       "      <th>대여일시</th>\n",
       "      <th>대여대여소번호</th>\n",
       "      <th>대여대여소명</th>\n",
       "      <th>대여거치대</th>\n",
       "      <th>반납일시</th>\n",
       "      <th>반납대여소번호</th>\n",
       "      <th>반납대여소명</th>\n",
       "      <th>반납거치대</th>\n",
       "      <th>이용시간(분)</th>\n",
       "      <th>이용거리(M)</th>\n",
       "    </tr>\n",
       "  </thead>\n",
       "  <tbody>\n",
       "    <tr>\n",
       "      <th>0</th>\n",
       "      <td>'SPB-11906'</td>\n",
       "      <td>'2018-06-16 00:00:07'</td>\n",
       "      <td>'932'</td>\n",
       "      <td>' 예일여중'</td>\n",
       "      <td>1</td>\n",
       "      <td>'2018-06-16 00:16:41'</td>\n",
       "      <td>'934'</td>\n",
       "      <td>' 신사동 성당'</td>\n",
       "      <td>11</td>\n",
       "      <td>15</td>\n",
       "      <td>2160</td>\n",
       "    </tr>\n",
       "    <tr>\n",
       "      <th>1</th>\n",
       "      <td>'SPB-16954'</td>\n",
       "      <td>'2018-06-16 00:00:07'</td>\n",
       "      <td>'272'</td>\n",
       "      <td>' 당산육갑문'</td>\n",
       "      <td>16</td>\n",
       "      <td>'2018-06-16 02:00:36'</td>\n",
       "      <td>'1827'</td>\n",
       "      <td>' 독산보도육교 앞 자전거 보관소'</td>\n",
       "      <td>9</td>\n",
       "      <td>120</td>\n",
       "      <td>18100</td>\n",
       "    </tr>\n",
       "    <tr>\n",
       "      <th>2</th>\n",
       "      <td>'SPB-09676'</td>\n",
       "      <td>'2018-06-16 00:00:11'</td>\n",
       "      <td>'1036'</td>\n",
       "      <td>' 고덕동 주양쇼핑'</td>\n",
       "      <td>7</td>\n",
       "      <td>'2018-06-16 00:24:05'</td>\n",
       "      <td>'1038'</td>\n",
       "      <td>' 강일 다솜 어린이 공원'</td>\n",
       "      <td>9</td>\n",
       "      <td>23</td>\n",
       "      <td>3350</td>\n",
       "    </tr>\n",
       "    <tr>\n",
       "      <th>3</th>\n",
       "      <td>'SPB-07143'</td>\n",
       "      <td>'2018-06-16 00:00:15'</td>\n",
       "      <td>'1726'</td>\n",
       "      <td>' 삼익세라믹아파트교차로'</td>\n",
       "      <td>7</td>\n",
       "      <td>'2018-06-16 00:15:31'</td>\n",
       "      <td>'1706'</td>\n",
       "      <td>' 기업은행 앞'</td>\n",
       "      <td>9</td>\n",
       "      <td>14</td>\n",
       "      <td>1480</td>\n",
       "    </tr>\n",
       "    <tr>\n",
       "      <th>4</th>\n",
       "      <td>'SPB-13007'</td>\n",
       "      <td>'2018-06-16 00:00:16'</td>\n",
       "      <td>'2058'</td>\n",
       "      <td>' 노량진동 맥도널드앞'</td>\n",
       "      <td>10</td>\n",
       "      <td>'2018-06-16 00:14:25'</td>\n",
       "      <td>'258'</td>\n",
       "      <td>' 신길역3번출구'</td>\n",
       "      <td>8</td>\n",
       "      <td>13</td>\n",
       "      <td>2920</td>\n",
       "    </tr>\n",
       "  </tbody>\n",
       "</table>\n",
       "</div>"
      ],
      "text/plain": [
       "         자전거번호                   대여일시 대여대여소번호          대여대여소명  대여거치대  \\\n",
       "0  'SPB-11906'  '2018-06-16 00:00:07'   '932'         ' 예일여중'      1   \n",
       "1  'SPB-16954'  '2018-06-16 00:00:07'   '272'        ' 당산육갑문'     16   \n",
       "2  'SPB-09676'  '2018-06-16 00:00:11'  '1036'     ' 고덕동 주양쇼핑'      7   \n",
       "3  'SPB-07143'  '2018-06-16 00:00:15'  '1726'  ' 삼익세라믹아파트교차로'      7   \n",
       "4  'SPB-13007'  '2018-06-16 00:00:16'  '2058'   ' 노량진동 맥도널드앞'     10   \n",
       "\n",
       "                    반납일시 반납대여소번호               반납대여소명  반납거치대  이용시간(분)  이용거리(M)  \n",
       "0  '2018-06-16 00:16:41'   '934'            ' 신사동 성당'     11       15     2160  \n",
       "1  '2018-06-16 02:00:36'  '1827'  ' 독산보도육교 앞 자전거 보관소'      9      120    18100  \n",
       "2  '2018-06-16 00:24:05'  '1038'      ' 강일 다솜 어린이 공원'      9       23     3350  \n",
       "3  '2018-06-16 00:15:31'  '1706'            ' 기업은행 앞'      9       14     1480  \n",
       "4  '2018-06-16 00:14:25'   '258'           ' 신길역3번출구'      8       13     2920  "
      ]
     },
     "execution_count": 10,
     "metadata": {},
     "output_type": "execute_result"
    }
   ],
   "source": [
    "df.head()"
   ]
  },
  {
   "cell_type": "code",
   "execution_count": 11,
   "metadata": {},
   "outputs": [],
   "source": [
    "#values에 있는 \"'\" 제거\n",
    "df = df.apply(lambda x:x.str.strip(\"'\") if x.dtype == np.dtype('object') else x)"
   ]
  },
  {
   "cell_type": "code",
   "execution_count": 12,
   "metadata": {},
   "outputs": [
    {
     "data": {
      "text/html": [
       "<div>\n",
       "<style scoped>\n",
       "    .dataframe tbody tr th:only-of-type {\n",
       "        vertical-align: middle;\n",
       "    }\n",
       "\n",
       "    .dataframe tbody tr th {\n",
       "        vertical-align: top;\n",
       "    }\n",
       "\n",
       "    .dataframe thead th {\n",
       "        text-align: right;\n",
       "    }\n",
       "</style>\n",
       "<table border=\"1\" class=\"dataframe\">\n",
       "  <thead>\n",
       "    <tr style=\"text-align: right;\">\n",
       "      <th></th>\n",
       "      <th>자전거번호</th>\n",
       "      <th>대여일시</th>\n",
       "      <th>대여대여소번호</th>\n",
       "      <th>대여대여소명</th>\n",
       "      <th>대여거치대</th>\n",
       "      <th>반납일시</th>\n",
       "      <th>반납대여소번호</th>\n",
       "      <th>반납대여소명</th>\n",
       "      <th>반납거치대</th>\n",
       "      <th>이용시간(분)</th>\n",
       "      <th>이용거리(M)</th>\n",
       "    </tr>\n",
       "  </thead>\n",
       "  <tbody>\n",
       "    <tr>\n",
       "      <th>0</th>\n",
       "      <td>SPB-11906</td>\n",
       "      <td>2018-06-16 00:00:07</td>\n",
       "      <td>932</td>\n",
       "      <td>예일여중</td>\n",
       "      <td>1</td>\n",
       "      <td>2018-06-16 00:16:41</td>\n",
       "      <td>934</td>\n",
       "      <td>신사동 성당</td>\n",
       "      <td>11</td>\n",
       "      <td>15</td>\n",
       "      <td>2160</td>\n",
       "    </tr>\n",
       "    <tr>\n",
       "      <th>1</th>\n",
       "      <td>SPB-16954</td>\n",
       "      <td>2018-06-16 00:00:07</td>\n",
       "      <td>272</td>\n",
       "      <td>당산육갑문</td>\n",
       "      <td>16</td>\n",
       "      <td>2018-06-16 02:00:36</td>\n",
       "      <td>1827</td>\n",
       "      <td>독산보도육교 앞 자전거 보관소</td>\n",
       "      <td>9</td>\n",
       "      <td>120</td>\n",
       "      <td>18100</td>\n",
       "    </tr>\n",
       "    <tr>\n",
       "      <th>2</th>\n",
       "      <td>SPB-09676</td>\n",
       "      <td>2018-06-16 00:00:11</td>\n",
       "      <td>1036</td>\n",
       "      <td>고덕동 주양쇼핑</td>\n",
       "      <td>7</td>\n",
       "      <td>2018-06-16 00:24:05</td>\n",
       "      <td>1038</td>\n",
       "      <td>강일 다솜 어린이 공원</td>\n",
       "      <td>9</td>\n",
       "      <td>23</td>\n",
       "      <td>3350</td>\n",
       "    </tr>\n",
       "    <tr>\n",
       "      <th>3</th>\n",
       "      <td>SPB-07143</td>\n",
       "      <td>2018-06-16 00:00:15</td>\n",
       "      <td>1726</td>\n",
       "      <td>삼익세라믹아파트교차로</td>\n",
       "      <td>7</td>\n",
       "      <td>2018-06-16 00:15:31</td>\n",
       "      <td>1706</td>\n",
       "      <td>기업은행 앞</td>\n",
       "      <td>9</td>\n",
       "      <td>14</td>\n",
       "      <td>1480</td>\n",
       "    </tr>\n",
       "    <tr>\n",
       "      <th>4</th>\n",
       "      <td>SPB-13007</td>\n",
       "      <td>2018-06-16 00:00:16</td>\n",
       "      <td>2058</td>\n",
       "      <td>노량진동 맥도널드앞</td>\n",
       "      <td>10</td>\n",
       "      <td>2018-06-16 00:14:25</td>\n",
       "      <td>258</td>\n",
       "      <td>신길역3번출구</td>\n",
       "      <td>8</td>\n",
       "      <td>13</td>\n",
       "      <td>2920</td>\n",
       "    </tr>\n",
       "  </tbody>\n",
       "</table>\n",
       "</div>"
      ],
      "text/plain": [
       "       자전거번호                 대여일시 대여대여소번호        대여대여소명  대여거치대  \\\n",
       "0  SPB-11906  2018-06-16 00:00:07     932          예일여중      1   \n",
       "1  SPB-16954  2018-06-16 00:00:07     272         당산육갑문     16   \n",
       "2  SPB-09676  2018-06-16 00:00:11    1036      고덕동 주양쇼핑      7   \n",
       "3  SPB-07143  2018-06-16 00:00:15    1726   삼익세라믹아파트교차로      7   \n",
       "4  SPB-13007  2018-06-16 00:00:16    2058    노량진동 맥도널드앞     10   \n",
       "\n",
       "                  반납일시 반납대여소번호             반납대여소명  반납거치대  이용시간(분)  이용거리(M)  \n",
       "0  2018-06-16 00:16:41     934             신사동 성당     11       15     2160  \n",
       "1  2018-06-16 02:00:36    1827   독산보도육교 앞 자전거 보관소      9      120    18100  \n",
       "2  2018-06-16 00:24:05    1038       강일 다솜 어린이 공원      9       23     3350  \n",
       "3  2018-06-16 00:15:31    1706             기업은행 앞      9       14     1480  \n",
       "4  2018-06-16 00:14:25     258            신길역3번출구      8       13     2920  "
      ]
     },
     "execution_count": 12,
     "metadata": {},
     "output_type": "execute_result"
    }
   ],
   "source": [
    "df.head()"
   ]
  },
  {
   "cell_type": "code",
   "execution_count": 13,
   "metadata": {},
   "outputs": [
    {
     "data": {
      "text/plain": [
       "자전거번호      0\n",
       "대여일시       0\n",
       "대여대여소번호    0\n",
       "대여대여소명     0\n",
       "대여거치대      0\n",
       "반납일시       0\n",
       "반납대여소번호    0\n",
       "반납대여소명     0\n",
       "반납거치대      0\n",
       "이용시간(분)    0\n",
       "이용거리(M)    0\n",
       "dtype: int64"
      ]
     },
     "execution_count": 13,
     "metadata": {},
     "output_type": "execute_result"
    }
   ],
   "source": [
    "#결측치(null data) data 확인\n",
    "df.isnull().sum()"
   ]
  },
  {
   "cell_type": "code",
   "execution_count": 14,
   "metadata": {},
   "outputs": [
    {
     "data": {
      "text/plain": [
       "Index(['자전거번호', '대여일시', '대여대여소번호', '대여대여소명', '대여거치대', '반납일시', '반납대여소번호',\n",
       "       '반납대여소명', '반납거치대', '이용시간(분)', '이용거리(M)'],\n",
       "      dtype='object')"
      ]
     },
     "execution_count": 14,
     "metadata": {},
     "output_type": "execute_result"
    }
   ],
   "source": [
    "df.columns"
   ]
  },
  {
   "cell_type": "code",
   "execution_count": 15,
   "metadata": {},
   "outputs": [
    {
     "name": "stdout",
     "output_type": "stream",
     "text": [
      "대여 대여소갯수  1267\n",
      "반납 대여소갯수  1269\n"
     ]
    }
   ],
   "source": [
    "print('대여 대여소갯수 ',df['대여대여소번호'].unique().shape[0])\n",
    "print('반납 대여소갯수 ',df['반납대여소번호'].unique().shape[0])"
   ]
  },
  {
   "cell_type": "code",
   "execution_count": 16,
   "metadata": {},
   "outputs": [
    {
     "data": {
      "text/plain": [
       " 여의나루역 1번출구 앞         4073\n",
       " 뚝섬유원지역 1번출구 앞        3369\n",
       " 홍대입구역 2번출구 앞         3174\n",
       " 봉림교 교통섬              2709\n",
       " 롯데월드타워(잠실역2번출구 쪽)    2637\n",
       "Name: 대여대여소명, dtype: int64"
      ]
     },
     "execution_count": 16,
     "metadata": {},
     "output_type": "execute_result"
    }
   ],
   "source": [
    "df['대여대여소명'].value_counts().head()"
   ]
  },
  {
   "cell_type": "code",
   "execution_count": 17,
   "metadata": {},
   "outputs": [
    {
     "data": {
      "text/plain": [
       " 홍대입구역 2번출구 앞               3896\n",
       " 뚝섬유원지역 1번출구 앞              3814\n",
       " 여의나루역 1번출구 앞               3730\n",
       " 봉림교 교통섬                    2762\n",
       " 롯데월드타워(잠실역2번출구 쪽)          2624\n",
       " 고속터미널역 8-1번, 8-2번 출구 사이    2495\n",
       " 마포구민체육센터 앞                 2454\n",
       " 안암로터리 버스정류장 앞              2110\n",
       " 신도림역 1번 출구 앞               1961\n",
       " CJ 드림시티                    1932\n",
       "Name: 반납대여소명, dtype: int64"
      ]
     },
     "execution_count": 17,
     "metadata": {},
     "output_type": "execute_result"
    }
   ],
   "source": [
    "df['반납대여소명'].value_counts().head(10)"
   ]
  },
  {
   "cell_type": "code",
   "execution_count": 18,
   "metadata": {},
   "outputs": [
    {
     "data": {
      "text/html": [
       "<div>\n",
       "<style scoped>\n",
       "    .dataframe tbody tr th:only-of-type {\n",
       "        vertical-align: middle;\n",
       "    }\n",
       "\n",
       "    .dataframe tbody tr th {\n",
       "        vertical-align: top;\n",
       "    }\n",
       "\n",
       "    .dataframe thead th {\n",
       "        text-align: right;\n",
       "    }\n",
       "</style>\n",
       "<table border=\"1\" class=\"dataframe\">\n",
       "  <thead>\n",
       "    <tr style=\"text-align: right;\">\n",
       "      <th></th>\n",
       "      <th>대여대여소명</th>\n",
       "      <th>이용거리(M)</th>\n",
       "    </tr>\n",
       "  </thead>\n",
       "  <tbody>\n",
       "    <tr>\n",
       "      <th>353</th>\n",
       "      <td>동작역 5번출구 동작주차공원</td>\n",
       "      <td>10454.240000</td>\n",
       "    </tr>\n",
       "    <tr>\n",
       "      <th>330</th>\n",
       "      <td>독산보도육교 앞 자전거 보관소</td>\n",
       "      <td>10401.840607</td>\n",
       "    </tr>\n",
       "    <tr>\n",
       "      <th>810</th>\n",
       "      <td>신한은행 시흥대로금융센터지점</td>\n",
       "      <td>9857.738095</td>\n",
       "    </tr>\n",
       "    <tr>\n",
       "      <th>280</th>\n",
       "      <td>달맞이공원</td>\n",
       "      <td>9639.504950</td>\n",
       "    </tr>\n",
       "    <tr>\n",
       "      <th>1166</th>\n",
       "      <td>한내근린공원 남측</td>\n",
       "      <td>9419.090909</td>\n",
       "    </tr>\n",
       "    <tr>\n",
       "      <th>1197</th>\n",
       "      <td>현대자동차서비스 앞</td>\n",
       "      <td>9364.282178</td>\n",
       "    </tr>\n",
       "    <tr>\n",
       "      <th>419</th>\n",
       "      <td>망원초록길 입구</td>\n",
       "      <td>9160.294118</td>\n",
       "    </tr>\n",
       "    <tr>\n",
       "      <th>1194</th>\n",
       "      <td>현대고등학교 건너편</td>\n",
       "      <td>9047.614350</td>\n",
       "    </tr>\n",
       "    <tr>\n",
       "      <th>1231</th>\n",
       "      <td>흑석역 1번출구</td>\n",
       "      <td>8938.909300</td>\n",
       "    </tr>\n",
       "    <tr>\n",
       "      <th>1113</th>\n",
       "      <td>청계천 생태교실 앞</td>\n",
       "      <td>8923.918819</td>\n",
       "    </tr>\n",
       "  </tbody>\n",
       "</table>\n",
       "</div>"
      ],
      "text/plain": [
       "                 대여대여소명       이용거리(M)\n",
       "353     동작역 5번출구 동작주차공원  10454.240000\n",
       "330    독산보도육교 앞 자전거 보관소  10401.840607\n",
       "810     신한은행 시흥대로금융센터지점   9857.738095\n",
       "280               달맞이공원   9639.504950\n",
       "1166          한내근린공원 남측   9419.090909\n",
       "1197         현대자동차서비스 앞   9364.282178\n",
       "419            망원초록길 입구   9160.294118\n",
       "1194         현대고등학교 건너편   9047.614350\n",
       "1231           흑석역 1번출구   8938.909300\n",
       "1113         청계천 생태교실 앞   8923.918819"
      ]
     },
     "execution_count": 18,
     "metadata": {},
     "output_type": "execute_result"
    }
   ],
   "source": [
    "#대여대여소명 별 이용거리의 평균값\n",
    "#평균 이용거리가 긴 상위대여소 출력\n",
    "df.groupby('대여대여소명')['이용거리(M)'].mean().reset_index().sort_values(by='이용거리(M)',ascending=False).head(10)"
   ]
  },
  {
   "cell_type": "code",
   "execution_count": 19,
   "metadata": {},
   "outputs": [
    {
     "data": {
      "text/html": [
       "<div>\n",
       "<style scoped>\n",
       "    .dataframe tbody tr th:only-of-type {\n",
       "        vertical-align: middle;\n",
       "    }\n",
       "\n",
       "    .dataframe tbody tr th {\n",
       "        vertical-align: top;\n",
       "    }\n",
       "\n",
       "    .dataframe thead th {\n",
       "        text-align: right;\n",
       "    }\n",
       "</style>\n",
       "<table border=\"1\" class=\"dataframe\">\n",
       "  <thead>\n",
       "    <tr style=\"text-align: right;\">\n",
       "      <th></th>\n",
       "      <th>대여대여소명</th>\n",
       "      <th>이용거리(M)</th>\n",
       "    </tr>\n",
       "  </thead>\n",
       "  <tbody>\n",
       "    <tr>\n",
       "      <th>1249</th>\n",
       "      <td>상암센터 정비실</td>\n",
       "      <td>256.250000</td>\n",
       "    </tr>\n",
       "    <tr>\n",
       "      <th>188</th>\n",
       "      <td>국군복지단</td>\n",
       "      <td>1828.244275</td>\n",
       "    </tr>\n",
       "    <tr>\n",
       "      <th>7</th>\n",
       "      <td>CJ오쇼핑앞</td>\n",
       "      <td>1832.727273</td>\n",
       "    </tr>\n",
       "    <tr>\n",
       "      <th>100</th>\n",
       "      <td>건국대학교 과학관(이과대) 앞</td>\n",
       "      <td>2143.065327</td>\n",
       "    </tr>\n",
       "    <tr>\n",
       "      <th>937</th>\n",
       "      <td>원남동사거리</td>\n",
       "      <td>2234.752294</td>\n",
       "    </tr>\n",
       "    <tr>\n",
       "      <th>584</th>\n",
       "      <td>상림마을 생태공원</td>\n",
       "      <td>2405.736041</td>\n",
       "    </tr>\n",
       "    <tr>\n",
       "      <th>700</th>\n",
       "      <td>성북제일새마을금고 본점 앞</td>\n",
       "      <td>2416.977778</td>\n",
       "    </tr>\n",
       "    <tr>\n",
       "      <th>40</th>\n",
       "      <td>SK telecom(수유직영점) 앞</td>\n",
       "      <td>2496.626506</td>\n",
       "    </tr>\n",
       "    <tr>\n",
       "      <th>939</th>\n",
       "      <td>원묵고등학교</td>\n",
       "      <td>2563.861111</td>\n",
       "    </tr>\n",
       "    <tr>\n",
       "      <th>641</th>\n",
       "      <td>서울보증보험본사 앞</td>\n",
       "      <td>2588.011928</td>\n",
       "    </tr>\n",
       "  </tbody>\n",
       "</table>\n",
       "</div>"
      ],
      "text/plain": [
       "                    대여대여소명      이용거리(M)\n",
       "1249              상암센터 정비실   256.250000\n",
       "188                  국군복지단  1828.244275\n",
       "7                   CJ오쇼핑앞  1832.727273\n",
       "100       건국대학교 과학관(이과대) 앞  2143.065327\n",
       "937                 원남동사거리  2234.752294\n",
       "584              상림마을 생태공원  2405.736041\n",
       "700         성북제일새마을금고 본점 앞  2416.977778\n",
       "40     SK telecom(수유직영점) 앞  2496.626506\n",
       "939                 원묵고등학교  2563.861111\n",
       "641             서울보증보험본사 앞  2588.011928"
      ]
     },
     "execution_count": 19,
     "metadata": {},
     "output_type": "execute_result"
    }
   ],
   "source": [
    "#평균 이용거리가 짧은 대여소 출력\n",
    "df.groupby('대여대여소명')['이용거리(M)'].mean().reset_index().sort_values(by='이용거리(M)').head(10)"
   ]
  },
  {
   "cell_type": "code",
   "execution_count": 20,
   "metadata": {},
   "outputs": [
    {
     "data": {
      "text/plain": [
       "자전거번호              object\n",
       "대여일시       datetime64[ns]\n",
       "대여대여소번호            object\n",
       "대여대여소명             object\n",
       "대여거치대               int64\n",
       "반납일시       datetime64[ns]\n",
       "반납대여소번호            object\n",
       "반납대여소명             object\n",
       "반납거치대               int64\n",
       "이용시간(분)             int64\n",
       "이용거리(M)             int64\n",
       "dtype: object"
      ]
     },
     "execution_count": 20,
     "metadata": {},
     "output_type": "execute_result"
    }
   ],
   "source": [
    "# 시계열 데이터 처리하기\n",
    "df['대여일시'] = pd.to_datetime(df['대여일시'])\n",
    "df['반납일시'] = pd.to_datetime(df['반납일시'])\n",
    "df.dtypes"
   ]
  },
  {
   "cell_type": "code",
   "execution_count": 21,
   "metadata": {},
   "outputs": [
    {
     "data": {
      "text/plain": [
       "Index(['자전거번호', '대여일시', '대여대여소번호', '대여대여소명', '대여거치대', '반납일시', '반납대여소번호',\n",
       "       '반납대여소명', '반납거치대', '이용시간(분)', '이용거리(M)', '대여년', '대여월', '대여일', '대여시',\n",
       "       '대여분', '대여요일'],\n",
       "      dtype='object')"
      ]
     },
     "execution_count": 21,
     "metadata": {},
     "output_type": "execute_result"
    }
   ],
   "source": [
    "#새로운 컬럼 대여 년/월/시/분/요일  생성\n",
    "df['대여년'] = df['대여일시'].dt.year\n",
    "df['대여월'] = df['대여일시'].dt.month\n",
    "df['대여일'] = df['대여일시'].dt.day\n",
    "df['대여시'] = df['대여일시'].dt.hour\n",
    "df['대여분'] = df['대여일시'].dt.minute\n",
    "df['대여요일'] = df['대여일시'].dt.dayofweek\n",
    "df.columns"
   ]
  },
  {
   "cell_type": "code",
   "execution_count": 22,
   "metadata": {},
   "outputs": [
    {
     "data": {
      "text/html": [
       "<div>\n",
       "<style scoped>\n",
       "    .dataframe tbody tr th:only-of-type {\n",
       "        vertical-align: middle;\n",
       "    }\n",
       "\n",
       "    .dataframe tbody tr th {\n",
       "        vertical-align: top;\n",
       "    }\n",
       "\n",
       "    .dataframe thead th {\n",
       "        text-align: right;\n",
       "    }\n",
       "</style>\n",
       "<table border=\"1\" class=\"dataframe\">\n",
       "  <thead>\n",
       "    <tr style=\"text-align: right;\">\n",
       "      <th></th>\n",
       "      <th>대여년</th>\n",
       "      <th>대여월</th>\n",
       "      <th>대여일</th>\n",
       "      <th>대여시</th>\n",
       "      <th>대여분</th>\n",
       "      <th>대여요일</th>\n",
       "    </tr>\n",
       "  </thead>\n",
       "  <tbody>\n",
       "    <tr>\n",
       "      <th>586301</th>\n",
       "      <td>2018</td>\n",
       "      <td>6</td>\n",
       "      <td>30</td>\n",
       "      <td>23</td>\n",
       "      <td>59</td>\n",
       "      <td>5</td>\n",
       "    </tr>\n",
       "    <tr>\n",
       "      <th>586302</th>\n",
       "      <td>2018</td>\n",
       "      <td>6</td>\n",
       "      <td>30</td>\n",
       "      <td>23</td>\n",
       "      <td>59</td>\n",
       "      <td>5</td>\n",
       "    </tr>\n",
       "    <tr>\n",
       "      <th>586303</th>\n",
       "      <td>2018</td>\n",
       "      <td>6</td>\n",
       "      <td>30</td>\n",
       "      <td>23</td>\n",
       "      <td>59</td>\n",
       "      <td>5</td>\n",
       "    </tr>\n",
       "  </tbody>\n",
       "</table>\n",
       "</div>"
      ],
      "text/plain": [
       "         대여년  대여월  대여일  대여시  대여분  대여요일\n",
       "586301  2018    6   30   23   59     5\n",
       "586302  2018    6   30   23   59     5\n",
       "586303  2018    6   30   23   59     5"
      ]
     },
     "execution_count": 22,
     "metadata": {},
     "output_type": "execute_result"
    }
   ],
   "source": [
    "df.loc[:,['대여년', '대여월', '대여일', '대여시', '대여분', '대여요일']].tail(3)"
   ]
  },
  {
   "cell_type": "code",
   "execution_count": 23,
   "metadata": {},
   "outputs": [
    {
     "data": {
      "text/plain": [
       "array([5, 6, 0, 1, 2, 3, 4])"
      ]
     },
     "execution_count": 23,
     "metadata": {},
     "output_type": "execute_result"
    }
   ],
   "source": [
    "df['대여요일'].unique() # 2018 06 30 토요일 = 대여요일 5"
   ]
  },
  {
   "cell_type": "code",
   "execution_count": 24,
   "metadata": {},
   "outputs": [
    {
     "data": {
      "text/plain": [
       "Index(['자전거번호', '대여일시', '대여대여소번호', '대여대여소명', '대여거치대', '반납일시', '반납대여소번호',\n",
       "       '반납대여소명', '반납거치대', '이용시간(분)', '이용거리(M)', '대여년', '대여월', '대여일', '대여시',\n",
       "       '대여분', '대여요일', '반납년', '반납월', '반납일', '반납시', '반납분', '반납요일'],\n",
       "      dtype='object')"
      ]
     },
     "execution_count": 24,
     "metadata": {},
     "output_type": "execute_result"
    }
   ],
   "source": [
    "#새로운 컬럼 반납 년/월/시/분/요일  생성\n",
    "df['반납년'] = df['반납일시'].dt.year\n",
    "df['반납월'] = df['반납일시'].dt.month\n",
    "df['반납일'] = df['반납일시'].dt.day\n",
    "df['반납시'] = df['반납일시'].dt.hour\n",
    "df['반납분'] = df['반납일시'].dt.minute\n",
    "df['반납요일'] = df['반납일시'].dt.dayofweek\n",
    "df.columns"
   ]
  },
  {
   "cell_type": "code",
   "execution_count": 25,
   "metadata": {},
   "outputs": [
    {
     "data": {
      "text/html": [
       "<div>\n",
       "<style scoped>\n",
       "    .dataframe tbody tr th:only-of-type {\n",
       "        vertical-align: middle;\n",
       "    }\n",
       "\n",
       "    .dataframe tbody tr th {\n",
       "        vertical-align: top;\n",
       "    }\n",
       "\n",
       "    .dataframe thead th {\n",
       "        text-align: right;\n",
       "    }\n",
       "</style>\n",
       "<table border=\"1\" class=\"dataframe\">\n",
       "  <thead>\n",
       "    <tr style=\"text-align: right;\">\n",
       "      <th></th>\n",
       "      <th>반납년</th>\n",
       "      <th>반납월</th>\n",
       "      <th>반납일</th>\n",
       "      <th>반납시</th>\n",
       "      <th>반납분</th>\n",
       "      <th>반납요일</th>\n",
       "    </tr>\n",
       "  </thead>\n",
       "  <tbody>\n",
       "    <tr>\n",
       "      <th>586301</th>\n",
       "      <td>2018</td>\n",
       "      <td>7</td>\n",
       "      <td>1</td>\n",
       "      <td>0</td>\n",
       "      <td>20</td>\n",
       "      <td>6</td>\n",
       "    </tr>\n",
       "    <tr>\n",
       "      <th>586302</th>\n",
       "      <td>2018</td>\n",
       "      <td>7</td>\n",
       "      <td>1</td>\n",
       "      <td>0</td>\n",
       "      <td>57</td>\n",
       "      <td>6</td>\n",
       "    </tr>\n",
       "    <tr>\n",
       "      <th>586303</th>\n",
       "      <td>2018</td>\n",
       "      <td>7</td>\n",
       "      <td>1</td>\n",
       "      <td>0</td>\n",
       "      <td>8</td>\n",
       "      <td>6</td>\n",
       "    </tr>\n",
       "  </tbody>\n",
       "</table>\n",
       "</div>"
      ],
      "text/plain": [
       "         반납년  반납월  반납일  반납시  반납분  반납요일\n",
       "586301  2018    7    1    0   20     6\n",
       "586302  2018    7    1    0   57     6\n",
       "586303  2018    7    1    0    8     6"
      ]
     },
     "execution_count": 25,
     "metadata": {},
     "output_type": "execute_result"
    }
   ],
   "source": [
    "df.loc[:,['반납년', '반납월', '반납일', '반납시',\n",
    "       '반납분', '반납요일']].tail(3)"
   ]
  },
  {
   "cell_type": "code",
   "execution_count": 26,
   "metadata": {},
   "outputs": [
    {
     "data": {
      "text/plain": [
       "(15, 3)"
      ]
     },
     "execution_count": 26,
     "metadata": {},
     "output_type": "execute_result"
    }
   ],
   "source": [
    "#일자별 대여/반납 현황\n",
    "df_day_1 = df['대여일'].value_counts().reset_index()\n",
    "df_day_1.columns = ['day','count']\n",
    "df_day_1 = df_day_1.sort_values('day')\n",
    "df_day_1['대여반납']='대여'\n",
    "df_day_1.shape"
   ]
  },
  {
   "cell_type": "code",
   "execution_count": 27,
   "metadata": {},
   "outputs": [
    {
     "data": {
      "text/plain": [
       "(18, 3)"
      ]
     },
     "execution_count": 27,
     "metadata": {},
     "output_type": "execute_result"
    }
   ],
   "source": [
    "df_day_2 = df['반납일'].value_counts().reset_index()\n",
    "df_day_2.columns = ['day','count']\n",
    "df_day_2 = df_day_2.sort_values('day')\n",
    "df_day_2['대여반납']='반납'\n",
    "df_day_2.shape"
   ]
  },
  {
   "cell_type": "code",
   "execution_count": 28,
   "metadata": {},
   "outputs": [
    {
     "name": "stdout",
     "output_type": "stream",
     "text": [
      "(33, 3)\n"
     ]
    },
    {
     "data": {
      "text/html": [
       "<div>\n",
       "<style scoped>\n",
       "    .dataframe tbody tr th:only-of-type {\n",
       "        vertical-align: middle;\n",
       "    }\n",
       "\n",
       "    .dataframe tbody tr th {\n",
       "        vertical-align: top;\n",
       "    }\n",
       "\n",
       "    .dataframe thead th {\n",
       "        text-align: right;\n",
       "    }\n",
       "</style>\n",
       "<table border=\"1\" class=\"dataframe\">\n",
       "  <thead>\n",
       "    <tr style=\"text-align: right;\">\n",
       "      <th></th>\n",
       "      <th>day</th>\n",
       "      <th>count</th>\n",
       "      <th>대여반납</th>\n",
       "    </tr>\n",
       "  </thead>\n",
       "  <tbody>\n",
       "    <tr>\n",
       "      <th>5</th>\n",
       "      <td>16</td>\n",
       "      <td>46038</td>\n",
       "      <td>대여</td>\n",
       "    </tr>\n",
       "    <tr>\n",
       "      <th>7</th>\n",
       "      <td>17</td>\n",
       "      <td>43161</td>\n",
       "      <td>대여</td>\n",
       "    </tr>\n",
       "    <tr>\n",
       "      <th>11</th>\n",
       "      <td>18</td>\n",
       "      <td>35828</td>\n",
       "      <td>대여</td>\n",
       "    </tr>\n",
       "    <tr>\n",
       "      <th>2</th>\n",
       "      <td>19</td>\n",
       "      <td>46839</td>\n",
       "      <td>대여</td>\n",
       "    </tr>\n",
       "    <tr>\n",
       "      <th>3</th>\n",
       "      <td>20</td>\n",
       "      <td>46107</td>\n",
       "      <td>대여</td>\n",
       "    </tr>\n",
       "  </tbody>\n",
       "</table>\n",
       "</div>"
      ],
      "text/plain": [
       "    day  count 대여반납\n",
       "5    16  46038   대여\n",
       "7    17  43161   대여\n",
       "11   18  35828   대여\n",
       "2    19  46839   대여\n",
       "3    20  46107   대여"
      ]
     },
     "execution_count": 28,
     "metadata": {},
     "output_type": "execute_result"
    }
   ],
   "source": [
    "#concat() 함수를 사용해서 두개의 DataFrame 합치기\n",
    "df_day = pd.concat([df_day_1,df_day_2])\n",
    "print(df_day.shape)\n",
    "df_day.head()"
   ]
  },
  {
   "cell_type": "code",
   "execution_count": 29,
   "metadata": {},
   "outputs": [],
   "source": [
    "import matplotlib\n",
    "import matplotlib.font_manager as fm\n",
    "# windows\n",
    "# font_path = 'C:/Windows/Fonts/malgun.ttf'\n",
    "# fontprop = fm.FontProperties(fname=font_path).get_name()\n",
    "# matplotlib.rc('font', family = fontprop)\n",
    "# mac\n",
    "matplotlib.rc('font', family='AppleGothic')"
   ]
  },
  {
   "cell_type": "code",
   "execution_count": 30,
   "metadata": {},
   "outputs": [
    {
     "data": {
      "text/plain": [
       "[('AppleGothic', '/Library/Fonts/AppleGothic.ttf')]"
      ]
     },
     "execution_count": 30,
     "metadata": {},
     "output_type": "execute_result"
    }
   ],
   "source": [
    "[(f.name, f.fname) for f in fm.fontManager.ttflist if 'AppleGothic' in f.name]"
   ]
  },
  {
   "cell_type": "code",
   "execution_count": 31,
   "metadata": {},
   "outputs": [
    {
     "data": {
      "text/plain": [
       "'AppleGothic'"
      ]
     },
     "execution_count": 31,
     "metadata": {},
     "output_type": "execute_result"
    }
   ],
   "source": [
    "path = '/Library/Fonts/AppleGothic.ttf'\n",
    "fontprop = fm.FontProperties(fname=path, size=12).get_name()\n",
    "fontprop"
   ]
  },
  {
   "cell_type": "code",
   "execution_count": 32,
   "metadata": {},
   "outputs": [
    {
     "data": {
      "image/png": "[encoded data removed]",
      "text/plain": [
       "<Figure size 1200x600 with 1 Axes>"
      ]
     },
     "metadata": {},
     "output_type": "display_data"
    },
    {
     "data": {
      "text/plain": [
       "<ggplot: (318944292)>"
      ]
     },
     "execution_count": 32,
     "metadata": {},
     "output_type": "execute_result"
    }
   ],
   "source": [
    "# plotnine의 ggplot으로 시각화\n",
    "(ggplot(df_day)\n",
    "+ aes(x='day', y='count',fill='대여반납')\n",
    "+ geom_bar(stat='identity',position='dodge')\n",
    "+ labs(x='대여일', y='대여수', title='일별 자전거 대여수')\n",
    "+ theme(text=element_text(family=fontprop),figure_size=(12,6))\n",
    ")"
   ]
  },
  {
   "cell_type": "code",
   "execution_count": 33,
   "metadata": {},
   "outputs": [
    {
     "name": "stdout",
     "output_type": "stream",
     "text": [
      "(7, 3)\n",
      "(7, 3)\n",
      "(14, 3)\n"
     ]
    },
    {
     "data": {
      "text/html": [
       "<div>\n",
       "<style scoped>\n",
       "    .dataframe tbody tr th:only-of-type {\n",
       "        vertical-align: middle;\n",
       "    }\n",
       "\n",
       "    .dataframe tbody tr th {\n",
       "        vertical-align: top;\n",
       "    }\n",
       "\n",
       "    .dataframe thead th {\n",
       "        text-align: right;\n",
       "    }\n",
       "</style>\n",
       "<table border=\"1\" class=\"dataframe\">\n",
       "  <thead>\n",
       "    <tr style=\"text-align: right;\">\n",
       "      <th></th>\n",
       "      <th>dayofweek</th>\n",
       "      <th>count</th>\n",
       "      <th>대여반납</th>\n",
       "    </tr>\n",
       "  </thead>\n",
       "  <tbody>\n",
       "    <tr>\n",
       "      <th>4</th>\n",
       "      <td>0</td>\n",
       "      <td>81933</td>\n",
       "      <td>대여</td>\n",
       "    </tr>\n",
       "    <tr>\n",
       "      <th>6</th>\n",
       "      <td>1</td>\n",
       "      <td>53151</td>\n",
       "      <td>대여</td>\n",
       "    </tr>\n",
       "    <tr>\n",
       "      <th>2</th>\n",
       "      <td>2</td>\n",
       "      <td>86805</td>\n",
       "      <td>대여</td>\n",
       "    </tr>\n",
       "    <tr>\n",
       "      <th>5</th>\n",
       "      <td>3</td>\n",
       "      <td>74772</td>\n",
       "      <td>대여</td>\n",
       "    </tr>\n",
       "    <tr>\n",
       "      <th>1</th>\n",
       "      <td>4</td>\n",
       "      <td>89337</td>\n",
       "      <td>대여</td>\n",
       "    </tr>\n",
       "    <tr>\n",
       "      <th>0</th>\n",
       "      <td>5</td>\n",
       "      <td>117981</td>\n",
       "      <td>대여</td>\n",
       "    </tr>\n",
       "    <tr>\n",
       "      <th>3</th>\n",
       "      <td>6</td>\n",
       "      <td>82325</td>\n",
       "      <td>대여</td>\n",
       "    </tr>\n",
       "    <tr>\n",
       "      <th>4</th>\n",
       "      <td>0</td>\n",
       "      <td>82058</td>\n",
       "      <td>반납</td>\n",
       "    </tr>\n",
       "    <tr>\n",
       "      <th>6</th>\n",
       "      <td>1</td>\n",
       "      <td>53907</td>\n",
       "      <td>반납</td>\n",
       "    </tr>\n",
       "    <tr>\n",
       "      <th>2</th>\n",
       "      <td>2</td>\n",
       "      <td>86535</td>\n",
       "      <td>반납</td>\n",
       "    </tr>\n",
       "    <tr>\n",
       "      <th>5</th>\n",
       "      <td>3</td>\n",
       "      <td>74772</td>\n",
       "      <td>반납</td>\n",
       "    </tr>\n",
       "    <tr>\n",
       "      <th>1</th>\n",
       "      <td>4</td>\n",
       "      <td>88168</td>\n",
       "      <td>반납</td>\n",
       "    </tr>\n",
       "    <tr>\n",
       "      <th>0</th>\n",
       "      <td>5</td>\n",
       "      <td>117695</td>\n",
       "      <td>반납</td>\n",
       "    </tr>\n",
       "    <tr>\n",
       "      <th>3</th>\n",
       "      <td>6</td>\n",
       "      <td>83169</td>\n",
       "      <td>반납</td>\n",
       "    </tr>\n",
       "  </tbody>\n",
       "</table>\n",
       "</div>"
      ],
      "text/plain": [
       "   dayofweek   count 대여반납\n",
       "4          0   81933   대여\n",
       "6          1   53151   대여\n",
       "2          2   86805   대여\n",
       "5          3   74772   대여\n",
       "1          4   89337   대여\n",
       "0          5  117981   대여\n",
       "3          6   82325   대여\n",
       "4          0   82058   반납\n",
       "6          1   53907   반납\n",
       "2          2   86535   반납\n",
       "5          3   74772   반납\n",
       "1          4   88168   반납\n",
       "0          5  117695   반납\n",
       "3          6   83169   반납"
      ]
     },
     "execution_count": 33,
     "metadata": {},
     "output_type": "execute_result"
    }
   ],
   "source": [
    "#요일별 대여/반납 현황\n",
    "df_dow_1 = df['대여요일'].value_counts().reset_index()\n",
    "df_dow_1.columns = ['dayofweek','count']\n",
    "df_dow_1 = df_dow_1.sort_values('dayofweek')\n",
    "df_dow_1['대여반납']='대여'\n",
    "print(df_dow_1.shape)\n",
    "df_dow_1.head()\n",
    "\n",
    "df_dow_2 = df['반납요일'].value_counts().reset_index()\n",
    "df_dow_2.columns = ['dayofweek','count']\n",
    "df_dow_2 = df_dow_2.sort_values('dayofweek')\n",
    "df_dow_2['대여반납']='반납'\n",
    "print(df_dow_2.shape)\n",
    "df_dow_2.head()\n",
    "\n",
    "df_dow = pd.concat([df_dow_1,df_dow_2])\n",
    "print(df_dow.shape)\n",
    "df_dow"
   ]
  },
  {
   "cell_type": "code",
   "execution_count": 34,
   "metadata": {},
   "outputs": [
    {
     "data": {
      "image/png": "[encoded data removed]",
      "text/plain": [
       "<Figure size 1200x600 with 1 Axes>"
      ]
     },
     "metadata": {},
     "output_type": "display_data"
    },
    {
     "data": {
      "text/plain": [
       "<ggplot: (337786772)>"
      ]
     },
     "execution_count": 34,
     "metadata": {},
     "output_type": "execute_result"
    }
   ],
   "source": [
    "# plotnine의 ggplot으로 시각화\n",
    "(ggplot(df_dow)\n",
    "+ aes(x='dayofweek', y='count',fill='대여반납')\n",
    "+ geom_bar(stat='identity',position='dodge')\n",
    "+ geom_point()\n",
    "+ geom_line(color='blue') \n",
    "+ labs(x='대여요일', y='대여수', title='요일별 자전거 대여수')\n",
    "+ theme(text=element_text(family=fontprop),figure_size=(12,6))\n",
    ")"
   ]
  },
  {
   "cell_type": "code",
   "execution_count": 35,
   "metadata": {},
   "outputs": [
    {
     "name": "stdout",
     "output_type": "stream",
     "text": [
      "(24, 3)\n",
      "(24, 3)\n",
      "(48, 3)\n"
     ]
    },
    {
     "data": {
      "text/html": [
       "<div>\n",
       "<style scoped>\n",
       "    .dataframe tbody tr th:only-of-type {\n",
       "        vertical-align: middle;\n",
       "    }\n",
       "\n",
       "    .dataframe tbody tr th {\n",
       "        vertical-align: top;\n",
       "    }\n",
       "\n",
       "    .dataframe thead th {\n",
       "        text-align: right;\n",
       "    }\n",
       "</style>\n",
       "<table border=\"1\" class=\"dataframe\">\n",
       "  <thead>\n",
       "    <tr style=\"text-align: right;\">\n",
       "      <th></th>\n",
       "      <th>hour</th>\n",
       "      <th>count</th>\n",
       "      <th>대여반납</th>\n",
       "    </tr>\n",
       "  </thead>\n",
       "  <tbody>\n",
       "    <tr>\n",
       "      <th>13</th>\n",
       "      <td>0</td>\n",
       "      <td>19837</td>\n",
       "      <td>대여</td>\n",
       "    </tr>\n",
       "    <tr>\n",
       "      <th>17</th>\n",
       "      <td>1</td>\n",
       "      <td>15358</td>\n",
       "      <td>대여</td>\n",
       "    </tr>\n",
       "    <tr>\n",
       "      <th>19</th>\n",
       "      <td>2</td>\n",
       "      <td>12255</td>\n",
       "      <td>대여</td>\n",
       "    </tr>\n",
       "    <tr>\n",
       "      <th>21</th>\n",
       "      <td>3</td>\n",
       "      <td>7462</td>\n",
       "      <td>대여</td>\n",
       "    </tr>\n",
       "    <tr>\n",
       "      <th>23</th>\n",
       "      <td>4</td>\n",
       "      <td>4392</td>\n",
       "      <td>대여</td>\n",
       "    </tr>\n",
       "  </tbody>\n",
       "</table>\n",
       "</div>"
      ],
      "text/plain": [
       "    hour  count 대여반납\n",
       "13     0  19837   대여\n",
       "17     1  15358   대여\n",
       "19     2  12255   대여\n",
       "21     3   7462   대여\n",
       "23     4   4392   대여"
      ]
     },
     "execution_count": 35,
     "metadata": {},
     "output_type": "execute_result"
    }
   ],
   "source": [
    "#시간대별 대여/반납 현황\n",
    "df_hour_1 = df['대여시'].value_counts().reset_index()\n",
    "df_hour_1.columns = ['hour','count']\n",
    "df_hour_1 = df_hour_1.sort_values('hour')\n",
    "df_hour_1['대여반납']='대여'\n",
    "print(df_hour_1.shape)\n",
    "df_hour_1.head()\n",
    "\n",
    "df_hour_2 = df['반납시'].value_counts().reset_index()\n",
    "df_hour_2.columns = ['hour','count']\n",
    "df_hour_2 = df_hour_2.sort_values('hour')\n",
    "df_hour_2['대여반납']='반납'\n",
    "print(df_hour_2.shape)\n",
    "df_hour_2.head()\n",
    "\n",
    "df_hour = pd.concat([df_hour_1,df_hour_2])\n",
    "print(df_hour.shape)\n",
    "df_hour.head()"
   ]
  },
  {
   "cell_type": "code",
   "execution_count": 36,
   "metadata": {},
   "outputs": [
    {
     "data": {
      "image/png": "[encoded data removed]",
      "text/plain": [
       "<Figure size 1200x600 with 1 Axes>"
      ]
     },
     "metadata": {},
     "output_type": "display_data"
    },
    {
     "data": {
      "text/plain": [
       "<ggplot: (337767302)>"
      ]
     },
     "execution_count": 36,
     "metadata": {},
     "output_type": "execute_result"
    }
   ],
   "source": [
    "# plotnine의 ggplot으로 시각화\n",
    "(ggplot(df_hour)\n",
    "+ aes(x='hour', y='count',fill='대여반납')\n",
    "+ geom_bar(stat='identity',position='dodge')\n",
    "+ geom_point()\n",
    "+ geom_line(color='blue') \n",
    "+ labs(x='대여시간', y='대여수', title='시간대별 자전거 대여수')\n",
    "+ theme(text=element_text(family=fontprop),figure_size=(12,6))\n",
    ")"
   ]
  },
  {
   "cell_type": "markdown",
   "metadata": {},
   "source": [
    "* 새벽시간대로 갈 수록 대여/반납 수가 줄어든다.\n",
    "* 출근시간에는 대여가 반납보다 많다. \n",
    "* 오전 8시대에 대여/반납이 많고, 오후 18시 이후에 대여/반납이 가장 많다.\n",
    "* 21시 - 오전 4시 : 대여 < 반납\n",
    "* 오전 11시 - 20시 : 대여 > 반납"
   ]
  },
  {
   "cell_type": "code",
   "execution_count": 37,
   "metadata": {},
   "outputs": [
    {
     "data": {
      "text/plain": [
       "Index(['자전거번호', '대여일시', '대여대여소번호', '대여대여소명', '대여거치대', '반납일시', '반납대여소번호',\n",
       "       '반납대여소명', '반납거치대', '이용시간(분)', '이용거리(M)', '대여년', '대여월', '대여일', '대여시',\n",
       "       '대여분', '대여요일', '반납년', '반납월', '반납일', '반납시', '반납분', '반납요일'],\n",
       "      dtype='object')"
      ]
     },
     "execution_count": 37,
     "metadata": {},
     "output_type": "execute_result"
    }
   ],
   "source": [
    "#대여와 반납이 같은 곳에 이루어지는지?\n",
    "df.columns"
   ]
  },
  {
   "cell_type": "code",
   "execution_count": 38,
   "metadata": {},
   "outputs": [
    {
     "data": {
      "text/html": [
       "<div>\n",
       "<style scoped>\n",
       "    .dataframe tbody tr th:only-of-type {\n",
       "        vertical-align: middle;\n",
       "    }\n",
       "\n",
       "    .dataframe tbody tr th {\n",
       "        vertical-align: top;\n",
       "    }\n",
       "\n",
       "    .dataframe thead th {\n",
       "        text-align: right;\n",
       "    }\n",
       "</style>\n",
       "<table border=\"1\" class=\"dataframe\">\n",
       "  <thead>\n",
       "    <tr style=\"text-align: right;\">\n",
       "      <th></th>\n",
       "      <th>대여대여소명</th>\n",
       "      <th>반납대여소명</th>\n",
       "      <th>같은대여반납소</th>\n",
       "    </tr>\n",
       "  </thead>\n",
       "  <tbody>\n",
       "    <tr>\n",
       "      <th>0</th>\n",
       "      <td>예일여중</td>\n",
       "      <td>신사동 성당</td>\n",
       "      <td>False</td>\n",
       "    </tr>\n",
       "    <tr>\n",
       "      <th>1</th>\n",
       "      <td>당산육갑문</td>\n",
       "      <td>독산보도육교 앞 자전거 보관소</td>\n",
       "      <td>False</td>\n",
       "    </tr>\n",
       "    <tr>\n",
       "      <th>2</th>\n",
       "      <td>고덕동 주양쇼핑</td>\n",
       "      <td>강일 다솜 어린이 공원</td>\n",
       "      <td>False</td>\n",
       "    </tr>\n",
       "    <tr>\n",
       "      <th>3</th>\n",
       "      <td>삼익세라믹아파트교차로</td>\n",
       "      <td>기업은행 앞</td>\n",
       "      <td>False</td>\n",
       "    </tr>\n",
       "    <tr>\n",
       "      <th>4</th>\n",
       "      <td>노량진동 맥도널드앞</td>\n",
       "      <td>신길역3번출구</td>\n",
       "      <td>False</td>\n",
       "    </tr>\n",
       "  </tbody>\n",
       "</table>\n",
       "</div>"
      ],
      "text/plain": [
       "         대여대여소명             반납대여소명  같은대여반납소\n",
       "0          예일여중             신사동 성당    False\n",
       "1         당산육갑문   독산보도육교 앞 자전거 보관소    False\n",
       "2      고덕동 주양쇼핑       강일 다솜 어린이 공원    False\n",
       "3   삼익세라믹아파트교차로             기업은행 앞    False\n",
       "4    노량진동 맥도널드앞            신길역3번출구    False"
      ]
     },
     "execution_count": 38,
     "metadata": {},
     "output_type": "execute_result"
    }
   ],
   "source": [
    "#같은대여반납소 컬럼을 생성\n",
    "df['같은대여반납소'] = df['대여대여소명'] == df['반납대여소명']\n",
    "df.loc[:,['대여대여소명','반납대여소명','같은대여반납소']].head()"
   ]
  },
  {
   "cell_type": "code",
   "execution_count": 39,
   "metadata": {},
   "outputs": [
    {
     "name": "stdout",
     "output_type": "stream",
     "text": [
      "7.856020784242644\n",
      "대여와반납이 다른 곳이 7.86배 많다\n"
     ]
    }
   ],
   "source": [
    "#같은대여반납소의 값을 선택해서 새로운 dataframe생성\n",
    "df_location_diff = df['같은대여반납소'].value_counts().reset_index()\n",
    "df_location_diff.columns=['일치여부','대여반납수']\n",
    "df_location_diff.head()\n",
    "df_location_diff_ratio = df_location_diff['대여반납수'][0] / \\\n",
    "df_location_diff['대여반납수'][1]\n",
    "print(df_location_diff_ratio)\n",
    "print('대여와반납이 다른 곳이 {0:.2f}배 많다'.format(df_location_diff_ratio))"
   ]
  },
  {
   "cell_type": "code",
   "execution_count": 40,
   "metadata": {},
   "outputs": [
    {
     "data": {
      "text/html": [
       "<div>\n",
       "<style scoped>\n",
       "    .dataframe tbody tr th:only-of-type {\n",
       "        vertical-align: middle;\n",
       "    }\n",
       "\n",
       "    .dataframe tbody tr th {\n",
       "        vertical-align: top;\n",
       "    }\n",
       "\n",
       "    .dataframe thead th {\n",
       "        text-align: right;\n",
       "    }\n",
       "</style>\n",
       "<table border=\"1\" class=\"dataframe\">\n",
       "  <thead>\n",
       "    <tr style=\"text-align: right;\">\n",
       "      <th></th>\n",
       "      <th>일치여부</th>\n",
       "      <th>대여반납수</th>\n",
       "    </tr>\n",
       "  </thead>\n",
       "  <tbody>\n",
       "    <tr>\n",
       "      <th>0</th>\n",
       "      <td>False</td>\n",
       "      <td>520100</td>\n",
       "    </tr>\n",
       "    <tr>\n",
       "      <th>1</th>\n",
       "      <td>True</td>\n",
       "      <td>66204</td>\n",
       "    </tr>\n",
       "  </tbody>\n",
       "</table>\n",
       "</div>"
      ],
      "text/plain": [
       "    일치여부   대여반납수\n",
       "0  False  520100\n",
       "1   True   66204"
      ]
     },
     "execution_count": 40,
     "metadata": {},
     "output_type": "execute_result"
    }
   ],
   "source": [
    "df_location_diff"
   ]
  },
  {
   "cell_type": "code",
   "execution_count": 41,
   "metadata": {},
   "outputs": [
    {
     "data": {
      "image/png": "[encoded data removed]",
      "text/plain": [
       "<Figure size 640x480 with 1 Axes>"
      ]
     },
     "metadata": {},
     "output_type": "display_data"
    },
    {
     "data": {
      "text/plain": [
       "<ggplot: (320089527)>"
      ]
     },
     "execution_count": 41,
     "metadata": {},
     "output_type": "execute_result"
    }
   ],
   "source": [
    "(ggplot(df_location_diff)\n",
    "+ geom_col(mapping=aes(x='일치여부',y='대여반납수',fill='대여반납수'))\n",
    "+ labs(title='대여반납소 일치여부')\n",
    "+ theme(text=element_text(family=fontprop)) \n",
    ")"
   ]
  }
 ],
 "metadata": {
  "kernelspec": {
   "display_name": "Python 3",
   "language": "python",
   "name": "python3"
  },
  "language_info": {
   "codemirror_mode": {
    "name": "ipython",
    "version": 3
   },
   "file_extension": ".py",
   "mimetype": "text/x-python",
   "name": "python",
   "nbconvert_exporter": "python",
   "pygments_lexer": "ipython3",
   "version": "3.7.2"
  }
 },
 "nbformat": 4,
 "nbformat_minor": 2
}
