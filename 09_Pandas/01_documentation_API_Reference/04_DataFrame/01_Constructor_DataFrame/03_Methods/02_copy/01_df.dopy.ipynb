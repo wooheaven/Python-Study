{
 "cells": [
  {
   "cell_type": "code",
   "execution_count": 1,
   "metadata": {},
   "outputs": [],
   "source": [
    "import numpy as np\n",
    "import pandas as pd"
   ]
  },
  {
   "cell_type": "code",
   "execution_count": 2,
   "metadata": {},
   "outputs": [
    {
     "data": {
      "text/html": [
       "<div>\n",
       "<style scoped>\n",
       "    .dataframe tbody tr th:only-of-type {\n",
       "        vertical-align: middle;\n",
       "    }\n",
       "\n",
       "    .dataframe tbody tr th {\n",
       "        vertical-align: top;\n",
       "    }\n",
       "\n",
       "    .dataframe thead th {\n",
       "        text-align: right;\n",
       "    }\n",
       "</style>\n",
       "<table border=\"1\" class=\"dataframe\">\n",
       "  <thead>\n",
       "    <tr style=\"text-align: right;\">\n",
       "      <th></th>\n",
       "      <th>c1</th>\n",
       "      <th>c4</th>\n",
       "      <th>c3</th>\n",
       "      <th>c2</th>\n",
       "      <th>c0</th>\n",
       "    </tr>\n",
       "  </thead>\n",
       "  <tbody>\n",
       "    <tr>\n",
       "      <th>r1</th>\n",
       "      <td>-1.602864</td>\n",
       "      <td>0.839168</td>\n",
       "      <td>0.416157</td>\n",
       "      <td>0.518236</td>\n",
       "      <td>-0.300463</td>\n",
       "    </tr>\n",
       "    <tr>\n",
       "      <th>r0</th>\n",
       "      <td>-0.534766</td>\n",
       "      <td>1.605356</td>\n",
       "      <td>-1.645582</td>\n",
       "      <td>-1.154875</td>\n",
       "      <td>-1.048135</td>\n",
       "    </tr>\n",
       "    <tr>\n",
       "      <th>r3</th>\n",
       "      <td>1.043587</td>\n",
       "      <td>0.167669</td>\n",
       "      <td>-0.564112</td>\n",
       "      <td>1.111318</td>\n",
       "      <td>-1.805608</td>\n",
       "    </tr>\n",
       "    <tr>\n",
       "      <th>r2</th>\n",
       "      <td>-0.250419</td>\n",
       "      <td>0.871630</td>\n",
       "      <td>0.462460</td>\n",
       "      <td>-0.375657</td>\n",
       "      <td>-1.275075</td>\n",
       "    </tr>\n",
       "  </tbody>\n",
       "</table>\n",
       "</div>"
      ],
      "text/plain": [
       "          c1        c4        c3        c2        c0\n",
       "r1 -1.602864  0.839168  0.416157  0.518236 -0.300463\n",
       "r0 -0.534766  1.605356 -1.645582 -1.154875 -1.048135\n",
       "r3  1.043587  0.167669 -0.564112  1.111318 -1.805608\n",
       "r2 -0.250419  0.871630  0.462460 -0.375657 -1.275075"
      ]
     },
     "execution_count": 2,
     "metadata": {},
     "output_type": "execute_result"
    }
   ],
   "source": [
    "df = pd.DataFrame(np.random.randn(4,5), \n",
    "                  columns=['c1', 'c4', 'c3', 'c2', 'c0'], \n",
    "                  index=['r1', 'r0', 'r3', 'r2'])\n",
    "df"
   ]
  },
  {
   "cell_type": "code",
   "execution_count": 3,
   "metadata": {},
   "outputs": [
    {
     "name": "stdout",
     "output_type": "stream",
     "text": [
      "<class 'pandas.core.frame.DataFrame'>\n"
     ]
    },
    {
     "data": {
      "text/html": [
       "<div>\n",
       "<style scoped>\n",
       "    .dataframe tbody tr th:only-of-type {\n",
       "        vertical-align: middle;\n",
       "    }\n",
       "\n",
       "    .dataframe tbody tr th {\n",
       "        vertical-align: top;\n",
       "    }\n",
       "\n",
       "    .dataframe thead th {\n",
       "        text-align: right;\n",
       "    }\n",
       "</style>\n",
       "<table border=\"1\" class=\"dataframe\">\n",
       "  <thead>\n",
       "    <tr style=\"text-align: right;\">\n",
       "      <th></th>\n",
       "      <th>c1</th>\n",
       "      <th>c4</th>\n",
       "      <th>c3</th>\n",
       "      <th>c2</th>\n",
       "      <th>c0</th>\n",
       "    </tr>\n",
       "  </thead>\n",
       "  <tbody>\n",
       "    <tr>\n",
       "      <th>r1</th>\n",
       "      <td>-1.602864</td>\n",
       "      <td>0.839168</td>\n",
       "      <td>0.416157</td>\n",
       "      <td>0.518236</td>\n",
       "      <td>-0.300463</td>\n",
       "    </tr>\n",
       "    <tr>\n",
       "      <th>r0</th>\n",
       "      <td>-0.534766</td>\n",
       "      <td>1.605356</td>\n",
       "      <td>-1.645582</td>\n",
       "      <td>-1.154875</td>\n",
       "      <td>-1.048135</td>\n",
       "    </tr>\n",
       "    <tr>\n",
       "      <th>r3</th>\n",
       "      <td>1.043587</td>\n",
       "      <td>0.167669</td>\n",
       "      <td>-0.564112</td>\n",
       "      <td>1.111318</td>\n",
       "      <td>-1.805608</td>\n",
       "    </tr>\n",
       "    <tr>\n",
       "      <th>r2</th>\n",
       "      <td>-0.250419</td>\n",
       "      <td>0.871630</td>\n",
       "      <td>0.462460</td>\n",
       "      <td>-0.375657</td>\n",
       "      <td>-1.275075</td>\n",
       "    </tr>\n",
       "  </tbody>\n",
       "</table>\n",
       "</div>"
      ],
      "text/plain": [
       "          c1        c4        c3        c2        c0\n",
       "r1 -1.602864  0.839168  0.416157  0.518236 -0.300463\n",
       "r0 -0.534766  1.605356 -1.645582 -1.154875 -1.048135\n",
       "r3  1.043587  0.167669 -0.564112  1.111318 -1.805608\n",
       "r2 -0.250419  0.871630  0.462460 -0.375657 -1.275075"
      ]
     },
     "execution_count": 3,
     "metadata": {},
     "output_type": "execute_result"
    }
   ],
   "source": [
    "# Make a copy of this object’s indices and data.\n",
    "# When deep=True (default), a new object will be created with copy.\n",
    "# When deep=False, a new object will be created with reference.\n",
    "df1 = df.copy()\n",
    "print(type(df1))\n",
    "df1"
   ]
  }
 ],
 "metadata": {
  "kernelspec": {
   "display_name": "Python 3",
   "language": "python",
   "name": "python3"
  },
  "language_info": {
   "codemirror_mode": {
    "name": "ipython",
    "version": 3
   },
   "file_extension": ".py",
   "mimetype": "text/x-python",
   "name": "python",
   "nbconvert_exporter": "python",
   "pygments_lexer": "ipython3",
   "version": "3.7.2"
  }
 },
 "nbformat": 4,
 "nbformat_minor": 2
}
