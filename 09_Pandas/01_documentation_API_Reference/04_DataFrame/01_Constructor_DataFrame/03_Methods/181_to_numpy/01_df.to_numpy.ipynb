{
 "cells": [
  {
   "cell_type": "code",
   "execution_count": 1,
   "metadata": {},
   "outputs": [],
   "source": [
    "import numpy as np\n",
    "import pandas as pd"
   ]
  },
  {
   "cell_type": "code",
   "execution_count": 2,
   "metadata": {},
   "outputs": [
    {
     "data": {
      "text/html": [
       "<div>\n",
       "<style scoped>\n",
       "    .dataframe tbody tr th:only-of-type {\n",
       "        vertical-align: middle;\n",
       "    }\n",
       "\n",
       "    .dataframe tbody tr th {\n",
       "        vertical-align: top;\n",
       "    }\n",
       "\n",
       "    .dataframe thead th {\n",
       "        text-align: right;\n",
       "    }\n",
       "</style>\n",
       "<table border=\"1\" class=\"dataframe\">\n",
       "  <thead>\n",
       "    <tr style=\"text-align: right;\">\n",
       "      <th></th>\n",
       "      <th>c1</th>\n",
       "      <th>c4</th>\n",
       "      <th>c3</th>\n",
       "      <th>c2</th>\n",
       "      <th>c0</th>\n",
       "    </tr>\n",
       "  </thead>\n",
       "  <tbody>\n",
       "    <tr>\n",
       "      <th>r1</th>\n",
       "      <td>2.186758</td>\n",
       "      <td>1.172160</td>\n",
       "      <td>0.322952</td>\n",
       "      <td>1.195425</td>\n",
       "      <td>-0.436296</td>\n",
       "    </tr>\n",
       "    <tr>\n",
       "      <th>r0</th>\n",
       "      <td>-0.575307</td>\n",
       "      <td>0.368532</td>\n",
       "      <td>-0.243241</td>\n",
       "      <td>-0.312282</td>\n",
       "      <td>0.572056</td>\n",
       "    </tr>\n",
       "    <tr>\n",
       "      <th>r3</th>\n",
       "      <td>-0.994342</td>\n",
       "      <td>-0.928687</td>\n",
       "      <td>2.376126</td>\n",
       "      <td>0.502041</td>\n",
       "      <td>-0.141714</td>\n",
       "    </tr>\n",
       "    <tr>\n",
       "      <th>r2</th>\n",
       "      <td>1.626360</td>\n",
       "      <td>1.090684</td>\n",
       "      <td>0.371674</td>\n",
       "      <td>-0.309019</td>\n",
       "      <td>1.637513</td>\n",
       "    </tr>\n",
       "  </tbody>\n",
       "</table>\n",
       "</div>"
      ],
      "text/plain": [
       "          c1        c4        c3        c2        c0\n",
       "r1  2.186758  1.172160  0.322952  1.195425 -0.436296\n",
       "r0 -0.575307  0.368532 -0.243241 -0.312282  0.572056\n",
       "r3 -0.994342 -0.928687  2.376126  0.502041 -0.141714\n",
       "r2  1.626360  1.090684  0.371674 -0.309019  1.637513"
      ]
     },
     "execution_count": 2,
     "metadata": {},
     "output_type": "execute_result"
    }
   ],
   "source": [
    "df = pd.DataFrame(np.random.randn(4,5), \n",
    "                  columns=['c1', 'c4', 'c3', 'c2', 'c0'], \n",
    "                  index=['r1', 'r0', 'r3', 'r2'])\n",
    "df"
   ]
  },
  {
   "cell_type": "code",
   "execution_count": 3,
   "metadata": {},
   "outputs": [
    {
     "name": "stdout",
     "output_type": "stream",
     "text": [
      "<class 'numpy.ndarray'>\n"
     ]
    },
    {
     "data": {
      "text/plain": [
       "array([[ 2.18675809,  1.17215967,  0.32295152,  1.19542536, -0.43629591],\n",
       "       [-0.57530671,  0.3685323 , -0.24324131, -0.31228194,  0.57205553],\n",
       "       [-0.99434186, -0.9286871 ,  2.37612627,  0.50204098, -0.14171398],\n",
       "       [ 1.62635999,  1.09068444,  0.37167383, -0.30901892,  1.63751348]])"
      ]
     },
     "execution_count": 3,
     "metadata": {},
     "output_type": "execute_result"
    }
   ],
   "source": [
    "# Convert the DataFrame to a NumPy array\n",
    "print(type(df.to_numpy()))\n",
    "df.to_numpy()"
   ]
  }
 ],
 "metadata": {
  "kernelspec": {
   "display_name": "Python 3",
   "language": "python",
   "name": "python3"
  },
  "language_info": {
   "codemirror_mode": {
    "name": "ipython",
    "version": 3
   },
   "file_extension": ".py",
   "mimetype": "text/x-python",
   "name": "python",
   "nbconvert_exporter": "python",
   "pygments_lexer": "ipython3",
   "version": "3.7.2"
  }
 },
 "nbformat": 4,
 "nbformat_minor": 2
}
