{
 "cells": [
  {
   "cell_type": "code",
   "execution_count": 1,
   "metadata": {},
   "outputs": [],
   "source": [
    "import numpy as np\n",
    "import pandas as pd"
   ]
  },
  {
   "cell_type": "code",
   "execution_count": 2,
   "metadata": {},
   "outputs": [
    {
     "data": {
      "text/html": [
       "<div>\n",
       "<style scoped>\n",
       "    .dataframe tbody tr th:only-of-type {\n",
       "        vertical-align: middle;\n",
       "    }\n",
       "\n",
       "    .dataframe tbody tr th {\n",
       "        vertical-align: top;\n",
       "    }\n",
       "\n",
       "    .dataframe thead th {\n",
       "        text-align: right;\n",
       "    }\n",
       "</style>\n",
       "<table border=\"1\" class=\"dataframe\">\n",
       "  <thead>\n",
       "    <tr style=\"text-align: right;\">\n",
       "      <th></th>\n",
       "      <th>c1</th>\n",
       "      <th>c4</th>\n",
       "      <th>c3</th>\n",
       "      <th>c2</th>\n",
       "      <th>c0</th>\n",
       "    </tr>\n",
       "  </thead>\n",
       "  <tbody>\n",
       "    <tr>\n",
       "      <th>r1</th>\n",
       "      <td>0.843079</td>\n",
       "      <td>0.923674</td>\n",
       "      <td>0.550168</td>\n",
       "      <td>-0.057655</td>\n",
       "      <td>0.357069</td>\n",
       "    </tr>\n",
       "    <tr>\n",
       "      <th>r0</th>\n",
       "      <td>-0.483565</td>\n",
       "      <td>0.790892</td>\n",
       "      <td>-0.770367</td>\n",
       "      <td>0.009543</td>\n",
       "      <td>-0.302089</td>\n",
       "    </tr>\n",
       "    <tr>\n",
       "      <th>r3</th>\n",
       "      <td>0.011076</td>\n",
       "      <td>-0.425920</td>\n",
       "      <td>2.345425</td>\n",
       "      <td>1.533223</td>\n",
       "      <td>-0.659541</td>\n",
       "    </tr>\n",
       "    <tr>\n",
       "      <th>r2</th>\n",
       "      <td>1.556874</td>\n",
       "      <td>-1.100077</td>\n",
       "      <td>0.554706</td>\n",
       "      <td>-0.126528</td>\n",
       "      <td>0.181166</td>\n",
       "    </tr>\n",
       "  </tbody>\n",
       "</table>\n",
       "</div>"
      ],
      "text/plain": [
       "          c1        c4        c3        c2        c0\n",
       "r1  0.843079  0.923674  0.550168 -0.057655  0.357069\n",
       "r0 -0.483565  0.790892 -0.770367  0.009543 -0.302089\n",
       "r3  0.011076 -0.425920  2.345425  1.533223 -0.659541\n",
       "r2  1.556874 -1.100077  0.554706 -0.126528  0.181166"
      ]
     },
     "execution_count": 2,
     "metadata": {},
     "output_type": "execute_result"
    }
   ],
   "source": [
    "df = pd.DataFrame(np.random.randn(4,5), \n",
    "                  columns=['c1', 'c4', 'c3', 'c2', 'c0'], \n",
    "                  index=['r1', 'r0', 'r3', 'r2'])\n",
    "df"
   ]
  },
  {
   "cell_type": "code",
   "execution_count": 3,
   "metadata": {},
   "outputs": [
    {
     "data": {
      "text/html": [
       "<div>\n",
       "<style scoped>\n",
       "    .dataframe tbody tr th:only-of-type {\n",
       "        vertical-align: middle;\n",
       "    }\n",
       "\n",
       "    .dataframe tbody tr th {\n",
       "        vertical-align: top;\n",
       "    }\n",
       "\n",
       "    .dataframe thead th {\n",
       "        text-align: right;\n",
       "    }\n",
       "</style>\n",
       "<table border=\"1\" class=\"dataframe\">\n",
       "  <thead>\n",
       "    <tr style=\"text-align: right;\">\n",
       "      <th></th>\n",
       "      <th>c1</th>\n",
       "      <th>c4</th>\n",
       "      <th>c3</th>\n",
       "      <th>c2</th>\n",
       "      <th>c0</th>\n",
       "    </tr>\n",
       "  </thead>\n",
       "  <tbody>\n",
       "    <tr>\n",
       "      <th>r0</th>\n",
       "      <td>-0.483565</td>\n",
       "      <td>0.790892</td>\n",
       "      <td>-0.770367</td>\n",
       "      <td>0.009543</td>\n",
       "      <td>-0.302089</td>\n",
       "    </tr>\n",
       "    <tr>\n",
       "      <th>r1</th>\n",
       "      <td>0.843079</td>\n",
       "      <td>0.923674</td>\n",
       "      <td>0.550168</td>\n",
       "      <td>-0.057655</td>\n",
       "      <td>0.357069</td>\n",
       "    </tr>\n",
       "    <tr>\n",
       "      <th>r2</th>\n",
       "      <td>1.556874</td>\n",
       "      <td>-1.100077</td>\n",
       "      <td>0.554706</td>\n",
       "      <td>-0.126528</td>\n",
       "      <td>0.181166</td>\n",
       "    </tr>\n",
       "    <tr>\n",
       "      <th>r3</th>\n",
       "      <td>0.011076</td>\n",
       "      <td>-0.425920</td>\n",
       "      <td>2.345425</td>\n",
       "      <td>1.533223</td>\n",
       "      <td>-0.659541</td>\n",
       "    </tr>\n",
       "  </tbody>\n",
       "</table>\n",
       "</div>"
      ],
      "text/plain": [
       "          c1        c4        c3        c2        c0\n",
       "r0 -0.483565  0.790892 -0.770367  0.009543 -0.302089\n",
       "r1  0.843079  0.923674  0.550168 -0.057655  0.357069\n",
       "r2  1.556874 -1.100077  0.554706 -0.126528  0.181166\n",
       "r3  0.011076 -0.425920  2.345425  1.533223 -0.659541"
      ]
     },
     "execution_count": 3,
     "metadata": {},
     "output_type": "execute_result"
    }
   ],
   "source": [
    "df_sort_idx = df.sort_index()\n",
    "df_sort_idx"
   ]
  }
 ],
 "metadata": {
  "kernelspec": {
   "display_name": "Python 3",
   "language": "python",
   "name": "python3"
  },
  "language_info": {
   "codemirror_mode": {
    "name": "ipython",
    "version": 3
   },
   "file_extension": ".py",
   "mimetype": "text/x-python",
   "name": "python",
   "nbconvert_exporter": "python",
   "pygments_lexer": "ipython3",
   "version": "3.7.2"
  }
 },
 "nbformat": 4,
 "nbformat_minor": 2
}
