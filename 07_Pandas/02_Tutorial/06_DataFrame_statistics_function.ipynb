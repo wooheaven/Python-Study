{
 "cells": [
  {
   "cell_type": "code",
   "execution_count": 1,
   "metadata": {},
   "outputs": [],
   "source": [
    "import pandas as pd\n",
    "import numpy as np"
   ]
  },
  {
   "cell_type": "code",
   "execution_count": 2,
   "metadata": {},
   "outputs": [
    {
     "data": {
      "text/html": [
       "<div>\n",
       "<style scoped>\n",
       "    .dataframe tbody tr th:only-of-type {\n",
       "        vertical-align: middle;\n",
       "    }\n",
       "\n",
       "    .dataframe tbody tr th {\n",
       "        vertical-align: top;\n",
       "    }\n",
       "\n",
       "    .dataframe thead th {\n",
       "        text-align: right;\n",
       "    }\n",
       "</style>\n",
       "<table border=\"1\" class=\"dataframe\">\n",
       "  <thead>\n",
       "    <tr style=\"text-align: right;\">\n",
       "      <th></th>\n",
       "      <th>a</th>\n",
       "      <th>b</th>\n",
       "      <th>c</th>\n",
       "      <th>d</th>\n",
       "      <th>e</th>\n",
       "      <th>f</th>\n",
       "      <th>g</th>\n",
       "    </tr>\n",
       "  </thead>\n",
       "  <tbody>\n",
       "    <tr>\n",
       "      <th>2019-01-11</th>\n",
       "      <td>1.039833</td>\n",
       "      <td>-1.202150</td>\n",
       "      <td>-0.729961</td>\n",
       "      <td>0.507225</td>\n",
       "      <td>-1.211791</td>\n",
       "      <td>0.649087</td>\n",
       "      <td>1.456929</td>\n",
       "    </tr>\n",
       "    <tr>\n",
       "      <th>2019-01-12</th>\n",
       "      <td>-0.390152</td>\n",
       "      <td>2.368821</td>\n",
       "      <td>0.717707</td>\n",
       "      <td>-1.217970</td>\n",
       "      <td>1.393944</td>\n",
       "      <td>-0.364585</td>\n",
       "      <td>0.401237</td>\n",
       "    </tr>\n",
       "    <tr>\n",
       "      <th>2019-01-13</th>\n",
       "      <td>-0.371337</td>\n",
       "      <td>1.870977</td>\n",
       "      <td>-1.262025</td>\n",
       "      <td>0.243266</td>\n",
       "      <td>-1.893419</td>\n",
       "      <td>1.652450</td>\n",
       "      <td>0.598571</td>\n",
       "    </tr>\n",
       "    <tr>\n",
       "      <th>2019-01-14</th>\n",
       "      <td>1.259128</td>\n",
       "      <td>1.451679</td>\n",
       "      <td>0.564912</td>\n",
       "      <td>-1.630713</td>\n",
       "      <td>0.209232</td>\n",
       "      <td>1.512266</td>\n",
       "      <td>-0.612160</td>\n",
       "    </tr>\n",
       "    <tr>\n",
       "      <th>2019-01-15</th>\n",
       "      <td>-0.558611</td>\n",
       "      <td>-0.380853</td>\n",
       "      <td>0.771758</td>\n",
       "      <td>1.351003</td>\n",
       "      <td>-0.807388</td>\n",
       "      <td>-0.833029</td>\n",
       "      <td>1.074967</td>\n",
       "    </tr>\n",
       "    <tr>\n",
       "      <th>2019-01-16</th>\n",
       "      <td>-0.686545</td>\n",
       "      <td>0.050684</td>\n",
       "      <td>0.628144</td>\n",
       "      <td>1.402844</td>\n",
       "      <td>0.383397</td>\n",
       "      <td>0.735752</td>\n",
       "      <td>-0.370996</td>\n",
       "    </tr>\n",
       "    <tr>\n",
       "      <th>2019-01-17</th>\n",
       "      <td>0.931742</td>\n",
       "      <td>-0.171924</td>\n",
       "      <td>1.441487</td>\n",
       "      <td>-0.121431</td>\n",
       "      <td>-0.856081</td>\n",
       "      <td>0.565796</td>\n",
       "      <td>-0.119244</td>\n",
       "    </tr>\n",
       "  </tbody>\n",
       "</table>\n",
       "</div>"
      ],
      "text/plain": [
       "                   a         b         c         d         e         f  \\\n",
       "2019-01-11  1.039833 -1.202150 -0.729961  0.507225 -1.211791  0.649087   \n",
       "2019-01-12 -0.390152  2.368821  0.717707 -1.217970  1.393944 -0.364585   \n",
       "2019-01-13 -0.371337  1.870977 -1.262025  0.243266 -1.893419  1.652450   \n",
       "2019-01-14  1.259128  1.451679  0.564912 -1.630713  0.209232  1.512266   \n",
       "2019-01-15 -0.558611 -0.380853  0.771758  1.351003 -0.807388 -0.833029   \n",
       "2019-01-16 -0.686545  0.050684  0.628144  1.402844  0.383397  0.735752   \n",
       "2019-01-17  0.931742 -0.171924  1.441487 -0.121431 -0.856081  0.565796   \n",
       "\n",
       "                   g  \n",
       "2019-01-11  1.456929  \n",
       "2019-01-12  0.401237  \n",
       "2019-01-13  0.598571  \n",
       "2019-01-14 -0.612160  \n",
       "2019-01-15  1.074967  \n",
       "2019-01-16 -0.370996  \n",
       "2019-01-17 -0.119244  "
      ]
     },
     "execution_count": 2,
     "metadata": {},
     "output_type": "execute_result"
    }
   ],
   "source": [
    "# remove rows which has NaN value by datetime index <- Don't need to reversed index list \n",
    "df = pd.DataFrame(np.random.randn(7, 7))\n",
    "df.columns = [\"a\", \"b\", \"c\", \"d\", \"e\", \"f\", \"g\"]\n",
    "df.index = pd.date_range(\"20190111\", periods=df.shape[1])\n",
    "df"
   ]
  },
  {
   "cell_type": "code",
   "execution_count": 3,
   "metadata": {},
   "outputs": [
    {
     "data": {
      "text/html": [
       "<div>\n",
       "<style scoped>\n",
       "    .dataframe tbody tr th:only-of-type {\n",
       "        vertical-align: middle;\n",
       "    }\n",
       "\n",
       "    .dataframe tbody tr th {\n",
       "        vertical-align: top;\n",
       "    }\n",
       "\n",
       "    .dataframe thead th {\n",
       "        text-align: right;\n",
       "    }\n",
       "</style>\n",
       "<table border=\"1\" class=\"dataframe\">\n",
       "  <thead>\n",
       "    <tr style=\"text-align: right;\">\n",
       "      <th></th>\n",
       "      <th>a</th>\n",
       "      <th>b</th>\n",
       "      <th>c</th>\n",
       "      <th>d</th>\n",
       "      <th>e</th>\n",
       "      <th>f</th>\n",
       "      <th>g</th>\n",
       "    </tr>\n",
       "  </thead>\n",
       "  <tbody>\n",
       "    <tr>\n",
       "      <th>2019-01-11</th>\n",
       "      <td>1.039833</td>\n",
       "      <td>-1.202150</td>\n",
       "      <td>0.000000</td>\n",
       "      <td>0.000000</td>\n",
       "      <td>-1.211791</td>\n",
       "      <td>0.649087</td>\n",
       "      <td>1.456929</td>\n",
       "    </tr>\n",
       "    <tr>\n",
       "      <th>2019-01-12</th>\n",
       "      <td>-0.390152</td>\n",
       "      <td>2.368821</td>\n",
       "      <td>0.827223</td>\n",
       "      <td>0.827223</td>\n",
       "      <td>1.393944</td>\n",
       "      <td>-0.364585</td>\n",
       "      <td>0.401237</td>\n",
       "    </tr>\n",
       "    <tr>\n",
       "      <th>2019-01-13</th>\n",
       "      <td>-0.371337</td>\n",
       "      <td>1.870977</td>\n",
       "      <td>1.249525</td>\n",
       "      <td>NaN</td>\n",
       "      <td>-1.893419</td>\n",
       "      <td>1.652450</td>\n",
       "      <td>0.598571</td>\n",
       "    </tr>\n",
       "    <tr>\n",
       "      <th>2019-01-14</th>\n",
       "      <td>1.259128</td>\n",
       "      <td>1.451679</td>\n",
       "      <td>NaN</td>\n",
       "      <td>0.008320</td>\n",
       "      <td>0.209232</td>\n",
       "      <td>1.512266</td>\n",
       "      <td>-0.612160</td>\n",
       "    </tr>\n",
       "    <tr>\n",
       "      <th>2019-01-15</th>\n",
       "      <td>-0.558611</td>\n",
       "      <td>-0.380853</td>\n",
       "      <td>0.008320</td>\n",
       "      <td>NaN</td>\n",
       "      <td>-0.807388</td>\n",
       "      <td>-0.833029</td>\n",
       "      <td>1.074967</td>\n",
       "    </tr>\n",
       "    <tr>\n",
       "      <th>2019-01-16</th>\n",
       "      <td>-0.686545</td>\n",
       "      <td>0.050684</td>\n",
       "      <td>NaN</td>\n",
       "      <td>-0.828358</td>\n",
       "      <td>0.383397</td>\n",
       "      <td>0.735752</td>\n",
       "      <td>-0.370996</td>\n",
       "    </tr>\n",
       "    <tr>\n",
       "      <th>2019-01-17</th>\n",
       "      <td>0.931742</td>\n",
       "      <td>-0.171924</td>\n",
       "      <td>-0.828358</td>\n",
       "      <td>-0.494077</td>\n",
       "      <td>-0.856081</td>\n",
       "      <td>0.565796</td>\n",
       "      <td>-0.119244</td>\n",
       "    </tr>\n",
       "  </tbody>\n",
       "</table>\n",
       "</div>"
      ],
      "text/plain": [
       "                   a         b         c         d         e         f  \\\n",
       "2019-01-11  1.039833 -1.202150  0.000000  0.000000 -1.211791  0.649087   \n",
       "2019-01-12 -0.390152  2.368821  0.827223  0.827223  1.393944 -0.364585   \n",
       "2019-01-13 -0.371337  1.870977  1.249525       NaN -1.893419  1.652450   \n",
       "2019-01-14  1.259128  1.451679       NaN  0.008320  0.209232  1.512266   \n",
       "2019-01-15 -0.558611 -0.380853  0.008320       NaN -0.807388 -0.833029   \n",
       "2019-01-16 -0.686545  0.050684       NaN -0.828358  0.383397  0.735752   \n",
       "2019-01-17  0.931742 -0.171924 -0.828358 -0.494077 -0.856081  0.565796   \n",
       "\n",
       "                   g  \n",
       "2019-01-11  1.456929  \n",
       "2019-01-12  0.401237  \n",
       "2019-01-13  0.598571  \n",
       "2019-01-14 -0.612160  \n",
       "2019-01-15  1.074967  \n",
       "2019-01-16 -0.370996  \n",
       "2019-01-17 -0.119244  "
      ]
     },
     "execution_count": 3,
     "metadata": {},
     "output_type": "execute_result"
    }
   ],
   "source": [
    "# replace NaN\n",
    "df[\"c\"] = [0, 0.827223, 1.249525, np.nan, 0.008320, np.nan, -0.828358]\n",
    "df[\"d\"] = [0, 0.827223, np.nan, 0.008320, np.nan, -0.828358, -0.494077]\n",
    "df"
   ]
  },
  {
   "cell_type": "code",
   "execution_count": 4,
   "metadata": {},
   "outputs": [
    {
     "data": {
      "text/plain": [
       "a    7\n",
       "b    7\n",
       "c    5\n",
       "d    5\n",
       "e    7\n",
       "f    7\n",
       "g    7\n",
       "dtype: int64"
      ]
     },
     "execution_count": 4,
     "metadata": {},
     "output_type": "execute_result"
    }
   ],
   "source": [
    "# df count without NaN\n",
    "df.count(axis=0)"
   ]
  },
  {
   "cell_type": "code",
   "execution_count": 5,
   "metadata": {},
   "outputs": [
    {
     "data": {
      "text/plain": [
       "2019-01-11    7\n",
       "2019-01-12    7\n",
       "2019-01-13    6\n",
       "2019-01-14    6\n",
       "2019-01-15    6\n",
       "2019-01-16    6\n",
       "2019-01-17    7\n",
       "Freq: D, dtype: int64"
      ]
     },
     "execution_count": 5,
     "metadata": {},
     "output_type": "execute_result"
    }
   ],
   "source": [
    "df.count(axis=1)"
   ]
  },
  {
   "cell_type": "code",
   "execution_count": 6,
   "metadata": {},
   "outputs": [
    {
     "data": {
      "text/plain": [
       "a   -0.686545\n",
       "b   -1.202150\n",
       "c   -0.828358\n",
       "d   -0.828358\n",
       "e   -1.893419\n",
       "f   -0.833029\n",
       "g   -0.612160\n",
       "dtype: float64"
      ]
     },
     "execution_count": 6,
     "metadata": {},
     "output_type": "execute_result"
    }
   ],
   "source": [
    "# df min\n",
    "df.min(axis=0)"
   ]
  },
  {
   "cell_type": "code",
   "execution_count": 7,
   "metadata": {},
   "outputs": [
    {
     "data": {
      "text/plain": [
       "2019-01-11   -1.211791\n",
       "2019-01-12   -0.390152\n",
       "2019-01-13   -1.893419\n",
       "2019-01-14   -0.612160\n",
       "2019-01-15   -0.833029\n",
       "2019-01-16   -0.828358\n",
       "2019-01-17   -0.856081\n",
       "Freq: D, dtype: float64"
      ]
     },
     "execution_count": 7,
     "metadata": {},
     "output_type": "execute_result"
    }
   ],
   "source": [
    "df.min(axis=1)"
   ]
  },
  {
   "cell_type": "code",
   "execution_count": 8,
   "metadata": {},
   "outputs": [
    {
     "data": {
      "text/plain": [
       "a    1.259128\n",
       "b    2.368821\n",
       "c    1.249525\n",
       "d    0.827223\n",
       "e    1.393944\n",
       "f    1.652450\n",
       "g    1.456929\n",
       "dtype: float64"
      ]
     },
     "execution_count": 8,
     "metadata": {},
     "output_type": "execute_result"
    }
   ],
   "source": [
    "# df max\n",
    "df.max(axis=0)"
   ]
  },
  {
   "cell_type": "code",
   "execution_count": 9,
   "metadata": {},
   "outputs": [
    {
     "data": {
      "text/plain": [
       "2019-01-11    1.456929\n",
       "2019-01-12    2.368821\n",
       "2019-01-13    1.870977\n",
       "2019-01-14    1.512266\n",
       "2019-01-15    1.074967\n",
       "2019-01-16    0.735752\n",
       "2019-01-17    0.931742\n",
       "Freq: D, dtype: float64"
      ]
     },
     "execution_count": 9,
     "metadata": {},
     "output_type": "execute_result"
    }
   ],
   "source": [
    "df.max(axis=1)"
   ]
  },
  {
   "cell_type": "code",
   "execution_count": 10,
   "metadata": {},
   "outputs": [
    {
     "data": {
      "text/plain": [
       "a   2019-01-16\n",
       "b   2019-01-11\n",
       "c   2019-01-17\n",
       "d   2019-01-16\n",
       "e   2019-01-13\n",
       "f   2019-01-15\n",
       "g   2019-01-14\n",
       "dtype: datetime64[ns]"
      ]
     },
     "execution_count": 10,
     "metadata": {},
     "output_type": "execute_result"
    }
   ],
   "source": [
    "# df index which has min value\n",
    "# 0 or ‘index’ for row-wise like sql group by each column\n",
    "df.idxmin(axis=0)"
   ]
  },
  {
   "cell_type": "code",
   "execution_count": 11,
   "metadata": {},
   "outputs": [
    {
     "data": {
      "text/plain": [
       "2019-01-11    e\n",
       "2019-01-12    a\n",
       "2019-01-13    e\n",
       "2019-01-14    g\n",
       "2019-01-15    f\n",
       "2019-01-16    d\n",
       "2019-01-17    e\n",
       "Freq: D, dtype: object"
      ]
     },
     "execution_count": 11,
     "metadata": {},
     "output_type": "execute_result"
    }
   ],
   "source": [
    "# 1 or ‘columns’ for column-wise like sql group by each index\n",
    "df.idxmin(axis=1)"
   ]
  },
  {
   "cell_type": "code",
   "execution_count": 12,
   "metadata": {},
   "outputs": [
    {
     "data": {
      "text/plain": [
       "a   2019-01-14\n",
       "b   2019-01-12\n",
       "c   2019-01-13\n",
       "d   2019-01-12\n",
       "e   2019-01-12\n",
       "f   2019-01-13\n",
       "g   2019-01-11\n",
       "dtype: datetime64[ns]"
      ]
     },
     "execution_count": 12,
     "metadata": {},
     "output_type": "execute_result"
    }
   ],
   "source": [
    "# df index which has max value\n",
    "df.idxmax(axis=0)"
   ]
  },
  {
   "cell_type": "code",
   "execution_count": 13,
   "metadata": {},
   "outputs": [
    {
     "data": {
      "text/plain": [
       "2019-01-11    g\n",
       "2019-01-12    b\n",
       "2019-01-13    b\n",
       "2019-01-14    f\n",
       "2019-01-15    g\n",
       "2019-01-16    f\n",
       "2019-01-17    a\n",
       "Freq: D, dtype: object"
      ]
     },
     "execution_count": 13,
     "metadata": {},
     "output_type": "execute_result"
    }
   ],
   "source": [
    "df.idxmax(axis=1)"
   ]
  },
  {
   "cell_type": "code",
   "execution_count": 14,
   "metadata": {},
   "outputs": [
    {
     "name": "stderr",
     "output_type": "stream",
     "text": [
      "/Users/rwoo/02_WorkSpace/29_Python_WorkSpace/Python-Study/99_Utility/venv/lib/python3.7/site-packages/ipykernel_launcher.py:2: FutureWarning: 'argmin' is deprecated, use 'idxmin' instead. The behavior of 'argmin'\n",
      "will be corrected to return the positional minimum in the future.\n",
      "Use 'series.values.argmin' to get the position of the minimum now.\n",
      "  \n"
     ]
    },
    {
     "data": {
      "text/plain": [
       "Timestamp('2019-01-16 00:00:00', freq='D')"
      ]
     },
     "execution_count": 14,
     "metadata": {},
     "output_type": "execute_result"
    }
   ],
   "source": [
    "# series index which has min value\n",
    "df[\"a\"].argmin()"
   ]
  },
  {
   "cell_type": "code",
   "execution_count": 15,
   "metadata": {},
   "outputs": [
    {
     "data": {
      "text/plain": [
       "5"
      ]
     },
     "execution_count": 15,
     "metadata": {},
     "output_type": "execute_result"
    }
   ],
   "source": [
    "df[\"a\"].values.argmin()"
   ]
  },
  {
   "cell_type": "code",
   "execution_count": 16,
   "metadata": {},
   "outputs": [
    {
     "name": "stderr",
     "output_type": "stream",
     "text": [
      "/Users/rwoo/02_WorkSpace/29_Python_WorkSpace/Python-Study/99_Utility/venv/lib/python3.7/site-packages/ipykernel_launcher.py:2: FutureWarning: 'argmax' is deprecated, use 'idxmax' instead. The behavior of 'argmax'\n",
      "will be corrected to return the positional maximum in the future.\n",
      "Use 'series.values.argmax' to get the position of the maximum now.\n",
      "  \n"
     ]
    },
    {
     "data": {
      "text/plain": [
       "Timestamp('2019-01-14 00:00:00', freq='D')"
      ]
     },
     "execution_count": 16,
     "metadata": {},
     "output_type": "execute_result"
    }
   ],
   "source": [
    "# series index which has max value\n",
    "df[\"a\"].argmax()"
   ]
  },
  {
   "cell_type": "code",
   "execution_count": 17,
   "metadata": {},
   "outputs": [
    {
     "data": {
      "text/plain": [
       "3"
      ]
     },
     "execution_count": 17,
     "metadata": {},
     "output_type": "execute_result"
    }
   ],
   "source": [
    "df[\"a\"].values.argmax()"
   ]
  },
  {
   "cell_type": "code",
   "execution_count": 18,
   "metadata": {},
   "outputs": [
    {
     "data": {
      "text/plain": [
       "a   -0.371337\n",
       "b    0.050684\n",
       "c    0.008320\n",
       "d    0.000000\n",
       "e   -0.807388\n",
       "f    0.649087\n",
       "g    0.401237\n",
       "Name: 0.5, dtype: float64"
      ]
     },
     "execution_count": 18,
     "metadata": {},
     "output_type": "execute_result"
    }
   ],
   "source": [
    "# df quantile\n",
    "df.quantile(axis=0)"
   ]
  },
  {
   "cell_type": "code",
   "execution_count": 19,
   "metadata": {},
   "outputs": [
    {
     "data": {
      "text/plain": [
       "2019-01-11    0.000000\n",
       "2019-01-12    0.827223\n",
       "2019-01-13    0.924048\n",
       "2019-01-14    0.734180\n",
       "2019-01-15   -0.469732\n",
       "2019-01-16   -0.160156\n",
       "2019-01-17   -0.171924\n",
       "Freq: D, Name: 0.5, dtype: float64"
      ]
     },
     "execution_count": 19,
     "metadata": {},
     "output_type": "execute_result"
    }
   ],
   "source": [
    "df.quantile(axis=1)"
   ]
  },
  {
   "cell_type": "code",
   "execution_count": 20,
   "metadata": {},
   "outputs": [
    {
     "data": {
      "text/plain": [
       "a    1.224059\n",
       "b    3.987233\n",
       "c    1.256710\n",
       "d   -0.486892\n",
       "e   -2.782106\n",
       "f    3.917736\n",
       "g    2.429304\n",
       "dtype: float64"
      ]
     },
     "execution_count": 20,
     "metadata": {},
     "output_type": "execute_result"
    }
   ],
   "source": [
    "# df sum\n",
    "df.sum(axis=0)"
   ]
  },
  {
   "cell_type": "code",
   "execution_count": 21,
   "metadata": {},
   "outputs": [
    {
     "data": {
      "text/plain": [
       "2019-01-11    0.731908\n",
       "2019-01-12    5.063711\n",
       "2019-01-13    3.106768\n",
       "2019-01-14    3.828465\n",
       "2019-01-15   -1.496593\n",
       "2019-01-16   -0.716067\n",
       "2019-01-17   -0.972147\n",
       "Freq: D, dtype: float64"
      ]
     },
     "execution_count": 21,
     "metadata": {},
     "output_type": "execute_result"
    }
   ],
   "source": [
    "df.sum(axis=1)"
   ]
  },
  {
   "cell_type": "code",
   "execution_count": 22,
   "metadata": {},
   "outputs": [
    {
     "data": {
      "text/plain": [
       "1.2240586184951474"
      ]
     },
     "execution_count": 22,
     "metadata": {},
     "output_type": "execute_result"
    }
   ],
   "source": [
    "# sum of a column\n",
    "df[\"a\"].sum()"
   ]
  },
  {
   "cell_type": "code",
   "execution_count": 23,
   "metadata": {},
   "outputs": [
    {
     "data": {
      "text/plain": [
       "0.731908206003568"
      ]
     },
     "execution_count": 23,
     "metadata": {},
     "output_type": "execute_result"
    }
   ],
   "source": [
    "# sum of a row\n",
    "df.loc[\"2019-01-11\"].sum()"
   ]
  },
  {
   "cell_type": "code",
   "execution_count": 24,
   "metadata": {},
   "outputs": [
    {
     "data": {
      "text/html": [
       "<div>\n",
       "<style scoped>\n",
       "    .dataframe tbody tr th:only-of-type {\n",
       "        vertical-align: middle;\n",
       "    }\n",
       "\n",
       "    .dataframe tbody tr th {\n",
       "        vertical-align: top;\n",
       "    }\n",
       "\n",
       "    .dataframe thead th {\n",
       "        text-align: right;\n",
       "    }\n",
       "</style>\n",
       "<table border=\"1\" class=\"dataframe\">\n",
       "  <thead>\n",
       "    <tr style=\"text-align: right;\">\n",
       "      <th></th>\n",
       "      <th>c</th>\n",
       "      <th>d</th>\n",
       "    </tr>\n",
       "  </thead>\n",
       "  <tbody>\n",
       "    <tr>\n",
       "      <th>2019-01-11</th>\n",
       "      <td>0.000000</td>\n",
       "      <td>0.000000</td>\n",
       "    </tr>\n",
       "    <tr>\n",
       "      <th>2019-01-12</th>\n",
       "      <td>0.827223</td>\n",
       "      <td>0.827223</td>\n",
       "    </tr>\n",
       "    <tr>\n",
       "      <th>2019-01-13</th>\n",
       "      <td>1.249525</td>\n",
       "      <td>NaN</td>\n",
       "    </tr>\n",
       "    <tr>\n",
       "      <th>2019-01-14</th>\n",
       "      <td>NaN</td>\n",
       "      <td>0.008320</td>\n",
       "    </tr>\n",
       "    <tr>\n",
       "      <th>2019-01-15</th>\n",
       "      <td>0.008320</td>\n",
       "      <td>NaN</td>\n",
       "    </tr>\n",
       "    <tr>\n",
       "      <th>2019-01-16</th>\n",
       "      <td>NaN</td>\n",
       "      <td>-0.828358</td>\n",
       "    </tr>\n",
       "    <tr>\n",
       "      <th>2019-01-17</th>\n",
       "      <td>-0.828358</td>\n",
       "      <td>-0.494077</td>\n",
       "    </tr>\n",
       "  </tbody>\n",
       "</table>\n",
       "</div>"
      ],
      "text/plain": [
       "                   c         d\n",
       "2019-01-11  0.000000  0.000000\n",
       "2019-01-12  0.827223  0.827223\n",
       "2019-01-13  1.249525       NaN\n",
       "2019-01-14       NaN  0.008320\n",
       "2019-01-15  0.008320       NaN\n",
       "2019-01-16       NaN -0.828358\n",
       "2019-01-17 -0.828358 -0.494077"
      ]
     },
     "execution_count": 24,
     "metadata": {},
     "output_type": "execute_result"
    }
   ],
   "source": [
    "# df fill NaN as mean\n",
    "df[[\"c\", \"d\"]]"
   ]
  },
  {
   "cell_type": "code",
   "execution_count": 25,
   "metadata": {},
   "outputs": [
    {
     "data": {
      "text/plain": [
       "0.251342"
      ]
     },
     "execution_count": 25,
     "metadata": {},
     "output_type": "execute_result"
    }
   ],
   "source": [
    "column_c_mean = df[\"c\"].mean()\n",
    "column_c_mean"
   ]
  },
  {
   "cell_type": "code",
   "execution_count": 26,
   "metadata": {},
   "outputs": [
    {
     "data": {
      "text/html": [
       "<div>\n",
       "<style scoped>\n",
       "    .dataframe tbody tr th:only-of-type {\n",
       "        vertical-align: middle;\n",
       "    }\n",
       "\n",
       "    .dataframe tbody tr th {\n",
       "        vertical-align: top;\n",
       "    }\n",
       "\n",
       "    .dataframe thead th {\n",
       "        text-align: right;\n",
       "    }\n",
       "</style>\n",
       "<table border=\"1\" class=\"dataframe\">\n",
       "  <thead>\n",
       "    <tr style=\"text-align: right;\">\n",
       "      <th></th>\n",
       "      <th>c</th>\n",
       "      <th>d</th>\n",
       "    </tr>\n",
       "  </thead>\n",
       "  <tbody>\n",
       "    <tr>\n",
       "      <th>2019-01-11</th>\n",
       "      <td>0.000000</td>\n",
       "      <td>0.000000</td>\n",
       "    </tr>\n",
       "    <tr>\n",
       "      <th>2019-01-12</th>\n",
       "      <td>0.827223</td>\n",
       "      <td>0.827223</td>\n",
       "    </tr>\n",
       "    <tr>\n",
       "      <th>2019-01-13</th>\n",
       "      <td>1.249525</td>\n",
       "      <td>NaN</td>\n",
       "    </tr>\n",
       "    <tr>\n",
       "      <th>2019-01-14</th>\n",
       "      <td>0.251342</td>\n",
       "      <td>0.008320</td>\n",
       "    </tr>\n",
       "    <tr>\n",
       "      <th>2019-01-15</th>\n",
       "      <td>0.008320</td>\n",
       "      <td>NaN</td>\n",
       "    </tr>\n",
       "    <tr>\n",
       "      <th>2019-01-16</th>\n",
       "      <td>0.251342</td>\n",
       "      <td>-0.828358</td>\n",
       "    </tr>\n",
       "    <tr>\n",
       "      <th>2019-01-17</th>\n",
       "      <td>-0.828358</td>\n",
       "      <td>-0.494077</td>\n",
       "    </tr>\n",
       "  </tbody>\n",
       "</table>\n",
       "</div>"
      ],
      "text/plain": [
       "                   c         d\n",
       "2019-01-11  0.000000  0.000000\n",
       "2019-01-12  0.827223  0.827223\n",
       "2019-01-13  1.249525       NaN\n",
       "2019-01-14  0.251342  0.008320\n",
       "2019-01-15  0.008320       NaN\n",
       "2019-01-16  0.251342 -0.828358\n",
       "2019-01-17 -0.828358 -0.494077"
      ]
     },
     "execution_count": 26,
     "metadata": {},
     "output_type": "execute_result"
    }
   ],
   "source": [
    "df[\"c\"] = df[\"c\"].fillna(value=column_c_mean)\n",
    "df[[\"c\", \"d\"]]"
   ]
  },
  {
   "cell_type": "code",
   "execution_count": 27,
   "metadata": {},
   "outputs": [
    {
     "data": {
      "text/plain": [
       "-0.828358"
      ]
     },
     "execution_count": 27,
     "metadata": {},
     "output_type": "execute_result"
    }
   ],
   "source": [
    "# df fill NaN as min\n",
    "column_d_min = df[\"d\"].min()\n",
    "column_d_min"
   ]
  },
  {
   "cell_type": "code",
   "execution_count": 28,
   "metadata": {},
   "outputs": [
    {
     "data": {
      "text/html": [
       "<div>\n",
       "<style scoped>\n",
       "    .dataframe tbody tr th:only-of-type {\n",
       "        vertical-align: middle;\n",
       "    }\n",
       "\n",
       "    .dataframe tbody tr th {\n",
       "        vertical-align: top;\n",
       "    }\n",
       "\n",
       "    .dataframe thead th {\n",
       "        text-align: right;\n",
       "    }\n",
       "</style>\n",
       "<table border=\"1\" class=\"dataframe\">\n",
       "  <thead>\n",
       "    <tr style=\"text-align: right;\">\n",
       "      <th></th>\n",
       "      <th>c</th>\n",
       "      <th>d</th>\n",
       "    </tr>\n",
       "  </thead>\n",
       "  <tbody>\n",
       "    <tr>\n",
       "      <th>2019-01-11</th>\n",
       "      <td>0.000000</td>\n",
       "      <td>0.000000</td>\n",
       "    </tr>\n",
       "    <tr>\n",
       "      <th>2019-01-12</th>\n",
       "      <td>0.827223</td>\n",
       "      <td>0.827223</td>\n",
       "    </tr>\n",
       "    <tr>\n",
       "      <th>2019-01-13</th>\n",
       "      <td>1.249525</td>\n",
       "      <td>-0.828358</td>\n",
       "    </tr>\n",
       "    <tr>\n",
       "      <th>2019-01-14</th>\n",
       "      <td>0.251342</td>\n",
       "      <td>0.008320</td>\n",
       "    </tr>\n",
       "    <tr>\n",
       "      <th>2019-01-15</th>\n",
       "      <td>0.008320</td>\n",
       "      <td>-0.828358</td>\n",
       "    </tr>\n",
       "    <tr>\n",
       "      <th>2019-01-16</th>\n",
       "      <td>0.251342</td>\n",
       "      <td>-0.828358</td>\n",
       "    </tr>\n",
       "    <tr>\n",
       "      <th>2019-01-17</th>\n",
       "      <td>-0.828358</td>\n",
       "      <td>-0.494077</td>\n",
       "    </tr>\n",
       "  </tbody>\n",
       "</table>\n",
       "</div>"
      ],
      "text/plain": [
       "                   c         d\n",
       "2019-01-11  0.000000  0.000000\n",
       "2019-01-12  0.827223  0.827223\n",
       "2019-01-13  1.249525 -0.828358\n",
       "2019-01-14  0.251342  0.008320\n",
       "2019-01-15  0.008320 -0.828358\n",
       "2019-01-16  0.251342 -0.828358\n",
       "2019-01-17 -0.828358 -0.494077"
      ]
     },
     "execution_count": 28,
     "metadata": {},
     "output_type": "execute_result"
    }
   ],
   "source": [
    "df[\"d\"] = df[\"d\"].fillna(value=column_d_min)\n",
    "df[[\"c\", \"d\"]]"
   ]
  },
  {
   "cell_type": "code",
   "execution_count": 29,
   "metadata": {},
   "outputs": [
    {
     "data": {
      "text/plain": [
       "a   -0.371337\n",
       "b    0.050684\n",
       "c    0.251342\n",
       "d   -0.494077\n",
       "e   -0.807388\n",
       "f    0.649087\n",
       "g    0.401237\n",
       "dtype: float64"
      ]
     },
     "execution_count": 29,
     "metadata": {},
     "output_type": "execute_result"
    }
   ],
   "source": [
    "# df median\n",
    "df.median()"
   ]
  },
  {
   "cell_type": "code",
   "execution_count": 30,
   "metadata": {},
   "outputs": [
    {
     "data": {
      "text/plain": [
       "a    0.773173\n",
       "b    1.137903\n",
       "c    0.449733\n",
       "d    0.501209\n",
       "e    0.908258\n",
       "f    0.661991\n",
       "g    0.612437\n",
       "dtype: float64"
      ]
     },
     "execution_count": 30,
     "metadata": {},
     "output_type": "execute_result"
    }
   ],
   "source": [
    "# df absolute deviation's mean\n",
    "df.mad()"
   ]
  },
  {
   "cell_type": "code",
   "execution_count": 31,
   "metadata": {},
   "outputs": [
    {
     "data": {
      "text/plain": [
       "a    0.855789\n",
       "b    1.327305\n",
       "c    0.660302\n",
       "d    0.623241\n",
       "e    1.115522\n",
       "f    0.906872\n",
       "g    0.761687\n",
       "dtype: float64"
      ]
     },
     "execution_count": 31,
     "metadata": {},
     "output_type": "execute_result"
    }
   ],
   "source": [
    "# df standard deviation\n",
    "df.std()"
   ]
  },
  {
   "cell_type": "code",
   "execution_count": 32,
   "metadata": {},
   "outputs": [
    {
     "data": {
      "text/plain": [
       "a    0.732375\n",
       "b    1.761738\n",
       "c    0.435999\n",
       "d    0.388429\n",
       "e    1.244390\n",
       "f    0.822417\n",
       "g    0.580166\n",
       "dtype: float64"
      ]
     },
     "execution_count": 32,
     "metadata": {},
     "output_type": "execute_result"
    }
   ],
   "source": [
    "# df variance\n",
    "df.var()"
   ]
  },
  {
   "cell_type": "code",
   "execution_count": 33,
   "metadata": {},
   "outputs": [
    {
     "data": {
      "text/html": [
       "<div>\n",
       "<style scoped>\n",
       "    .dataframe tbody tr th:only-of-type {\n",
       "        vertical-align: middle;\n",
       "    }\n",
       "\n",
       "    .dataframe tbody tr th {\n",
       "        vertical-align: top;\n",
       "    }\n",
       "\n",
       "    .dataframe thead th {\n",
       "        text-align: right;\n",
       "    }\n",
       "</style>\n",
       "<table border=\"1\" class=\"dataframe\">\n",
       "  <thead>\n",
       "    <tr style=\"text-align: right;\">\n",
       "      <th></th>\n",
       "      <th>a</th>\n",
       "      <th>b</th>\n",
       "      <th>c</th>\n",
       "      <th>d</th>\n",
       "      <th>e</th>\n",
       "      <th>f</th>\n",
       "      <th>g</th>\n",
       "    </tr>\n",
       "  </thead>\n",
       "  <tbody>\n",
       "    <tr>\n",
       "      <th>2019-01-11</th>\n",
       "      <td>1.039833</td>\n",
       "      <td>-1.202150</td>\n",
       "      <td>0.000000</td>\n",
       "      <td>0.000000</td>\n",
       "      <td>-1.211791</td>\n",
       "      <td>0.649087</td>\n",
       "      <td>1.456929</td>\n",
       "    </tr>\n",
       "    <tr>\n",
       "      <th>2019-01-12</th>\n",
       "      <td>-0.390152</td>\n",
       "      <td>2.368821</td>\n",
       "      <td>0.827223</td>\n",
       "      <td>0.827223</td>\n",
       "      <td>1.393944</td>\n",
       "      <td>-0.364585</td>\n",
       "      <td>0.401237</td>\n",
       "    </tr>\n",
       "    <tr>\n",
       "      <th>2019-01-13</th>\n",
       "      <td>-0.371337</td>\n",
       "      <td>1.870977</td>\n",
       "      <td>1.249525</td>\n",
       "      <td>-0.828358</td>\n",
       "      <td>-1.893419</td>\n",
       "      <td>1.652450</td>\n",
       "      <td>0.598571</td>\n",
       "    </tr>\n",
       "    <tr>\n",
       "      <th>2019-01-14</th>\n",
       "      <td>1.259128</td>\n",
       "      <td>1.451679</td>\n",
       "      <td>0.251342</td>\n",
       "      <td>0.008320</td>\n",
       "      <td>0.209232</td>\n",
       "      <td>1.512266</td>\n",
       "      <td>-0.612160</td>\n",
       "    </tr>\n",
       "    <tr>\n",
       "      <th>2019-01-15</th>\n",
       "      <td>-0.558611</td>\n",
       "      <td>-0.380853</td>\n",
       "      <td>0.008320</td>\n",
       "      <td>-0.828358</td>\n",
       "      <td>-0.807388</td>\n",
       "      <td>-0.833029</td>\n",
       "      <td>1.074967</td>\n",
       "    </tr>\n",
       "    <tr>\n",
       "      <th>2019-01-16</th>\n",
       "      <td>-0.686545</td>\n",
       "      <td>0.050684</td>\n",
       "      <td>0.251342</td>\n",
       "      <td>-0.828358</td>\n",
       "      <td>0.383397</td>\n",
       "      <td>0.735752</td>\n",
       "      <td>-0.370996</td>\n",
       "    </tr>\n",
       "    <tr>\n",
       "      <th>2019-01-17</th>\n",
       "      <td>0.931742</td>\n",
       "      <td>-0.171924</td>\n",
       "      <td>-0.828358</td>\n",
       "      <td>-0.494077</td>\n",
       "      <td>-0.856081</td>\n",
       "      <td>0.565796</td>\n",
       "      <td>-0.119244</td>\n",
       "    </tr>\n",
       "  </tbody>\n",
       "</table>\n",
       "</div>"
      ],
      "text/plain": [
       "                   a         b         c         d         e         f  \\\n",
       "2019-01-11  1.039833 -1.202150  0.000000  0.000000 -1.211791  0.649087   \n",
       "2019-01-12 -0.390152  2.368821  0.827223  0.827223  1.393944 -0.364585   \n",
       "2019-01-13 -0.371337  1.870977  1.249525 -0.828358 -1.893419  1.652450   \n",
       "2019-01-14  1.259128  1.451679  0.251342  0.008320  0.209232  1.512266   \n",
       "2019-01-15 -0.558611 -0.380853  0.008320 -0.828358 -0.807388 -0.833029   \n",
       "2019-01-16 -0.686545  0.050684  0.251342 -0.828358  0.383397  0.735752   \n",
       "2019-01-17  0.931742 -0.171924 -0.828358 -0.494077 -0.856081  0.565796   \n",
       "\n",
       "                   g  \n",
       "2019-01-11  1.456929  \n",
       "2019-01-12  0.401237  \n",
       "2019-01-13  0.598571  \n",
       "2019-01-14 -0.612160  \n",
       "2019-01-15  1.074967  \n",
       "2019-01-16 -0.370996  \n",
       "2019-01-17 -0.119244  "
      ]
     },
     "execution_count": 33,
     "metadata": {},
     "output_type": "execute_result"
    }
   ],
   "source": [
    "# df cumulative sum start with 0\n",
    "df"
   ]
  },
  {
   "cell_type": "code",
   "execution_count": 34,
   "metadata": {},
   "outputs": [
    {
     "data": {
      "text/html": [
       "<div>\n",
       "<style scoped>\n",
       "    .dataframe tbody tr th:only-of-type {\n",
       "        vertical-align: middle;\n",
       "    }\n",
       "\n",
       "    .dataframe tbody tr th {\n",
       "        vertical-align: top;\n",
       "    }\n",
       "\n",
       "    .dataframe thead th {\n",
       "        text-align: right;\n",
       "    }\n",
       "</style>\n",
       "<table border=\"1\" class=\"dataframe\">\n",
       "  <thead>\n",
       "    <tr style=\"text-align: right;\">\n",
       "      <th></th>\n",
       "      <th>a</th>\n",
       "      <th>b</th>\n",
       "      <th>c</th>\n",
       "      <th>d</th>\n",
       "      <th>e</th>\n",
       "      <th>f</th>\n",
       "      <th>g</th>\n",
       "    </tr>\n",
       "  </thead>\n",
       "  <tbody>\n",
       "    <tr>\n",
       "      <th>2019-01-11</th>\n",
       "      <td>1.039833</td>\n",
       "      <td>-1.202150</td>\n",
       "      <td>0.000000</td>\n",
       "      <td>0.000000</td>\n",
       "      <td>-1.211791</td>\n",
       "      <td>0.649087</td>\n",
       "      <td>1.456929</td>\n",
       "    </tr>\n",
       "    <tr>\n",
       "      <th>2019-01-12</th>\n",
       "      <td>0.649681</td>\n",
       "      <td>1.166671</td>\n",
       "      <td>0.827223</td>\n",
       "      <td>0.827223</td>\n",
       "      <td>0.182153</td>\n",
       "      <td>0.284502</td>\n",
       "      <td>1.858167</td>\n",
       "    </tr>\n",
       "    <tr>\n",
       "      <th>2019-01-13</th>\n",
       "      <td>0.278345</td>\n",
       "      <td>3.037648</td>\n",
       "      <td>2.076748</td>\n",
       "      <td>-0.001135</td>\n",
       "      <td>-1.711266</td>\n",
       "      <td>1.936952</td>\n",
       "      <td>2.456737</td>\n",
       "    </tr>\n",
       "    <tr>\n",
       "      <th>2019-01-14</th>\n",
       "      <td>1.537473</td>\n",
       "      <td>4.489326</td>\n",
       "      <td>2.328090</td>\n",
       "      <td>0.007185</td>\n",
       "      <td>-1.502034</td>\n",
       "      <td>3.449218</td>\n",
       "      <td>1.844578</td>\n",
       "    </tr>\n",
       "    <tr>\n",
       "      <th>2019-01-15</th>\n",
       "      <td>0.978862</td>\n",
       "      <td>4.108473</td>\n",
       "      <td>2.336410</td>\n",
       "      <td>-0.821173</td>\n",
       "      <td>-2.309422</td>\n",
       "      <td>2.616189</td>\n",
       "      <td>2.919545</td>\n",
       "    </tr>\n",
       "    <tr>\n",
       "      <th>2019-01-16</th>\n",
       "      <td>0.292317</td>\n",
       "      <td>4.159157</td>\n",
       "      <td>2.587752</td>\n",
       "      <td>-1.649531</td>\n",
       "      <td>-1.926025</td>\n",
       "      <td>3.351941</td>\n",
       "      <td>2.548548</td>\n",
       "    </tr>\n",
       "    <tr>\n",
       "      <th>2019-01-17</th>\n",
       "      <td>1.224059</td>\n",
       "      <td>3.987233</td>\n",
       "      <td>1.759394</td>\n",
       "      <td>-2.143608</td>\n",
       "      <td>-2.782106</td>\n",
       "      <td>3.917736</td>\n",
       "      <td>2.429304</td>\n",
       "    </tr>\n",
       "  </tbody>\n",
       "</table>\n",
       "</div>"
      ],
      "text/plain": [
       "                   a         b         c         d         e         f  \\\n",
       "2019-01-11  1.039833 -1.202150  0.000000  0.000000 -1.211791  0.649087   \n",
       "2019-01-12  0.649681  1.166671  0.827223  0.827223  0.182153  0.284502   \n",
       "2019-01-13  0.278345  3.037648  2.076748 -0.001135 -1.711266  1.936952   \n",
       "2019-01-14  1.537473  4.489326  2.328090  0.007185 -1.502034  3.449218   \n",
       "2019-01-15  0.978862  4.108473  2.336410 -0.821173 -2.309422  2.616189   \n",
       "2019-01-16  0.292317  4.159157  2.587752 -1.649531 -1.926025  3.351941   \n",
       "2019-01-17  1.224059  3.987233  1.759394 -2.143608 -2.782106  3.917736   \n",
       "\n",
       "                   g  \n",
       "2019-01-11  1.456929  \n",
       "2019-01-12  1.858167  \n",
       "2019-01-13  2.456737  \n",
       "2019-01-14  1.844578  \n",
       "2019-01-15  2.919545  \n",
       "2019-01-16  2.548548  \n",
       "2019-01-17  2.429304  "
      ]
     },
     "execution_count": 34,
     "metadata": {},
     "output_type": "execute_result"
    }
   ],
   "source": [
    "df.cumsum()"
   ]
  },
  {
   "cell_type": "code",
   "execution_count": 35,
   "metadata": {},
   "outputs": [
    {
     "data": {
      "text/html": [
       "<div>\n",
       "<style scoped>\n",
       "    .dataframe tbody tr th:only-of-type {\n",
       "        vertical-align: middle;\n",
       "    }\n",
       "\n",
       "    .dataframe tbody tr th {\n",
       "        vertical-align: top;\n",
       "    }\n",
       "\n",
       "    .dataframe thead th {\n",
       "        text-align: right;\n",
       "    }\n",
       "</style>\n",
       "<table border=\"1\" class=\"dataframe\">\n",
       "  <thead>\n",
       "    <tr style=\"text-align: right;\">\n",
       "      <th></th>\n",
       "      <th>a</th>\n",
       "      <th>b</th>\n",
       "      <th>c</th>\n",
       "      <th>d</th>\n",
       "      <th>e</th>\n",
       "      <th>f</th>\n",
       "      <th>g</th>\n",
       "    </tr>\n",
       "  </thead>\n",
       "  <tbody>\n",
       "    <tr>\n",
       "      <th>2019-01-11</th>\n",
       "      <td>1.039833</td>\n",
       "      <td>-1.202150</td>\n",
       "      <td>0.000000</td>\n",
       "      <td>0.000000</td>\n",
       "      <td>-1.211791</td>\n",
       "      <td>0.649087</td>\n",
       "      <td>1.456929</td>\n",
       "    </tr>\n",
       "    <tr>\n",
       "      <th>2019-01-12</th>\n",
       "      <td>-0.390152</td>\n",
       "      <td>2.368821</td>\n",
       "      <td>0.827223</td>\n",
       "      <td>0.827223</td>\n",
       "      <td>1.393944</td>\n",
       "      <td>-0.364585</td>\n",
       "      <td>0.401237</td>\n",
       "    </tr>\n",
       "    <tr>\n",
       "      <th>2019-01-13</th>\n",
       "      <td>-0.371337</td>\n",
       "      <td>1.870977</td>\n",
       "      <td>1.249525</td>\n",
       "      <td>-0.828358</td>\n",
       "      <td>-1.893419</td>\n",
       "      <td>1.652450</td>\n",
       "      <td>0.598571</td>\n",
       "    </tr>\n",
       "    <tr>\n",
       "      <th>2019-01-14</th>\n",
       "      <td>1.259128</td>\n",
       "      <td>1.451679</td>\n",
       "      <td>0.251342</td>\n",
       "      <td>0.008320</td>\n",
       "      <td>0.209232</td>\n",
       "      <td>1.512266</td>\n",
       "      <td>-0.612160</td>\n",
       "    </tr>\n",
       "    <tr>\n",
       "      <th>2019-01-15</th>\n",
       "      <td>-0.558611</td>\n",
       "      <td>-0.380853</td>\n",
       "      <td>0.008320</td>\n",
       "      <td>-0.828358</td>\n",
       "      <td>-0.807388</td>\n",
       "      <td>-0.833029</td>\n",
       "      <td>1.074967</td>\n",
       "    </tr>\n",
       "    <tr>\n",
       "      <th>2019-01-16</th>\n",
       "      <td>-0.686545</td>\n",
       "      <td>0.050684</td>\n",
       "      <td>0.251342</td>\n",
       "      <td>-0.828358</td>\n",
       "      <td>0.383397</td>\n",
       "      <td>0.735752</td>\n",
       "      <td>-0.370996</td>\n",
       "    </tr>\n",
       "    <tr>\n",
       "      <th>2019-01-17</th>\n",
       "      <td>0.931742</td>\n",
       "      <td>-0.171924</td>\n",
       "      <td>-0.828358</td>\n",
       "      <td>-0.494077</td>\n",
       "      <td>-0.856081</td>\n",
       "      <td>0.565796</td>\n",
       "      <td>-0.119244</td>\n",
       "    </tr>\n",
       "  </tbody>\n",
       "</table>\n",
       "</div>"
      ],
      "text/plain": [
       "                   a         b         c         d         e         f  \\\n",
       "2019-01-11  1.039833 -1.202150  0.000000  0.000000 -1.211791  0.649087   \n",
       "2019-01-12 -0.390152  2.368821  0.827223  0.827223  1.393944 -0.364585   \n",
       "2019-01-13 -0.371337  1.870977  1.249525 -0.828358 -1.893419  1.652450   \n",
       "2019-01-14  1.259128  1.451679  0.251342  0.008320  0.209232  1.512266   \n",
       "2019-01-15 -0.558611 -0.380853  0.008320 -0.828358 -0.807388 -0.833029   \n",
       "2019-01-16 -0.686545  0.050684  0.251342 -0.828358  0.383397  0.735752   \n",
       "2019-01-17  0.931742 -0.171924 -0.828358 -0.494077 -0.856081  0.565796   \n",
       "\n",
       "                   g  \n",
       "2019-01-11  1.456929  \n",
       "2019-01-12  0.401237  \n",
       "2019-01-13  0.598571  \n",
       "2019-01-14 -0.612160  \n",
       "2019-01-15  1.074967  \n",
       "2019-01-16 -0.370996  \n",
       "2019-01-17 -0.119244  "
      ]
     },
     "execution_count": 35,
     "metadata": {},
     "output_type": "execute_result"
    }
   ],
   "source": [
    "# df cumulative product start with 1\n",
    "df"
   ]
  },
  {
   "cell_type": "code",
   "execution_count": 36,
   "metadata": {},
   "outputs": [
    {
     "data": {
      "text/html": [
       "<div>\n",
       "<style scoped>\n",
       "    .dataframe tbody tr th:only-of-type {\n",
       "        vertical-align: middle;\n",
       "    }\n",
       "\n",
       "    .dataframe tbody tr th {\n",
       "        vertical-align: top;\n",
       "    }\n",
       "\n",
       "    .dataframe thead th {\n",
       "        text-align: right;\n",
       "    }\n",
       "</style>\n",
       "<table border=\"1\" class=\"dataframe\">\n",
       "  <thead>\n",
       "    <tr style=\"text-align: right;\">\n",
       "      <th></th>\n",
       "      <th>a</th>\n",
       "      <th>b</th>\n",
       "      <th>c</th>\n",
       "      <th>d</th>\n",
       "      <th>e</th>\n",
       "      <th>f</th>\n",
       "      <th>g</th>\n",
       "    </tr>\n",
       "  </thead>\n",
       "  <tbody>\n",
       "    <tr>\n",
       "      <th>2019-01-11</th>\n",
       "      <td>1.039833</td>\n",
       "      <td>-1.202150</td>\n",
       "      <td>0.0</td>\n",
       "      <td>0.0</td>\n",
       "      <td>-1.211791</td>\n",
       "      <td>0.649087</td>\n",
       "      <td>1.456929</td>\n",
       "    </tr>\n",
       "    <tr>\n",
       "      <th>2019-01-12</th>\n",
       "      <td>-0.405692</td>\n",
       "      <td>-2.847678</td>\n",
       "      <td>0.0</td>\n",
       "      <td>0.0</td>\n",
       "      <td>-1.689169</td>\n",
       "      <td>-0.236648</td>\n",
       "      <td>0.584574</td>\n",
       "    </tr>\n",
       "    <tr>\n",
       "      <th>2019-01-13</th>\n",
       "      <td>0.150648</td>\n",
       "      <td>-5.327939</td>\n",
       "      <td>0.0</td>\n",
       "      <td>-0.0</td>\n",
       "      <td>3.198304</td>\n",
       "      <td>-0.391049</td>\n",
       "      <td>0.349909</td>\n",
       "    </tr>\n",
       "    <tr>\n",
       "      <th>2019-01-14</th>\n",
       "      <td>0.189686</td>\n",
       "      <td>-7.734456</td>\n",
       "      <td>0.0</td>\n",
       "      <td>-0.0</td>\n",
       "      <td>0.669187</td>\n",
       "      <td>-0.591369</td>\n",
       "      <td>-0.214200</td>\n",
       "    </tr>\n",
       "    <tr>\n",
       "      <th>2019-01-15</th>\n",
       "      <td>-0.105960</td>\n",
       "      <td>2.945692</td>\n",
       "      <td>0.0</td>\n",
       "      <td>0.0</td>\n",
       "      <td>-0.540293</td>\n",
       "      <td>0.492628</td>\n",
       "      <td>-0.230258</td>\n",
       "    </tr>\n",
       "    <tr>\n",
       "      <th>2019-01-16</th>\n",
       "      <td>0.072747</td>\n",
       "      <td>0.149300</td>\n",
       "      <td>0.0</td>\n",
       "      <td>-0.0</td>\n",
       "      <td>-0.207147</td>\n",
       "      <td>0.362452</td>\n",
       "      <td>0.085425</td>\n",
       "    </tr>\n",
       "    <tr>\n",
       "      <th>2019-01-17</th>\n",
       "      <td>0.067781</td>\n",
       "      <td>-0.025668</td>\n",
       "      <td>-0.0</td>\n",
       "      <td>0.0</td>\n",
       "      <td>0.177334</td>\n",
       "      <td>0.205074</td>\n",
       "      <td>-0.010186</td>\n",
       "    </tr>\n",
       "  </tbody>\n",
       "</table>\n",
       "</div>"
      ],
      "text/plain": [
       "                   a         b    c    d         e         f         g\n",
       "2019-01-11  1.039833 -1.202150  0.0  0.0 -1.211791  0.649087  1.456929\n",
       "2019-01-12 -0.405692 -2.847678  0.0  0.0 -1.689169 -0.236648  0.584574\n",
       "2019-01-13  0.150648 -5.327939  0.0 -0.0  3.198304 -0.391049  0.349909\n",
       "2019-01-14  0.189686 -7.734456  0.0 -0.0  0.669187 -0.591369 -0.214200\n",
       "2019-01-15 -0.105960  2.945692  0.0  0.0 -0.540293  0.492628 -0.230258\n",
       "2019-01-16  0.072747  0.149300  0.0 -0.0 -0.207147  0.362452  0.085425\n",
       "2019-01-17  0.067781 -0.025668 -0.0  0.0  0.177334  0.205074 -0.010186"
      ]
     },
     "execution_count": 36,
     "metadata": {},
     "output_type": "execute_result"
    }
   ],
   "source": [
    "df.cumprod()"
   ]
  },
  {
   "cell_type": "code",
   "execution_count": 37,
   "metadata": {},
   "outputs": [
    {
     "data": {
      "text/plain": [
       "-0.2867688684717926"
      ]
     },
     "execution_count": 37,
     "metadata": {},
     "output_type": "execute_result"
    }
   ],
   "source": [
    "# df Covariance\n",
    "df[\"a\"].cov(df[\"b\"])"
   ]
  },
  {
   "cell_type": "code",
   "execution_count": 38,
   "metadata": {},
   "outputs": [
    {
     "data": {
      "text/plain": [
       "-0.252461104793516"
      ]
     },
     "execution_count": 38,
     "metadata": {},
     "output_type": "execute_result"
    }
   ],
   "source": [
    "# df Correlation Coefficient\n",
    "df[\"a\"].corr(df[\"b\"])"
   ]
  }
 ],
 "metadata": {
  "kernelspec": {
   "display_name": "Python 3",
   "language": "python",
   "name": "python3"
  },
  "language_info": {
   "codemirror_mode": {
    "name": "ipython",
    "version": 3
   },
   "file_extension": ".py",
   "mimetype": "text/x-python",
   "name": "python",
   "nbconvert_exporter": "python",
   "pygments_lexer": "ipython3",
   "version": "3.7.2"
  }
 },
 "nbformat": 4,
 "nbformat_minor": 2
}
