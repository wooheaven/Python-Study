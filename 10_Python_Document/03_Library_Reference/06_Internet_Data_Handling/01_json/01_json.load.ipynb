{
 "cells": [
  {
   "cell_type": "code",
   "execution_count": 1,
   "metadata": {},
   "outputs": [],
   "source": [
    "import json"
   ]
  },
  {
   "cell_type": "code",
   "execution_count": 2,
   "metadata": {},
   "outputs": [],
   "source": [
    "with open(\"test.json\") as jr:\n",
    "    dict = json.load(jr)"
   ]
  },
  {
   "cell_type": "code",
   "execution_count": 3,
   "metadata": {},
   "outputs": [
    {
     "name": "stdout",
     "output_type": "stream",
     "text": [
      "{\n",
      "    \"string\": \"test\",\n",
      "    \"number\": 100,\n",
      "    \"array\": [\n",
      "        1,\n",
      "        2,\n",
      "        3,\n",
      "        4,\n",
      "        5\n",
      "    ],\n",
      "    \"object\": {\n",
      "        \"name\": \"woo\",\n",
      "        \"age\": 30\n",
      "    },\n",
      "    \"bool\": true\n",
      "}\n"
     ]
    }
   ],
   "source": [
    "print(json.dumps(dict, indent=4))"
   ]
  },
  {
   "cell_type": "code",
   "execution_count": 4,
   "metadata": {},
   "outputs": [],
   "source": [
    "with open('test.json', 'w', encoding=\"utf8\") as jw:\n",
    "    json.dump(dict, jw, ensure_ascii=False)"
   ]
  }
 ],
 "metadata": {
  "kernelspec": {
   "display_name": "Python 3",
   "language": "python",
   "name": "python3"
  },
  "language_info": {
   "codemirror_mode": {
    "name": "ipython",
    "version": 3
   },
   "file_extension": ".py",
   "mimetype": "text/x-python",
   "name": "python",
   "nbconvert_exporter": "python",
   "pygments_lexer": "ipython3",
   "version": "3.8.5"
  }
 },
 "nbformat": 4,
 "nbformat_minor": 4
}
