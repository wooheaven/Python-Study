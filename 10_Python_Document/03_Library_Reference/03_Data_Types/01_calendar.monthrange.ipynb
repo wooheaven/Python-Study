{
 "cells": [
  {
   "cell_type": "code",
   "execution_count": 1,
   "metadata": {},
   "outputs": [],
   "source": [
    "import calendar"
   ]
  },
  {
   "cell_type": "code",
   "execution_count": 2,
   "metadata": {},
   "outputs": [
    {
     "name": "stdout",
     "output_type": "stream",
     "text": [
      "2014\t1\t1st day is Wednesday\tlast day is \t31\n",
      "2014\t2\t1st day is Saturday\tlast day is \t28\n",
      "2014\t3\t1st day is Saturday\tlast day is \t31\n",
      "2014\t4\t1st day is Tuesday\tlast day is \t30\n",
      "2014\t5\t1st day is Thursday\tlast day is \t31\n",
      "2014\t6\t1st day is Sunday\tlast day is \t30\n",
      "2014\t7\t1st day is Tuesday\tlast day is \t31\n",
      "2014\t8\t1st day is Friday\tlast day is \t31\n",
      "2014\t9\t1st day is Monday\tlast day is \t30\n",
      "2014\t10\t1st day is Wednesday\tlast day is \t31\n",
      "2014\t11\t1st day is Saturday\tlast day is \t30\n",
      "2014\t12\t1st day is Monday\tlast day is \t31\n",
      "2015\t1\t1st day is Thursday\tlast day is \t31\n",
      "2015\t2\t1st day is Sunday\tlast day is \t28\n",
      "2015\t3\t1st day is Sunday\tlast day is \t31\n",
      "2015\t4\t1st day is Wednesday\tlast day is \t30\n",
      "2015\t5\t1st day is Friday\tlast day is \t31\n",
      "2015\t6\t1st day is Monday\tlast day is \t30\n",
      "2015\t7\t1st day is Wednesday\tlast day is \t31\n",
      "2015\t8\t1st day is Saturday\tlast day is \t31\n",
      "2015\t9\t1st day is Tuesday\tlast day is \t30\n",
      "2015\t10\t1st day is Thursday\tlast day is \t31\n",
      "2015\t11\t1st day is Sunday\tlast day is \t30\n",
      "2015\t12\t1st day is Tuesday\tlast day is \t31\n"
     ]
    }
   ],
   "source": [
    "for year in [2014, 2015]:\n",
    "    for month in range(1,13):\n",
    "        result = calendar.monthrange(year, month)\n",
    "        print(year, month, \"1st day is \" + calendar.day_name[result[0]], \"last day is \", result[1], sep=\"\\t\")"
   ]
  }
 ],
 "metadata": {
  "kernelspec": {
   "display_name": "Python 3",
   "language": "python",
   "name": "python3"
  },
  "language_info": {
   "codemirror_mode": {
    "name": "ipython",
    "version": 3
   },
   "file_extension": ".py",
   "mimetype": "text/x-python",
   "name": "python",
   "nbconvert_exporter": "python",
   "pygments_lexer": "ipython3",
   "version": "3.8.5"
  }
 },
 "nbformat": 4,
 "nbformat_minor": 4
}
