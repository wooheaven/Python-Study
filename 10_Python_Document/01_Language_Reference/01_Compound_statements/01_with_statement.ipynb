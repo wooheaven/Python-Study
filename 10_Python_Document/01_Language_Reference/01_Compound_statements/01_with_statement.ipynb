{
 "cells": [
  {
   "cell_type": "code",
   "execution_count": 1,
   "metadata": {},
   "outputs": [
    {
     "name": "stdout",
     "output_type": "stream",
     "text": [
      "a\r\n",
      "b\r\n"
     ]
    }
   ],
   "source": [
    "!cat 01_data.txt"
   ]
  },
  {
   "cell_type": "code",
   "execution_count": 2,
   "metadata": {},
   "outputs": [
    {
     "name": "stdout",
     "output_type": "stream",
     "text": [
      "a\n",
      "\n",
      "b\n",
      "\n"
     ]
    }
   ],
   "source": [
    "# The with statement is used to wrap the execution of a block with methods defined by a context manager (see section With Statement Context Managers). \n",
    "# This allows common try…except…finally usage patterns to be encapsulated for convenient reuse.\n",
    "with open('01_data.txt') as f:\n",
    "    for line in f.readlines():\n",
    "        print(line)"
   ]
  },
  {
   "cell_type": "code",
   "execution_count": 3,
   "metadata": {},
   "outputs": [
    {
     "name": "stdout",
     "output_type": "stream",
     "text": [
      "Line 0: a\n",
      "\n",
      "Line 1: b\n",
      "\n"
     ]
    }
   ],
   "source": [
    "with open('01_data.txt') as f:  \n",
    "   for cnt, line in enumerate(f):\n",
    "       print(\"Line {}: {}\".format(cnt, line))"
   ]
  },
  {
   "cell_type": "code",
   "execution_count": 4,
   "metadata": {},
   "outputs": [
    {
     "name": "stdout",
     "output_type": "stream",
     "text": [
      "a\n",
      "\n",
      "b\n",
      "\n"
     ]
    }
   ],
   "source": [
    "f = open('01_data.txt', 'r')\n",
    "lines = f.readlines()\n",
    "for line in lines:\n",
    "    print(line)\n",
    "f.close()"
   ]
  },
  {
   "cell_type": "code",
   "execution_count": 6,
   "metadata": {},
   "outputs": [],
   "source": [
    "with open('01_data.txt', 'r') as r:\n",
    "    lines = r.readlines()\n",
    "    with open('02_data.txt', 'w') as w:\n",
    "        for line in lines:\n",
    "            w.write(line)"
   ]
  },
  {
   "cell_type": "code",
   "execution_count": 7,
   "metadata": {},
   "outputs": [
    {
     "name": "stdout",
     "output_type": "stream",
     "text": [
      "a\r\n",
      "b\r\n"
     ]
    }
   ],
   "source": [
    "!cat '02_data.txt'"
   ]
  }
 ],
 "metadata": {
  "kernelspec": {
   "display_name": "Python 3",
   "language": "python",
   "name": "python3"
  },
  "language_info": {
   "codemirror_mode": {
    "name": "ipython",
    "version": 3
   },
   "file_extension": ".py",
   "mimetype": "text/x-python",
   "name": "python",
   "nbconvert_exporter": "python",
   "pygments_lexer": "ipython3",
   "version": "3.7.6"
  }
 },
 "nbformat": 4,
 "nbformat_minor": 2
}
