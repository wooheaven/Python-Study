{
 "cells": [
  {
   "cell_type": "code",
   "execution_count": 1,
   "metadata": {},
   "outputs": [],
   "source": [
    "import gzip\n",
    "import os"
   ]
  },
  {
   "cell_type": "code",
   "execution_count": 2,
   "metadata": {},
   "outputs": [],
   "source": [
    "def remove_file(file):\n",
    "    if os.path.exists(file) and os.path.isfile(file):\n",
    "        os.remove(file)"
   ]
  },
  {
   "cell_type": "code",
   "execution_count": 3,
   "metadata": {},
   "outputs": [
    {
     "name": "stdout",
     "output_type": "stream",
     "text": [
      "b'this is a sample line1\\nthis is a sample line2\\n'\n"
     ]
    }
   ],
   "source": [
    "# binary -> gz\n",
    "binary_str = b'this is a sample line1\\nthis is a sample line2\\n'\n",
    "print(binary_str)\n",
    "remove_file('test.gz')\n",
    "with gzip.open('test.gz', 'wb', compresslevel=9) as f_out:\n",
    "    f_out.write(binary_str)"
   ]
  },
  {
   "cell_type": "code",
   "execution_count": 4,
   "metadata": {},
   "outputs": [
    {
     "name": "stdout",
     "output_type": "stream",
     "text": [
      "b'this is a sample line1\\nthis is a sample line2\\n'\n"
     ]
    }
   ],
   "source": [
    "# gz -> print\n",
    "with gzip.open('test.gz', 'rb') as f_in:\n",
    "    print(f_in.read())\n",
    "remove_file('test.gz')"
   ]
  },
  {
   "cell_type": "code",
   "execution_count": 5,
   "metadata": {},
   "outputs": [],
   "source": [
    "# txt -> txt.gz\n",
    "with open('tmp.txt', 'wb') as f_in:\n",
    "    f_in.write(binary_str)\n",
    "with open('tmp.txt', 'rb') as f_in:\n",
    "    with gzip.open('tmp.txt.gz', 'wb', compresslevel=9) as f_out:\n",
    "        f_out.write(f_in.read())"
   ]
  },
  {
   "cell_type": "code",
   "execution_count": 6,
   "metadata": {},
   "outputs": [],
   "source": [
    "remove_file('tmp.txt')"
   ]
  },
  {
   "cell_type": "code",
   "execution_count": 7,
   "metadata": {},
   "outputs": [],
   "source": [
    "# txt.gz -> txt\n",
    "with gzip.open('tmp.txt.gz', 'rb') as f_in:\n",
    "    with open('tmp.txt', 'wb') as f_out:\n",
    "        f_out.write(f_in.read())"
   ]
  },
  {
   "cell_type": "code",
   "execution_count": 8,
   "metadata": {},
   "outputs": [
    {
     "name": "stdout",
     "output_type": "stream",
     "text": [
      "this is a sample line1\r\n",
      "this is a sample line2\r\n"
     ]
    }
   ],
   "source": [
    "!cat tmp.txt"
   ]
  },
  {
   "cell_type": "code",
   "execution_count": 9,
   "metadata": {},
   "outputs": [],
   "source": [
    "remove_file('tmp.txt')\n",
    "remove_file('tmp.txt.gz')"
   ]
  }
 ],
 "metadata": {
  "kernelspec": {
   "display_name": "Python 3",
   "language": "python",
   "name": "python3"
  },
  "language_info": {
   "codemirror_mode": {
    "name": "ipython",
    "version": 3
   },
   "file_extension": ".py",
   "mimetype": "text/x-python",
   "name": "python",
   "nbconvert_exporter": "python",
   "pygments_lexer": "ipython3",
   "version": "3.7.3"
  }
 },
 "nbformat": 4,
 "nbformat_minor": 2
}
