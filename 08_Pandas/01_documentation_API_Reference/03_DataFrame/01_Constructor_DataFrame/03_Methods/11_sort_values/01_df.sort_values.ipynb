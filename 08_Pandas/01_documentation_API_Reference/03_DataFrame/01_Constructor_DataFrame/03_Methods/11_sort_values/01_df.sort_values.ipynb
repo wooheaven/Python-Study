{
 "cells": [
  {
   "cell_type": "code",
   "execution_count": 1,
   "metadata": {},
   "outputs": [],
   "source": [
    "import numpy as np\n",
    "import pandas as pd"
   ]
  },
  {
   "cell_type": "code",
   "execution_count": 2,
   "metadata": {},
   "outputs": [
    {
     "data": {
      "text/html": [
       "<div>\n",
       "<style scoped>\n",
       "    .dataframe tbody tr th:only-of-type {\n",
       "        vertical-align: middle;\n",
       "    }\n",
       "\n",
       "    .dataframe tbody tr th {\n",
       "        vertical-align: top;\n",
       "    }\n",
       "\n",
       "    .dataframe thead th {\n",
       "        text-align: right;\n",
       "    }\n",
       "</style>\n",
       "<table border=\"1\" class=\"dataframe\">\n",
       "  <thead>\n",
       "    <tr style=\"text-align: right;\">\n",
       "      <th></th>\n",
       "      <th>c1</th>\n",
       "      <th>c4</th>\n",
       "      <th>c3</th>\n",
       "      <th>c2</th>\n",
       "      <th>c0</th>\n",
       "    </tr>\n",
       "  </thead>\n",
       "  <tbody>\n",
       "    <tr>\n",
       "      <th>r1</th>\n",
       "      <td>2.678739</td>\n",
       "      <td>-0.759479</td>\n",
       "      <td>0.491985</td>\n",
       "      <td>-1.788689</td>\n",
       "      <td>-0.008294</td>\n",
       "    </tr>\n",
       "    <tr>\n",
       "      <th>r0</th>\n",
       "      <td>2.225053</td>\n",
       "      <td>0.187420</td>\n",
       "      <td>-0.522516</td>\n",
       "      <td>0.005175</td>\n",
       "      <td>-0.568639</td>\n",
       "    </tr>\n",
       "    <tr>\n",
       "      <th>r3</th>\n",
       "      <td>-0.370336</td>\n",
       "      <td>-0.007501</td>\n",
       "      <td>0.416104</td>\n",
       "      <td>0.396802</td>\n",
       "      <td>0.431955</td>\n",
       "    </tr>\n",
       "    <tr>\n",
       "      <th>r2</th>\n",
       "      <td>-1.226886</td>\n",
       "      <td>0.065325</td>\n",
       "      <td>-0.416306</td>\n",
       "      <td>-0.319652</td>\n",
       "      <td>0.329429</td>\n",
       "    </tr>\n",
       "  </tbody>\n",
       "</table>\n",
       "</div>"
      ],
      "text/plain": [
       "          c1        c4        c3        c2        c0\n",
       "r1  2.678739 -0.759479  0.491985 -1.788689 -0.008294\n",
       "r0  2.225053  0.187420 -0.522516  0.005175 -0.568639\n",
       "r3 -0.370336 -0.007501  0.416104  0.396802  0.431955\n",
       "r2 -1.226886  0.065325 -0.416306 -0.319652  0.329429"
      ]
     },
     "execution_count": 2,
     "metadata": {},
     "output_type": "execute_result"
    }
   ],
   "source": [
    "df = pd.DataFrame(np.random.randn(4,5), \n",
    "                  columns=['c1', 'c4', 'c3', 'c2', 'c0'], \n",
    "                  index=['r1', 'r0', 'r3', 'r2'])\n",
    "df"
   ]
  },
  {
   "cell_type": "code",
   "execution_count": 4,
   "metadata": {},
   "outputs": [
    {
     "data": {
      "text/html": [
       "<div>\n",
       "<style scoped>\n",
       "    .dataframe tbody tr th:only-of-type {\n",
       "        vertical-align: middle;\n",
       "    }\n",
       "\n",
       "    .dataframe tbody tr th {\n",
       "        vertical-align: top;\n",
       "    }\n",
       "\n",
       "    .dataframe thead th {\n",
       "        text-align: right;\n",
       "    }\n",
       "</style>\n",
       "<table border=\"1\" class=\"dataframe\">\n",
       "  <thead>\n",
       "    <tr style=\"text-align: right;\">\n",
       "      <th></th>\n",
       "      <th>c1</th>\n",
       "      <th>c4</th>\n",
       "      <th>c3</th>\n",
       "      <th>c2</th>\n",
       "      <th>c0</th>\n",
       "    </tr>\n",
       "  </thead>\n",
       "  <tbody>\n",
       "    <tr>\n",
       "      <th>r2</th>\n",
       "      <td>-1.226886</td>\n",
       "      <td>0.065325</td>\n",
       "      <td>-0.416306</td>\n",
       "      <td>-0.319652</td>\n",
       "      <td>0.329429</td>\n",
       "    </tr>\n",
       "    <tr>\n",
       "      <th>r3</th>\n",
       "      <td>-0.370336</td>\n",
       "      <td>-0.007501</td>\n",
       "      <td>0.416104</td>\n",
       "      <td>0.396802</td>\n",
       "      <td>0.431955</td>\n",
       "    </tr>\n",
       "    <tr>\n",
       "      <th>r0</th>\n",
       "      <td>2.225053</td>\n",
       "      <td>0.187420</td>\n",
       "      <td>-0.522516</td>\n",
       "      <td>0.005175</td>\n",
       "      <td>-0.568639</td>\n",
       "    </tr>\n",
       "    <tr>\n",
       "      <th>r1</th>\n",
       "      <td>2.678739</td>\n",
       "      <td>-0.759479</td>\n",
       "      <td>0.491985</td>\n",
       "      <td>-1.788689</td>\n",
       "      <td>-0.008294</td>\n",
       "    </tr>\n",
       "  </tbody>\n",
       "</table>\n",
       "</div>"
      ],
      "text/plain": [
       "          c1        c4        c3        c2        c0\n",
       "r2 -1.226886  0.065325 -0.416306 -0.319652  0.329429\n",
       "r3 -0.370336 -0.007501  0.416104  0.396802  0.431955\n",
       "r0  2.225053  0.187420 -0.522516  0.005175 -0.568639\n",
       "r1  2.678739 -0.759479  0.491985 -1.788689 -0.008294"
      ]
     },
     "execution_count": 4,
     "metadata": {},
     "output_type": "execute_result"
    }
   ],
   "source": [
    "df.sort_values(by=['c1'])"
   ]
  },
  {
   "cell_type": "code",
   "execution_count": 5,
   "metadata": {},
   "outputs": [
    {
     "data": {
      "text/html": [
       "<div>\n",
       "<style scoped>\n",
       "    .dataframe tbody tr th:only-of-type {\n",
       "        vertical-align: middle;\n",
       "    }\n",
       "\n",
       "    .dataframe tbody tr th {\n",
       "        vertical-align: top;\n",
       "    }\n",
       "\n",
       "    .dataframe thead th {\n",
       "        text-align: right;\n",
       "    }\n",
       "</style>\n",
       "<table border=\"1\" class=\"dataframe\">\n",
       "  <thead>\n",
       "    <tr style=\"text-align: right;\">\n",
       "      <th></th>\n",
       "      <th>c1</th>\n",
       "      <th>c4</th>\n",
       "      <th>c3</th>\n",
       "      <th>c2</th>\n",
       "      <th>c0</th>\n",
       "    </tr>\n",
       "  </thead>\n",
       "  <tbody>\n",
       "    <tr>\n",
       "      <th>r1</th>\n",
       "      <td>2.678739</td>\n",
       "      <td>-0.759479</td>\n",
       "      <td>0.491985</td>\n",
       "      <td>-1.788689</td>\n",
       "      <td>-0.008294</td>\n",
       "    </tr>\n",
       "    <tr>\n",
       "      <th>r0</th>\n",
       "      <td>2.225053</td>\n",
       "      <td>0.187420</td>\n",
       "      <td>-0.522516</td>\n",
       "      <td>0.005175</td>\n",
       "      <td>-0.568639</td>\n",
       "    </tr>\n",
       "    <tr>\n",
       "      <th>r3</th>\n",
       "      <td>-0.370336</td>\n",
       "      <td>-0.007501</td>\n",
       "      <td>0.416104</td>\n",
       "      <td>0.396802</td>\n",
       "      <td>0.431955</td>\n",
       "    </tr>\n",
       "    <tr>\n",
       "      <th>r2</th>\n",
       "      <td>-1.226886</td>\n",
       "      <td>0.065325</td>\n",
       "      <td>-0.416306</td>\n",
       "      <td>-0.319652</td>\n",
       "      <td>0.329429</td>\n",
       "    </tr>\n",
       "  </tbody>\n",
       "</table>\n",
       "</div>"
      ],
      "text/plain": [
       "          c1        c4        c3        c2        c0\n",
       "r1  2.678739 -0.759479  0.491985 -1.788689 -0.008294\n",
       "r0  2.225053  0.187420 -0.522516  0.005175 -0.568639\n",
       "r3 -0.370336 -0.007501  0.416104  0.396802  0.431955\n",
       "r2 -1.226886  0.065325 -0.416306 -0.319652  0.329429"
      ]
     },
     "execution_count": 5,
     "metadata": {},
     "output_type": "execute_result"
    }
   ],
   "source": [
    "df.sort_values(by=['c1'], ascending=False)"
   ]
  }
 ],
 "metadata": {
  "kernelspec": {
   "display_name": "Python 3",
   "language": "python",
   "name": "python3"
  },
  "language_info": {
   "codemirror_mode": {
    "name": "ipython",
    "version": 3
   },
   "file_extension": ".py",
   "mimetype": "text/x-python",
   "name": "python",
   "nbconvert_exporter": "python",
   "pygments_lexer": "ipython3",
   "version": "3.8.5"
  }
 },
 "nbformat": 4,
 "nbformat_minor": 2
}
