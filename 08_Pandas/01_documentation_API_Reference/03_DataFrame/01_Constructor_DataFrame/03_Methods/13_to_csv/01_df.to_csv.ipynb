{
 "cells": [
  {
   "cell_type": "code",
   "execution_count": 1,
   "metadata": {},
   "outputs": [],
   "source": [
    "import pandas as pd\n",
    "import numpy as np"
   ]
  },
  {
   "cell_type": "code",
   "execution_count": 2,
   "metadata": {},
   "outputs": [
    {
     "data": {
      "text/html": [
       "<div>\n",
       "<style scoped>\n",
       "    .dataframe tbody tr th:only-of-type {\n",
       "        vertical-align: middle;\n",
       "    }\n",
       "\n",
       "    .dataframe tbody tr th {\n",
       "        vertical-align: top;\n",
       "    }\n",
       "\n",
       "    .dataframe thead th {\n",
       "        text-align: right;\n",
       "    }\n",
       "</style>\n",
       "<table border=\"1\" class=\"dataframe\">\n",
       "  <thead>\n",
       "    <tr style=\"text-align: right;\">\n",
       "      <th></th>\n",
       "      <th>c1</th>\n",
       "      <th>c4</th>\n",
       "      <th>c3</th>\n",
       "      <th>c2</th>\n",
       "      <th>c0</th>\n",
       "    </tr>\n",
       "  </thead>\n",
       "  <tbody>\n",
       "    <tr>\n",
       "      <th>r1</th>\n",
       "      <td>-0.189465</td>\n",
       "      <td>0.643291</td>\n",
       "      <td>0.757152</td>\n",
       "      <td>0.537708</td>\n",
       "      <td>0.531812</td>\n",
       "    </tr>\n",
       "    <tr>\n",
       "      <th>r0</th>\n",
       "      <td>1.105414</td>\n",
       "      <td>0.878094</td>\n",
       "      <td>0.864349</td>\n",
       "      <td>-1.334839</td>\n",
       "      <td>-1.090089</td>\n",
       "    </tr>\n",
       "    <tr>\n",
       "      <th>r3</th>\n",
       "      <td>-0.521217</td>\n",
       "      <td>1.532788</td>\n",
       "      <td>0.255413</td>\n",
       "      <td>-1.683150</td>\n",
       "      <td>1.532584</td>\n",
       "    </tr>\n",
       "    <tr>\n",
       "      <th>r2</th>\n",
       "      <td>1.233610</td>\n",
       "      <td>-0.940144</td>\n",
       "      <td>0.581459</td>\n",
       "      <td>1.404942</td>\n",
       "      <td>0.218217</td>\n",
       "    </tr>\n",
       "  </tbody>\n",
       "</table>\n",
       "</div>"
      ],
      "text/plain": [
       "          c1        c4        c3        c2        c0\n",
       "r1 -0.189465  0.643291  0.757152  0.537708  0.531812\n",
       "r0  1.105414  0.878094  0.864349 -1.334839 -1.090089\n",
       "r3 -0.521217  1.532788  0.255413 -1.683150  1.532584\n",
       "r2  1.233610 -0.940144  0.581459  1.404942  0.218217"
      ]
     },
     "execution_count": 2,
     "metadata": {},
     "output_type": "execute_result"
    }
   ],
   "source": [
    "df = pd.DataFrame(np.random.randn(4,5), \n",
    "                  columns=['c1', 'c4', 'c3', 'c2', 'c0'], \n",
    "                  index=['r1', 'r0', 'r3', 'r2'])\n",
    "df"
   ]
  },
  {
   "cell_type": "code",
   "execution_count": 3,
   "metadata": {},
   "outputs": [
    {
     "name": "stdout",
     "output_type": "stream",
     "text": [
      "c1\tc4\tc3\tc2\tc0\r\n",
      "-0.18946541012289284\t0.6432910010360918\t0.7571518977280696\t0.5377084686148111\t0.5318121377109079\r\n",
      "1.1054140483355464\t0.8780942797526383\t0.8643492933912464\t-1.3348393008693282\t-1.090089271786604\r\n",
      "-0.5212171102356156\t1.5327875226841527\t0.25541267610116536\t-1.6831498268852436\t1.5325843015812026\r\n",
      "1.233609975437193\t-0.940143719861853\t0.5814591369538956\t1.4049423285313338\t0.21821726960674814\r\n"
     ]
    }
   ],
   "source": [
    "df.to_csv(\"./test.tsv\", sep=\"\\t\", header=True, index=False)\n",
    "!cat ./test.tsv"
   ]
  },
  {
   "cell_type": "code",
   "execution_count": 4,
   "metadata": {},
   "outputs": [
    {
     "name": "stdout",
     "output_type": "stream",
     "text": [
      "\tc1\tc4\tc3\tc2\tc0\r\n",
      "r1\t-0.18946541012289284\t0.6432910010360918\t0.7571518977280696\t0.5377084686148111\t0.5318121377109079\r\n",
      "r0\t1.1054140483355464\t0.8780942797526383\t0.8643492933912464\t-1.3348393008693282\t-1.090089271786604\r\n",
      "r3\t-0.5212171102356156\t1.5327875226841527\t0.25541267610116536\t-1.6831498268852436\t1.5325843015812026\r\n",
      "r2\t1.233609975437193\t-0.940143719861853\t0.5814591369538956\t1.4049423285313338\t0.21821726960674814\r\n"
     ]
    }
   ],
   "source": [
    "df.to_csv(\"./test.tsv\", sep=\"\\t\", header=True, index=True)\n",
    "!cat ./test.tsv"
   ]
  },
  {
   "cell_type": "code",
   "execution_count": 5,
   "metadata": {},
   "outputs": [],
   "source": [
    "!rm ./test.tsv"
   ]
  }
 ],
 "metadata": {
  "kernelspec": {
   "display_name": "Python 3",
   "language": "python",
   "name": "python3"
  },
  "language_info": {
   "codemirror_mode": {
    "name": "ipython",
    "version": 3
   },
   "file_extension": ".py",
   "mimetype": "text/x-python",
   "name": "python",
   "nbconvert_exporter": "python",
   "pygments_lexer": "ipython3",
   "version": "3.8.5"
  }
 },
 "nbformat": 4,
 "nbformat_minor": 4
}
