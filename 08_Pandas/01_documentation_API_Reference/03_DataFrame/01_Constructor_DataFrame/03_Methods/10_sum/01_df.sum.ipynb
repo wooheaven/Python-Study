{
 "cells": [
  {
   "cell_type": "code",
   "execution_count": 1,
   "metadata": {},
   "outputs": [],
   "source": [
    "import numpy as np\n",
    "import pandas as pd"
   ]
  },
  {
   "cell_type": "code",
   "execution_count": 2,
   "metadata": {},
   "outputs": [
    {
     "data": {
      "text/html": [
       "<div>\n",
       "<style scoped>\n",
       "    .dataframe tbody tr th:only-of-type {\n",
       "        vertical-align: middle;\n",
       "    }\n",
       "\n",
       "    .dataframe tbody tr th {\n",
       "        vertical-align: top;\n",
       "    }\n",
       "\n",
       "    .dataframe thead th {\n",
       "        text-align: right;\n",
       "    }\n",
       "</style>\n",
       "<table border=\"1\" class=\"dataframe\">\n",
       "  <thead>\n",
       "    <tr style=\"text-align: right;\">\n",
       "      <th></th>\n",
       "      <th>c1</th>\n",
       "      <th>c4</th>\n",
       "      <th>c3</th>\n",
       "      <th>c2</th>\n",
       "      <th>c0</th>\n",
       "    </tr>\n",
       "  </thead>\n",
       "  <tbody>\n",
       "    <tr>\n",
       "      <th>r1</th>\n",
       "      <td>0.544085</td>\n",
       "      <td>0.491450</td>\n",
       "      <td>1.536075</td>\n",
       "      <td>-0.790926</td>\n",
       "      <td>0.740325</td>\n",
       "    </tr>\n",
       "    <tr>\n",
       "      <th>r0</th>\n",
       "      <td>0.877858</td>\n",
       "      <td>-1.811993</td>\n",
       "      <td>-0.751808</td>\n",
       "      <td>0.610519</td>\n",
       "      <td>-1.278438</td>\n",
       "    </tr>\n",
       "    <tr>\n",
       "      <th>r3</th>\n",
       "      <td>-1.941921</td>\n",
       "      <td>-0.901987</td>\n",
       "      <td>-0.857385</td>\n",
       "      <td>-0.204128</td>\n",
       "      <td>0.735327</td>\n",
       "    </tr>\n",
       "    <tr>\n",
       "      <th>r2</th>\n",
       "      <td>-0.652994</td>\n",
       "      <td>-0.134319</td>\n",
       "      <td>-0.800271</td>\n",
       "      <td>0.765334</td>\n",
       "      <td>-0.231327</td>\n",
       "    </tr>\n",
       "  </tbody>\n",
       "</table>\n",
       "</div>"
      ],
      "text/plain": [
       "          c1        c4        c3        c2        c0\n",
       "r1  0.544085  0.491450  1.536075 -0.790926  0.740325\n",
       "r0  0.877858 -1.811993 -0.751808  0.610519 -1.278438\n",
       "r3 -1.941921 -0.901987 -0.857385 -0.204128  0.735327\n",
       "r2 -0.652994 -0.134319 -0.800271  0.765334 -0.231327"
      ]
     },
     "execution_count": 2,
     "metadata": {},
     "output_type": "execute_result"
    }
   ],
   "source": [
    "df = pd.DataFrame(np.random.randn(4,5), \n",
    "                  columns=['c1', 'c4', 'c3', 'c2', 'c0'], \n",
    "                  index=['r1', 'r0', 'r3', 'r2'])\n",
    "df"
   ]
  },
  {
   "cell_type": "code",
   "execution_count": 3,
   "metadata": {},
   "outputs": [
    {
     "name": "stdout",
     "output_type": "stream",
     "text": [
      "<class 'pandas.core.series.Series'>\n"
     ]
    },
    {
     "data": {
      "text/plain": [
       "c1   -1.172972\n",
       "c4   -2.356850\n",
       "c3   -0.873389\n",
       "c2    0.380799\n",
       "c0   -0.034114\n",
       "dtype: float64"
      ]
     },
     "execution_count": 3,
     "metadata": {},
     "output_type": "execute_result"
    }
   ],
   "source": [
    "# Return the sum of the values for the requested axis.\n",
    "print(type(df.sum()))\n",
    "df.sum()"
   ]
  },
  {
   "cell_type": "code",
   "execution_count": 4,
   "metadata": {},
   "outputs": [
    {
     "name": "stdout",
     "output_type": "stream",
     "text": [
      "<class 'pandas.core.series.Series'>\n"
     ]
    },
    {
     "data": {
      "text/plain": [
       "r1    2.521009\n",
       "r0   -2.353862\n",
       "r3   -3.170095\n",
       "r2   -1.053577\n",
       "dtype: float64"
      ]
     },
     "execution_count": 4,
     "metadata": {},
     "output_type": "execute_result"
    }
   ],
   "source": [
    "print(type(df.sum(axis=1)))\n",
    "df.sum(axis=1)"
   ]
  }
 ],
 "metadata": {
  "kernelspec": {
   "display_name": "Python 3",
   "language": "python",
   "name": "python3"
  },
  "language_info": {
   "codemirror_mode": {
    "name": "ipython",
    "version": 3
   },
   "file_extension": ".py",
   "mimetype": "text/x-python",
   "name": "python",
   "nbconvert_exporter": "python",
   "pygments_lexer": "ipython3",
   "version": "3.7.2"
  }
 },
 "nbformat": 4,
 "nbformat_minor": 2
}
