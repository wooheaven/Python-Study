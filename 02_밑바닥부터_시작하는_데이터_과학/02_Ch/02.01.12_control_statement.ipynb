{
 "cells": [
  {
   "cell_type": "code",
   "execution_count": 1,
   "metadata": {
    "collapsed": false
   },
   "outputs": [
    {
     "name": "stdout",
     "output_type": "stream",
     "text": [
      "0 < 3\n",
      "1 < 3\n",
      "2 < 3\n",
      "3 <=  3  < 6\n",
      "3 <=  4  < 6\n",
      "3 <=  5  < 6\n",
      "6 <=  6\n",
      "6 <=  7\n",
      "6 <=  8\n",
      "6 <=  9\n"
     ]
    }
   ],
   "source": [
    "for x in range(10):\n",
    "    if x < 3:\n",
    "        print x,\"< 3\"\n",
    "    elif x < 6:\n",
    "        print \"3 <= \", x, \" < 6\"\n",
    "    else:\n",
    "        print \"6 <= \", x"
   ]
  },
  {
   "cell_type": "code",
   "execution_count": 2,
   "metadata": {
    "collapsed": false
   },
   "outputs": [
    {
     "name": "stdout",
     "output_type": "stream",
     "text": [
      "0\n",
      "1\n",
      "2\n",
      "4\n"
     ]
    }
   ],
   "source": [
    "for x in range(10):\n",
    "    if x == 3:\n",
    "        continue\n",
    "    if x == 5:\n",
    "        break\n",
    "    print x"
   ]
  }
 ],
 "metadata": {
  "kernelspec": {
   "display_name": "Python 2",
   "language": "python",
   "name": "python2"
  },
  "language_info": {
   "codemirror_mode": {
    "name": "ipython",
    "version": 2
   },
   "file_extension": ".py",
   "mimetype": "text/x-python",
   "name": "python",
   "nbconvert_exporter": "python",
   "pygments_lexer": "ipython2",
   "version": "2.7.13"
  }
 },
 "nbformat": 4,
 "nbformat_minor": 2
}
