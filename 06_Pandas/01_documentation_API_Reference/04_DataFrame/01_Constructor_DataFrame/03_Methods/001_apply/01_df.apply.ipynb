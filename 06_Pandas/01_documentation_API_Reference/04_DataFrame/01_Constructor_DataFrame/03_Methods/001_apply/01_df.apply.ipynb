{
 "cells": [
  {
   "cell_type": "code",
   "execution_count": 1,
   "metadata": {},
   "outputs": [],
   "source": [
    "import numpy as np\n",
    "import pandas as pd"
   ]
  },
  {
   "cell_type": "code",
   "execution_count": 2,
   "metadata": {},
   "outputs": [
    {
     "data": {
      "text/html": [
       "<div>\n",
       "<style scoped>\n",
       "    .dataframe tbody tr th:only-of-type {\n",
       "        vertical-align: middle;\n",
       "    }\n",
       "\n",
       "    .dataframe tbody tr th {\n",
       "        vertical-align: top;\n",
       "    }\n",
       "\n",
       "    .dataframe thead th {\n",
       "        text-align: right;\n",
       "    }\n",
       "</style>\n",
       "<table border=\"1\" class=\"dataframe\">\n",
       "  <thead>\n",
       "    <tr style=\"text-align: right;\">\n",
       "      <th></th>\n",
       "      <th>c1</th>\n",
       "      <th>c4</th>\n",
       "      <th>c3</th>\n",
       "      <th>c2</th>\n",
       "      <th>c0</th>\n",
       "    </tr>\n",
       "  </thead>\n",
       "  <tbody>\n",
       "    <tr>\n",
       "      <th>r1</th>\n",
       "      <td>-0.132121</td>\n",
       "      <td>-0.294826</td>\n",
       "      <td>-0.150240</td>\n",
       "      <td>-1.471819</td>\n",
       "      <td>-0.301663</td>\n",
       "    </tr>\n",
       "    <tr>\n",
       "      <th>r0</th>\n",
       "      <td>-0.334445</td>\n",
       "      <td>-0.554276</td>\n",
       "      <td>-1.902841</td>\n",
       "      <td>-1.953149</td>\n",
       "      <td>0.335713</td>\n",
       "    </tr>\n",
       "    <tr>\n",
       "      <th>r3</th>\n",
       "      <td>-0.039308</td>\n",
       "      <td>0.621122</td>\n",
       "      <td>-1.196052</td>\n",
       "      <td>0.745166</td>\n",
       "      <td>1.237277</td>\n",
       "    </tr>\n",
       "    <tr>\n",
       "      <th>r2</th>\n",
       "      <td>0.056858</td>\n",
       "      <td>-1.769031</td>\n",
       "      <td>-0.074482</td>\n",
       "      <td>0.385037</td>\n",
       "      <td>1.813979</td>\n",
       "    </tr>\n",
       "  </tbody>\n",
       "</table>\n",
       "</div>"
      ],
      "text/plain": [
       "          c1        c4        c3        c2        c0\n",
       "r1 -0.132121 -0.294826 -0.150240 -1.471819 -0.301663\n",
       "r0 -0.334445 -0.554276 -1.902841 -1.953149  0.335713\n",
       "r3 -0.039308  0.621122 -1.196052  0.745166  1.237277\n",
       "r2  0.056858 -1.769031 -0.074482  0.385037  1.813979"
      ]
     },
     "execution_count": 2,
     "metadata": {},
     "output_type": "execute_result"
    }
   ],
   "source": [
    "df = pd.DataFrame(np.random.randn(4,5), \n",
    "                  columns=['c1', 'c4', 'c3', 'c2', 'c0'], \n",
    "                  index=['r1', 'r0', 'r3', 'r2'])\n",
    "df"
   ]
  },
  {
   "cell_type": "code",
   "execution_count": 3,
   "metadata": {},
   "outputs": [
    {
     "data": {
      "text/plain": [
       "c1   -0.334445\n",
       "c4   -1.769031\n",
       "c3   -1.902841\n",
       "c2   -1.953149\n",
       "c0   -0.301663\n",
       "dtype: float64"
      ]
     },
     "execution_count": 3,
     "metadata": {},
     "output_type": "execute_result"
    }
   ],
   "source": [
    "df_min = df.apply(func=lambda x: x.min(), axis=0)\n",
    "df_min"
   ]
  },
  {
   "cell_type": "code",
   "execution_count": 4,
   "metadata": {},
   "outputs": [
    {
     "data": {
      "text/plain": [
       "c1   -0.334445\n",
       "c4   -1.769031\n",
       "c3   -1.902841\n",
       "c2   -1.953149\n",
       "c0   -0.301663\n",
       "dtype: float64"
      ]
     },
     "execution_count": 4,
     "metadata": {},
     "output_type": "execute_result"
    }
   ],
   "source": [
    "df.min(axis=0)"
   ]
  },
  {
   "cell_type": "code",
   "execution_count": 5,
   "metadata": {},
   "outputs": [
    {
     "data": {
      "text/html": [
       "<div>\n",
       "<style scoped>\n",
       "    .dataframe tbody tr th:only-of-type {\n",
       "        vertical-align: middle;\n",
       "    }\n",
       "\n",
       "    .dataframe tbody tr th {\n",
       "        vertical-align: top;\n",
       "    }\n",
       "\n",
       "    .dataframe thead th {\n",
       "        text-align: right;\n",
       "    }\n",
       "</style>\n",
       "<table border=\"1\" class=\"dataframe\">\n",
       "  <thead>\n",
       "    <tr style=\"text-align: right;\">\n",
       "      <th></th>\n",
       "      <th>idxmin</th>\n",
       "      <th>min</th>\n",
       "    </tr>\n",
       "  </thead>\n",
       "  <tbody>\n",
       "    <tr>\n",
       "      <th>c1</th>\n",
       "      <td>r0</td>\n",
       "      <td>-0.334445</td>\n",
       "    </tr>\n",
       "    <tr>\n",
       "      <th>c4</th>\n",
       "      <td>r2</td>\n",
       "      <td>-1.76903</td>\n",
       "    </tr>\n",
       "    <tr>\n",
       "      <th>c3</th>\n",
       "      <td>r0</td>\n",
       "      <td>-1.90284</td>\n",
       "    </tr>\n",
       "    <tr>\n",
       "      <th>c2</th>\n",
       "      <td>r0</td>\n",
       "      <td>-1.95315</td>\n",
       "    </tr>\n",
       "    <tr>\n",
       "      <th>c0</th>\n",
       "      <td>r1</td>\n",
       "      <td>-0.301663</td>\n",
       "    </tr>\n",
       "  </tbody>\n",
       "</table>\n",
       "</div>"
      ],
      "text/plain": [
       "   idxmin       min\n",
       "c1     r0 -0.334445\n",
       "c4     r2  -1.76903\n",
       "c3     r0  -1.90284\n",
       "c2     r0  -1.95315\n",
       "c0     r1 -0.301663"
      ]
     },
     "execution_count": 5,
     "metadata": {},
     "output_type": "execute_result"
    }
   ],
   "source": [
    "df.apply(func=lambda x: pd.Series(index=['idxmin', 'min'], data=[x.idxmin(), x.min()]), axis=0).T"
   ]
  },
  {
   "cell_type": "code",
   "execution_count": 6,
   "metadata": {},
   "outputs": [
    {
     "data": {
      "text/html": [
       "<div>\n",
       "<style scoped>\n",
       "    .dataframe tbody tr th:only-of-type {\n",
       "        vertical-align: middle;\n",
       "    }\n",
       "\n",
       "    .dataframe tbody tr th {\n",
       "        vertical-align: top;\n",
       "    }\n",
       "\n",
       "    .dataframe thead th {\n",
       "        text-align: right;\n",
       "    }\n",
       "</style>\n",
       "<table border=\"1\" class=\"dataframe\">\n",
       "  <thead>\n",
       "    <tr style=\"text-align: right;\">\n",
       "      <th></th>\n",
       "      <th>idxmin</th>\n",
       "      <th>min</th>\n",
       "    </tr>\n",
       "  </thead>\n",
       "  <tbody>\n",
       "    <tr>\n",
       "      <th>c1</th>\n",
       "      <td>r0</td>\n",
       "      <td>-0.334445</td>\n",
       "    </tr>\n",
       "    <tr>\n",
       "      <th>c4</th>\n",
       "      <td>r2</td>\n",
       "      <td>-1.769031</td>\n",
       "    </tr>\n",
       "    <tr>\n",
       "      <th>c3</th>\n",
       "      <td>r0</td>\n",
       "      <td>-1.902841</td>\n",
       "    </tr>\n",
       "    <tr>\n",
       "      <th>c2</th>\n",
       "      <td>r0</td>\n",
       "      <td>-1.953149</td>\n",
       "    </tr>\n",
       "    <tr>\n",
       "      <th>c0</th>\n",
       "      <td>r1</td>\n",
       "      <td>-0.301663</td>\n",
       "    </tr>\n",
       "  </tbody>\n",
       "</table>\n",
       "</div>"
      ],
      "text/plain": [
       "   idxmin       min\n",
       "c1     r0 -0.334445\n",
       "c4     r2 -1.769031\n",
       "c3     r0 -1.902841\n",
       "c2     r0 -1.953149\n",
       "c0     r1 -0.301663"
      ]
     },
     "execution_count": 6,
     "metadata": {},
     "output_type": "execute_result"
    }
   ],
   "source": [
    "df_idxmin = df.idxmin(axis=0).to_frame()\n",
    "df_min = df.min(axis=0).to_frame()\n",
    "df_idxmin_min = df_idxmin.merge(right=df_min, how='inner', left_index=True, right_index=True)\n",
    "df_idxmin_min.columns = ['idxmin', 'min']\n",
    "df_idxmin_min"
   ]
  },
  {
   "cell_type": "code",
   "execution_count": 7,
   "metadata": {},
   "outputs": [
    {
     "data": {
      "text/html": [
       "<div>\n",
       "<style scoped>\n",
       "    .dataframe tbody tr th:only-of-type {\n",
       "        vertical-align: middle;\n",
       "    }\n",
       "\n",
       "    .dataframe tbody tr th {\n",
       "        vertical-align: top;\n",
       "    }\n",
       "\n",
       "    .dataframe thead th {\n",
       "        text-align: right;\n",
       "    }\n",
       "</style>\n",
       "<table border=\"1\" class=\"dataframe\">\n",
       "  <thead>\n",
       "    <tr style=\"text-align: right;\">\n",
       "      <th></th>\n",
       "      <th>idxmin</th>\n",
       "      <th>min</th>\n",
       "    </tr>\n",
       "  </thead>\n",
       "  <tbody>\n",
       "    <tr>\n",
       "      <th>c1</th>\n",
       "      <td>r0</td>\n",
       "      <td>-0.334445</td>\n",
       "    </tr>\n",
       "    <tr>\n",
       "      <th>c4</th>\n",
       "      <td>r2</td>\n",
       "      <td>-1.769031</td>\n",
       "    </tr>\n",
       "    <tr>\n",
       "      <th>c3</th>\n",
       "      <td>r0</td>\n",
       "      <td>-1.902841</td>\n",
       "    </tr>\n",
       "    <tr>\n",
       "      <th>c2</th>\n",
       "      <td>r0</td>\n",
       "      <td>-1.953149</td>\n",
       "    </tr>\n",
       "    <tr>\n",
       "      <th>c0</th>\n",
       "      <td>r1</td>\n",
       "      <td>-0.301663</td>\n",
       "    </tr>\n",
       "  </tbody>\n",
       "</table>\n",
       "</div>"
      ],
      "text/plain": [
       "   idxmin       min\n",
       "c1     r0 -0.334445\n",
       "c4     r2 -1.769031\n",
       "c3     r0 -1.902841\n",
       "c2     r0 -1.953149\n",
       "c0     r1 -0.301663"
      ]
     },
     "execution_count": 7,
     "metadata": {},
     "output_type": "execute_result"
    }
   ],
   "source": [
    "pd.DataFrame(data={'idxmin': df.idxmin(axis=0), 'min': df.min(axis=0)})"
   ]
  }
 ],
 "metadata": {
  "kernelspec": {
   "display_name": "Python 3",
   "language": "python",
   "name": "python3"
  },
  "language_info": {
   "codemirror_mode": {
    "name": "ipython",
    "version": 3
   },
   "file_extension": ".py",
   "mimetype": "text/x-python",
   "name": "python",
   "nbconvert_exporter": "python",
   "pygments_lexer": "ipython3",
   "version": "3.7.2"
  }
 },
 "nbformat": 4,
 "nbformat_minor": 2
}
