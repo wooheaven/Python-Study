{
 "cells": [
  {
   "cell_type": "code",
   "execution_count": 1,
   "metadata": {
    "collapsed": true
   },
   "outputs": [],
   "source": [
    "# Step 1 : Input data"
   ]
  },
  {
   "cell_type": "code",
   "execution_count": 2,
   "metadata": {},
   "outputs": [
    {
     "data": {
      "text/plain": [
       "[{'id': 0, 'name': 'Hero'},\n",
       " {'id': 1, 'name': 'Dunn'},\n",
       " {'id': 2, 'name': 'Sue'},\n",
       " {'id': 3, 'name': 'Chi'},\n",
       " {'id': 4, 'name': 'Thor'},\n",
       " {'id': 5, 'name': 'Clive'},\n",
       " {'id': 6, 'name': 'Hicks'},\n",
       " {'id': 7, 'name': 'Devin'},\n",
       " {'id': 8, 'name': 'Kate'},\n",
       " {'id': 9, 'name': 'Klein'}]"
      ]
     },
     "execution_count": 2,
     "metadata": {},
     "output_type": "execute_result"
    }
   ],
   "source": [
    "users = [\n",
    "\t{ \"id\": 0, \"name\": \"Hero\" },\n",
    "\t{ \"id\": 1, \"name\": \"Dunn\" },\n",
    "\t{ \"id\": 2, \"name\": \"Sue\" },\n",
    "\t{ \"id\": 3, \"name\": \"Chi\" },\n",
    "\t{ \"id\": 4, \"name\": \"Thor\" },\n",
    "\t{ \"id\": 5, \"name\": \"Clive\" },\n",
    "\t{ \"id\": 6, \"name\": \"Hicks\" },\n",
    "\t{ \"id\": 7, \"name\": \"Devin\" },\n",
    "\t{ \"id\": 8, \"name\": \"Kate\" },\n",
    "\t{ \"id\": 9, \"name\": \"Klein\" }\n",
    "]\n",
    "users"
   ]
  },
  {
   "cell_type": "code",
   "execution_count": 3,
   "metadata": {},
   "outputs": [
    {
     "data": {
      "text/plain": [
       "[(0, 1),\n",
       " (0, 2),\n",
       " (1, 2),\n",
       " (1, 3),\n",
       " (2, 3),\n",
       " (3, 4),\n",
       " (4, 5),\n",
       " (5, 6),\n",
       " (5, 7),\n",
       " (6, 8),\n",
       " (7, 8),\n",
       " (8, 9)]"
      ]
     },
     "execution_count": 3,
     "metadata": {},
     "output_type": "execute_result"
    }
   ],
   "source": [
    "friendships = [\n",
    "\t(0,1), (0,2),\n",
    "\t(1,2), (1,3),\n",
    "\t(2,3),\n",
    "\t(3,4),\n",
    "\t(4,5),\n",
    "\t(5,6), (5,7),\n",
    "\t(6,8),\n",
    "\t(7,8),\n",
    "\t(8,9)\n",
    "]\n",
    "friendships"
   ]
  },
  {
   "cell_type": "code",
   "execution_count": 4,
   "metadata": {},
   "outputs": [
    {
     "data": {
      "text/plain": [
       "[{'friends': [], 'id': 0, 'name': 'Hero'},\n",
       " {'friends': [], 'id': 1, 'name': 'Dunn'},\n",
       " {'friends': [], 'id': 2, 'name': 'Sue'},\n",
       " {'friends': [], 'id': 3, 'name': 'Chi'},\n",
       " {'friends': [], 'id': 4, 'name': 'Thor'},\n",
       " {'friends': [], 'id': 5, 'name': 'Clive'},\n",
       " {'friends': [], 'id': 6, 'name': 'Hicks'},\n",
       " {'friends': [], 'id': 7, 'name': 'Devin'},\n",
       " {'friends': [], 'id': 8, 'name': 'Kate'},\n",
       " {'friends': [], 'id': 9, 'name': 'Klein'}]"
      ]
     },
     "execution_count": 4,
     "metadata": {},
     "output_type": "execute_result"
    }
   ],
   "source": [
    "for user in users:\n",
    "    user[\"friends\"] =  []\n",
    "users"
   ]
  },
  {
   "cell_type": "code",
   "execution_count": 5,
   "metadata": {},
   "outputs": [
    {
     "data": {
      "text/plain": [
       "[{'friends': [1, 2], 'id': 0, 'name': 'Hero'},\n",
       " {'friends': [0, 2, 3], 'id': 1, 'name': 'Dunn'},\n",
       " {'friends': [0, 1, 3], 'id': 2, 'name': 'Sue'},\n",
       " {'friends': [1, 2, 4], 'id': 3, 'name': 'Chi'},\n",
       " {'friends': [3, 5], 'id': 4, 'name': 'Thor'},\n",
       " {'friends': [4, 6, 7], 'id': 5, 'name': 'Clive'},\n",
       " {'friends': [5, 8], 'id': 6, 'name': 'Hicks'},\n",
       " {'friends': [5, 8], 'id': 7, 'name': 'Devin'},\n",
       " {'friends': [6, 7, 9], 'id': 8, 'name': 'Kate'},\n",
       " {'friends': [8], 'id': 9, 'name': 'Klein'}]"
      ]
     },
     "execution_count": 5,
     "metadata": {},
     "output_type": "execute_result"
    }
   ],
   "source": [
    "for i,j in friendships:\n",
    "    users[i][\"friends\"].append(users[j][\"id\"])\n",
    "    users[j][\"friends\"].append(users[i][\"id\"])\n",
    "users"
   ]
  },
  {
   "cell_type": "code",
   "execution_count": 6,
   "metadata": {},
   "outputs": [
    {
     "name": "stdout",
     "output_type": "stream",
     "text": [
      "(0, [1, 2])\n",
      "(1, [0, 2, 3])\n",
      "(2, [0, 1, 3])\n",
      "(3, [1, 2, 4])\n",
      "(4, [3, 5])\n",
      "(5, [4, 6, 7])\n",
      "(6, [5, 8])\n",
      "(7, [5, 8])\n",
      "(8, [6, 7, 9])\n",
      "(9, [8])\n"
     ]
    }
   ],
   "source": [
    "for user in users:\n",
    "    print(user[\"id\"],user[\"friends\"])"
   ]
  },
  {
   "cell_type": "code",
   "execution_count": 7,
   "metadata": {
    "collapsed": true
   },
   "outputs": [],
   "source": [
    "def number_of_friends(user):\n",
    "    return len(user[\"friends\"])"
   ]
  },
  {
   "cell_type": "code",
   "execution_count": 8,
   "metadata": {
    "collapsed": true
   },
   "outputs": [],
   "source": [
    "# Step 2 : Explain data (number of user's friends)"
   ]
  },
  {
   "cell_type": "code",
   "execution_count": 9,
   "metadata": {
    "collapsed": true
   },
   "outputs": [],
   "source": [
    "# Step 2-1 : If small data, then show the data itself "
   ]
  },
  {
   "cell_type": "code",
   "execution_count": 10,
   "metadata": {},
   "outputs": [
    {
     "name": "stdout",
     "output_type": "stream",
     "text": [
      "(0, 2)\n",
      "(1, 3)\n",
      "(2, 3)\n",
      "(3, 3)\n",
      "(4, 2)\n",
      "(5, 3)\n",
      "(6, 2)\n",
      "(7, 2)\n",
      "(8, 3)\n",
      "(9, 1)\n"
     ]
    }
   ],
   "source": [
    "for user in users:\n",
    "    print (user[\"id\"], number_of_friends(user))"
   ]
  },
  {
   "cell_type": "code",
   "execution_count": 11,
   "metadata": {},
   "outputs": [
    {
     "data": {
      "image/png": "[encoded data removed]",
      "text/plain": [
       "<matplotlib.figure.Figure at 0x7ff411796490>"
      ]
     },
     "metadata": {},
     "output_type": "display_data"
    },
    {
     "data": {
      "text/plain": [
       "<matplotlib.figure.Figure at 0x7ff438a60c10>"
      ]
     },
     "metadata": {},
     "output_type": "display_data"
    }
   ],
   "source": [
    "import networkx as nx\n",
    "from matplotlib import pyplot as plt\n",
    "g = nx.Graph()\n",
    "for i,j in friendships:\n",
    "    g.add_edge(i, j)\n",
    "%matplotlib inline\n",
    "#pos = nx.circular_layout(g)\n",
    "#pos = nx.random_layout(g)\n",
    "pos = nx.shell_layout(g)\n",
    "#pos = nx.spring_layout(g)\n",
    "#pos = nx.spectral_layout(g)\n",
    "#pos = nx.fruchterman_reingold_layout(g)\n",
    "degree = nx.degree(g)\n",
    "nx.draw_networkx(g, pos, node_size=[v*300 for v in degree.values()])\n",
    "plt.figure(figsize=(10, 3))\n",
    "#nx.draw(g)\n",
    "plt.show()"
   ]
  },
  {
   "cell_type": "code",
   "execution_count": 12,
   "metadata": {
    "collapsed": true
   },
   "outputs": [],
   "source": [
    "# Step 2-2 : If big data, then find and show important information of the data by using statistics"
   ]
  },
  {
   "cell_type": "code",
   "execution_count": 13,
   "metadata": {
    "collapsed": true
   },
   "outputs": [],
   "source": [
    "# Step 2-2-1 Histogram"
   ]
  },
  {
   "cell_type": "code",
   "execution_count": 14,
   "metadata": {},
   "outputs": [
    {
     "data": {
      "text/plain": [
       "[2, 3, 3, 3, 2, 3, 2, 2, 3, 1]"
      ]
     },
     "execution_count": 14,
     "metadata": {},
     "output_type": "execute_result"
    }
   ],
   "source": [
    "num_friends = [number_of_friends(user) for user in users]\n",
    "num_friends"
   ]
  },
  {
   "cell_type": "code",
   "execution_count": 15,
   "metadata": {},
   "outputs": [
    {
     "data": {
      "text/plain": [
       "Counter({1: 1, 2: 4, 3: 5})"
      ]
     },
     "execution_count": 15,
     "metadata": {},
     "output_type": "execute_result"
    }
   ],
   "source": [
    "from collections import Counter\n",
    "friend_counts = Counter(num_friends)\n",
    "friend_counts"
   ]
  },
  {
   "cell_type": "code",
   "execution_count": 16,
   "metadata": {},
   "outputs": [
    {
     "data": {
      "text/plain": [
       "[1, 2, 3]"
      ]
     },
     "execution_count": 16,
     "metadata": {},
     "output_type": "execute_result"
    }
   ],
   "source": [
    "# plot\n",
    "xs = range(1,len(friend_counts)+1)\n",
    "xs"
   ]
  },
  {
   "cell_type": "code",
   "execution_count": 17,
   "metadata": {},
   "outputs": [
    {
     "data": {
      "text/plain": [
       "[1, 4, 5]"
      ]
     },
     "execution_count": 17,
     "metadata": {},
     "output_type": "execute_result"
    }
   ],
   "source": [
    "ys = [friend_counts[x] for x in xs]\n",
    "ys"
   ]
  },
  {
   "cell_type": "code",
   "execution_count": 18,
   "metadata": {},
   "outputs": [
    {
     "data": {
      "text/plain": [
       "4"
      ]
     },
     "execution_count": 18,
     "metadata": {},
     "output_type": "execute_result"
    }
   ],
   "source": [
    "max(xs) + 1"
   ]
  },
  {
   "cell_type": "code",
   "execution_count": 19,
   "metadata": {},
   "outputs": [
    {
     "data": {
      "image/png": "[encoded data removed]",
      "text/plain": [
       "<matplotlib.figure.Figure at 0x7ff411796c50>"
      ]
     },
     "metadata": {},
     "output_type": "display_data"
    }
   ],
   "source": [
    "from matplotlib import pyplot as plt\n",
    "plt.bar(xs, ys)\n",
    "plt.axis([0, max(xs)+1 , 0, max(ys)+1])\n",
    "plt.xticks(xs)\n",
    "plt.title(\"Histogram of user's Friends Counts\")\n",
    "plt.xlabel(\"# of friends\")\n",
    "plt.ylabel(\"# of people\")\n",
    "plt.show()"
   ]
  },
  {
   "cell_type": "code",
   "execution_count": 20,
   "metadata": {
    "collapsed": true
   },
   "outputs": [],
   "source": [
    "# Step 2-2-2 : total, min, max, sort"
   ]
  },
  {
   "cell_type": "code",
   "execution_count": 21,
   "metadata": {},
   "outputs": [
    {
     "data": {
      "text/plain": [
       "10"
      ]
     },
     "execution_count": 21,
     "metadata": {},
     "output_type": "execute_result"
    }
   ],
   "source": [
    "total_number_of_users = len(num_friends)\n",
    "total_number_of_users"
   ]
  },
  {
   "cell_type": "code",
   "execution_count": 22,
   "metadata": {},
   "outputs": [
    {
     "data": {
      "text/plain": [
       "3"
      ]
     },
     "execution_count": 22,
     "metadata": {},
     "output_type": "execute_result"
    }
   ],
   "source": [
    "max_number_of_friends = max(num_friends)\n",
    "max_number_of_friends"
   ]
  },
  {
   "cell_type": "code",
   "execution_count": 23,
   "metadata": {},
   "outputs": [
    {
     "data": {
      "text/plain": [
       "1"
      ]
     },
     "execution_count": 23,
     "metadata": {},
     "output_type": "execute_result"
    }
   ],
   "source": [
    "min_number_of_friends = min(num_friends)\n",
    "min_number_of_friends"
   ]
  },
  {
   "cell_type": "code",
   "execution_count": 24,
   "metadata": {},
   "outputs": [
    {
     "data": {
      "text/plain": [
       "[1, 2, 2, 2, 2, 3, 3, 3, 3, 3]"
      ]
     },
     "execution_count": 24,
     "metadata": {},
     "output_type": "execute_result"
    }
   ],
   "source": [
    "sorted_num_friends = sorted(num_friends)\n",
    "sorted_num_friends"
   ]
  }
 ],
 "metadata": {
  "kernelspec": {
   "display_name": "Python 2",
   "language": "python",
   "name": "python2"
  },
  "language_info": {
   "codemirror_mode": {
    "name": "ipython",
    "version": 2
   },
   "file_extension": ".py",
   "mimetype": "text/x-python",
   "name": "python",
   "nbconvert_exporter": "python",
   "pygments_lexer": "ipython2",
   "version": "2.7.12"
  }
 },
 "nbformat": 4,
 "nbformat_minor": 2
}
