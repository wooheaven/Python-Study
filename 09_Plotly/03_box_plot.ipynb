{
 "cells": [
  {
   "cell_type": "markdown",
   "metadata": {},
   "source": [
    "# plotly cufflinks box plot document\n",
    "https://plot.ly/ipython-notebooks/cufflinks/#box-plots"
   ]
  },
  {
   "cell_type": "code",
   "execution_count": 1,
   "metadata": {},
   "outputs": [],
   "source": [
    "import pandas as pd\n",
    "import numpy as np"
   ]
  },
  {
   "cell_type": "code",
   "execution_count": 2,
   "metadata": {},
   "outputs": [],
   "source": [
    "# plotly standard imports\n",
    "import plotly.graph_objs as go\n",
    "import plotly.plotly as py\n",
    "\n",
    "# Cufflinks wrapper on plotly\n",
    "import cufflinks\n",
    "\n",
    "# Data science imports\n",
    "import pandas as pd\n",
    "import numpy as np\n",
    "\n",
    "# Options for pandas\n",
    "pd.options.display.max_columns = 30\n",
    "\n",
    "# Display all cell outputs\n",
    "from IPython.core.interactiveshell import InteractiveShell\n",
    "InteractiveShell.ast_node_interactivity = 'all'"
   ]
  },
  {
   "cell_type": "code",
   "execution_count": 3,
   "metadata": {},
   "outputs": [
    {
     "data": {
      "text/html": [
       "        <script type=\"text/javascript\">\n",
       "        window.PlotlyConfig = {MathJaxConfig: 'local'};\n",
       "        if (window.MathJax) {MathJax.Hub.Config({SVG: {font: \"STIX-Web\"}});}\n",
       "        if (typeof require !== 'undefined') {\n",
       "        require.undef(\"plotly\");\n",
       "        requirejs.config({\n",
       "            paths: {\n",
       "                'plotly': ['https://cdn.plot.ly/plotly-latest.min']\n",
       "            }\n",
       "        });\n",
       "        require(['plotly'], function(Plotly) {\n",
       "            window._Plotly = Plotly;\n",
       "        });\n",
       "        }\n",
       "        </script>\n",
       "        "
      ]
     },
     "metadata": {},
     "output_type": "display_data"
    }
   ],
   "source": [
    "from plotly.offline import iplot\n",
    "cufflinks.go_offline()\n",
    "\n",
    "# Set global theme\n",
    "cufflinks.set_config_file(world_readable=True, theme='pearl')"
   ]
  },
  {
   "cell_type": "code",
   "execution_count": 4,
   "metadata": {},
   "outputs": [
    {
     "data": {
      "text/html": [
       "<div>\n",
       "<style scoped>\n",
       "    .dataframe tbody tr th:only-of-type {\n",
       "        vertical-align: middle;\n",
       "    }\n",
       "\n",
       "    .dataframe tbody tr th {\n",
       "        vertical-align: top;\n",
       "    }\n",
       "\n",
       "    .dataframe thead th {\n",
       "        text-align: right;\n",
       "    }\n",
       "</style>\n",
       "<table border=\"1\" class=\"dataframe\">\n",
       "  <thead>\n",
       "    <tr style=\"text-align: right;\">\n",
       "      <th></th>\n",
       "      <th>A</th>\n",
       "      <th>B</th>\n",
       "    </tr>\n",
       "  </thead>\n",
       "  <tbody>\n",
       "    <tr>\n",
       "      <th>0</th>\n",
       "      <td>0.116486</td>\n",
       "      <td>0.324108</td>\n",
       "    </tr>\n",
       "    <tr>\n",
       "      <th>1</th>\n",
       "      <td>0.875175</td>\n",
       "      <td>0.694867</td>\n",
       "    </tr>\n",
       "    <tr>\n",
       "      <th>2</th>\n",
       "      <td>0.552617</td>\n",
       "      <td>0.095288</td>\n",
       "    </tr>\n",
       "    <tr>\n",
       "      <th>3</th>\n",
       "      <td>0.412008</td>\n",
       "      <td>0.594417</td>\n",
       "    </tr>\n",
       "    <tr>\n",
       "      <th>4</th>\n",
       "      <td>0.382922</td>\n",
       "      <td>0.254546</td>\n",
       "    </tr>\n",
       "  </tbody>\n",
       "</table>\n",
       "</div>"
      ],
      "text/plain": [
       "          A         B\n",
       "0  0.116486  0.324108\n",
       "1  0.875175  0.694867\n",
       "2  0.552617  0.095288\n",
       "3  0.412008  0.594417\n",
       "4  0.382922  0.254546"
      ]
     },
     "execution_count": 4,
     "metadata": {},
     "output_type": "execute_result"
    }
   ],
   "source": [
    "df_1 = pd.DataFrame(np.random.rand(10, 2), columns=['A','B'])\n",
    "df_1.head()"
   ]
  },
  {
   "cell_type": "code",
   "execution_count": 5,
   "metadata": {},
   "outputs": [
    {
     "data": {
      "application/vnd.plotly.v1+json": {
       "config": {
        "linkText": "Export to plot.ly",
        "plotlyServerURL": "https://plot.ly",
        "showLink": true
       },
       "data": [
        {
         "boxpoints": false,
         "line": {
          "width": 1.3
         },
         "marker": {
          "color": "rgba(102, 194, 165, 1.0)"
         },
         "name": "A",
         "orientation": "v",
         "type": "box",
         "uid": "e52977e6-cb69-428c-b9e2-0fac0e7c9192",
         "y": [
          0.11648581687412007,
          0.8751750898848002,
          0.5526172743756382,
          0.4120077219856709,
          0.3829220221473142,
          0.3140893803810588,
          0.9384121037757067,
          0.23001780006789452,
          0.42032850459090876,
          0.24056523839115007
         ]
        },
        {
         "boxpoints": false,
         "line": {
          "width": 1.3
         },
         "marker": {
          "color": "rgba(252, 141, 98, 1.0)"
         },
         "name": "B",
         "orientation": "v",
         "type": "box",
         "uid": "2d4cf37b-2ae2-4eee-8965-99a6ca348600",
         "y": [
          0.3241080304360755,
          0.694867263791328,
          0.0952879745024342,
          0.5944166638776287,
          0.2545462190544815,
          0.7314071056419169,
          0.3758983466826217,
          0.3849108348960971,
          0.5261424758701199,
          0.5807592034849274
         ]
        }
       ],
       "layout": {
        "height": 600,
        "margin": {
         "b": 20
        },
        "title": {
         "text": "box plots example"
        },
        "yaxis": {
         "title": {
          "text": "np.random.rand"
         }
        }
       }
      },
      "text/html": [
       "<div>\n",
       "        \n",
       "        \n",
       "            <div id=\"58cb766c-a2a3-4ece-a395-87ab83797521\" class=\"plotly-graph-div\" style=\"height:600px; width:100%;\"></div>\n",
       "            <script type=\"text/javascript\">\n",
       "                require([\"plotly\"], function(Plotly) {\n",
       "                    window.PLOTLYENV=window.PLOTLYENV || {};\n",
       "                    window.PLOTLYENV.BASE_URL='https://plot.ly';\n",
       "                    \n",
       "                if (document.getElementById(\"58cb766c-a2a3-4ece-a395-87ab83797521\")) {\n",
       "                    Plotly.newPlot(\n",
       "                        '58cb766c-a2a3-4ece-a395-87ab83797521',\n",
       "                        [{\"boxpoints\": false, \"line\": {\"width\": 1.3}, \"marker\": {\"color\": \"rgba(102, 194, 165, 1.0)\"}, \"name\": \"A\", \"orientation\": \"v\", \"type\": \"box\", \"uid\": \"e52977e6-cb69-428c-b9e2-0fac0e7c9192\", \"y\": [0.11648581687412007, 0.8751750898848002, 0.5526172743756382, 0.4120077219856709, 0.3829220221473142, 0.3140893803810588, 0.9384121037757067, 0.23001780006789452, 0.42032850459090876, 0.24056523839115007]}, {\"boxpoints\": false, \"line\": {\"width\": 1.3}, \"marker\": {\"color\": \"rgba(252, 141, 98, 1.0)\"}, \"name\": \"B\", \"orientation\": \"v\", \"type\": \"box\", \"uid\": \"2d4cf37b-2ae2-4eee-8965-99a6ca348600\", \"y\": [0.3241080304360755, 0.694867263791328, 0.0952879745024342, 0.5944166638776287, 0.2545462190544815, 0.7314071056419169, 0.3758983466826217, 0.3849108348960971, 0.5261424758701199, 0.5807592034849274]}],\n",
       "                        {\"height\": 600, \"margin\": {\"b\": 20}, \"title\": {\"text\": \"box plots example\"}, \"yaxis\": {\"title\": {\"text\": \"np.random.rand\"}}},\n",
       "                        {\"showLink\": true, \"linkText\": \"Export to plot.ly\", \"plotlyServerURL\": \"https://plot.ly\", \"responsive\": true}\n",
       "                    ).then(function(){\n",
       "                            \n",
       "var gd = document.getElementById('58cb766c-a2a3-4ece-a395-87ab83797521');\n",
       "var x = new MutationObserver(function (mutations, observer) {{\n",
       "        var display = window.getComputedStyle(gd).display;\n",
       "        if (!display || display === 'none') {{\n",
       "            console.log([gd, 'removed!']);\n",
       "            Plotly.purge(gd);\n",
       "            observer.disconnect();\n",
       "        }}\n",
       "}});\n",
       "\n",
       "// Listen for the removal of the full notebook cells\n",
       "var notebookContainer = gd.closest('#notebook-container');\n",
       "if (notebookContainer) {{\n",
       "    x.observe(notebookContainer, {childList: true});\n",
       "}}\n",
       "\n",
       "// Listen for the clearing of the current output cell\n",
       "var outputEl = gd.closest('.output');\n",
       "if (outputEl) {{\n",
       "    x.observe(outputEl, {childList: true});\n",
       "}}\n",
       "\n",
       "                        })\n",
       "                };\n",
       "                });\n",
       "            </script>\n",
       "        </div>"
      ]
     },
     "metadata": {},
     "output_type": "display_data"
    }
   ],
   "source": [
    "df_1.iplot(\n",
    "    kind='box',\n",
    "    colorscale='set2',\n",
    "    layout=dict(\n",
    "        height=600,\n",
    "        yaxis=dict(title='np.random.rand'),\n",
    "        title='box plots example',\n",
    "        margin=dict(b=20)))"
   ]
  },
  {
   "cell_type": "code",
   "execution_count": 6,
   "metadata": {},
   "outputs": [
    {
     "data": {
      "text/html": [
       "<div>\n",
       "<style scoped>\n",
       "    .dataframe tbody tr th:only-of-type {\n",
       "        vertical-align: middle;\n",
       "    }\n",
       "\n",
       "    .dataframe tbody tr th {\n",
       "        vertical-align: top;\n",
       "    }\n",
       "\n",
       "    .dataframe thead th {\n",
       "        text-align: right;\n",
       "    }\n",
       "</style>\n",
       "<table border=\"1\" class=\"dataframe\">\n",
       "  <thead>\n",
       "    <tr style=\"text-align: right;\">\n",
       "      <th></th>\n",
       "      <th>A</th>\n",
       "      <th>B</th>\n",
       "    </tr>\n",
       "  </thead>\n",
       "  <tbody>\n",
       "    <tr>\n",
       "      <th>0</th>\n",
       "      <td>-0.431379</td>\n",
       "      <td>4.625696</td>\n",
       "    </tr>\n",
       "    <tr>\n",
       "      <th>1</th>\n",
       "      <td>1.712825</td>\n",
       "      <td>3.983133</td>\n",
       "    </tr>\n",
       "    <tr>\n",
       "      <th>2</th>\n",
       "      <td>-0.337724</td>\n",
       "      <td>1.781355</td>\n",
       "    </tr>\n",
       "    <tr>\n",
       "      <th>3</th>\n",
       "      <td>-0.443270</td>\n",
       "      <td>0.534227</td>\n",
       "    </tr>\n",
       "    <tr>\n",
       "      <th>4</th>\n",
       "      <td>1.456265</td>\n",
       "      <td>-0.574275</td>\n",
       "    </tr>\n",
       "  </tbody>\n",
       "</table>\n",
       "</div>"
      ],
      "text/plain": [
       "          A         B\n",
       "0 -0.431379  4.625696\n",
       "1  1.712825  3.983133\n",
       "2 -0.337724  1.781355\n",
       "3 -0.443270  0.534227\n",
       "4  1.456265 -0.574275"
      ]
     },
     "execution_count": 6,
     "metadata": {},
     "output_type": "execute_result"
    }
   ],
   "source": [
    "df_2 = pd.DataFrame({'A': np.random.normal(0,1,100), 'B': np.random.normal(1,2,100)})\n",
    "df_2.head()"
   ]
  },
  {
   "cell_type": "code",
   "execution_count": 7,
   "metadata": {},
   "outputs": [
    {
     "data": {
      "application/vnd.plotly.v1+json": {
       "config": {
        "linkText": "Export to plot.ly",
        "plotlyServerURL": "https://plot.ly",
        "showLink": true
       },
       "data": [
        {
         "boxpoints": false,
         "line": {
          "width": 1.3
         },
         "marker": {
          "color": "rgba(255, 153, 51, 1.0)"
         },
         "name": "A",
         "orientation": "v",
         "type": "box",
         "uid": "a1ef0ade-6e33-4d80-8f11-8d922b0102f2",
         "y": [
          -0.43137872573851926,
          1.7128253534125066,
          -0.33772397497782203,
          -0.4432701431854507,
          1.456265003494332,
          -0.3510804564037211,
          -0.8171554206966791,
          -1.8791324235343443,
          1.076225104881268,
          -1.7625642441812936,
          0.8774031153181374,
          0.8081026611027878,
          1.7332445248004569,
          -0.6113751312931187,
          0.6341252225852855,
          -1.0993486994445418,
          0.8183037904772391,
          -0.8531976644938939,
          -0.47255297378920375,
          2.181314904201043,
          -0.0799444579104314,
          0.13469778059247983,
          0.7116174456072654,
          1.4426321779935194,
          0.4409231316398853,
          2.0731503373152114,
          -0.8952901995839829,
          0.12117010932145805,
          1.297335772761338,
          -1.2484049769375196,
          1.5462013124359941,
          -0.20304017882145078,
          -0.307080152522652,
          1.033726767124423,
          -0.8685217553806,
          -0.1049206932602511,
          0.44361826385250863,
          1.5437019856359104,
          -0.9399740520172575,
          0.5504858313836494,
          -1.243336252327596,
          0.17610829682030618,
          2.2021968238845413,
          -0.9277979189223712,
          -1.1584753705026083,
          1.2913016179186605,
          0.33955249076747135,
          0.7933584068096609,
          0.5845705062964952,
          0.5515200717790961,
          0.7349544297521418,
          0.4499277469025218,
          -0.4666894040452529,
          -2.0364407415879793,
          -0.8571993281543907,
          0.8129073077982981,
          0.5934451482104726,
          0.6740976860488485,
          -1.7333368390697215,
          -0.17775895256650787,
          -0.8241493161710762,
          0.98931338896734,
          -0.07671865486138017,
          -0.1570579173316405,
          0.49157897053778865,
          -0.08366444751980241,
          -0.11756308712385001,
          2.1727000569993633,
          -1.1907021991584177,
          1.4982733408825017,
          -0.76875099491407,
          0.277734275222971,
          -0.13247739291168964,
          -0.9581506927924228,
          -0.2174095292483412,
          0.9055029124931765,
          -0.756975675565933,
          0.7482405692173117,
          0.37631651046453124,
          -0.23366412570911074,
          -1.686061328700247,
          0.05730121591444102,
          -2.0894776258850016,
          -0.9087475382296989,
          1.1263302163426998,
          -0.27477742659625015,
          -0.6856598473556572,
          -0.09973554628294796,
          -1.1348079220926968,
          0.34000111840640784,
          -0.7435938466425046,
          0.5197132682937714,
          0.4064462194577156,
          1.1897683970178472,
          -2.1970311153800317,
          0.5332851349402887,
          -0.600122718460658,
          -0.8697570720707358,
          -1.324743463101558,
          0.6762327448129607
         ]
        },
        {
         "boxpoints": false,
         "line": {
          "width": 1.3
         },
         "marker": {
          "color": "rgba(55, 128, 191, 1.0)"
         },
         "name": "B",
         "orientation": "v",
         "type": "box",
         "uid": "654b3e20-4222-4ec7-a133-52c42f351741",
         "xaxis": "x",
         "y": [
          4.625696279127581,
          3.9831327252680957,
          1.7813550420911985,
          0.5342269430577109,
          -0.574274631290052,
          0.6868664602186797,
          -3.702659973411558,
          0.6089670314496536,
          1.0622162429142568,
          -0.8472484023177738,
          -2.4779135883785663,
          0.8684893049600966,
          -0.5868033372739236,
          2.151685380160151,
          0.009670006762140804,
          -1.0352876234151043,
          0.8379347676800011,
          -1.959146112690831,
          -1.657414860531694,
          4.1923415497632215,
          -0.8045751833944796,
          1.225764928973804,
          1.3498581031023624,
          3.065912633920616,
          -1.1647840224448496,
          0.5284575453127013,
          1.8646075487301244,
          1.3181275202890097,
          -0.22594448007610812,
          2.416782966985714,
          2.253457445761738,
          1.8061284758642602,
          0.13905790315505207,
          -1.8461867741595985,
          1.3529083524393986,
          2.121558273332367,
          6.11341474384493,
          1.0271806177742988,
          1.1895968539967496,
          3.6612018024655795,
          0.6431911678459644,
          4.785210826811447,
          -4.059164699026376,
          0.6258063951906315,
          3.0828338489889098,
          -0.4373864529635285,
          0.4552349845267085,
          3.060596848268152,
          3.9258741057686155,
          3.569115842281737,
          0.5106780336241175,
          0.7145959901942336,
          0.2870259412873213,
          0.7371008943794425,
          2.138771534223197,
          -1.7187962011318225,
          2.8695418143399936,
          -0.6755310863706314,
          0.5410401687944932,
          -0.16979884729958172,
          -1.9327879418454006,
          0.7472692632720592,
          1.1685615251087795,
          2.281568665699352,
          -1.9191496208504062,
          -4.465515606276881,
          1.4933853638569197,
          5.115475181349057,
          0.20533589558960907,
          4.092431084772892,
          2.7242638835636708,
          -0.3203994260940397,
          1.5349070745299471,
          2.2419227453969013,
          3.9671964912198088,
          1.3122829383050307,
          5.464649219955986,
          0.889441043544864,
          0.020645609162615708,
          2.5741501872262647,
          1.3861594845382745,
          -0.4905132927383187,
          -1.86006124791182,
          1.8319253806971552,
          -0.37336981558753557,
          0.6168192953046692,
          1.945395926514587,
          2.4486217354308857,
          -0.06444763083742067,
          -0.7221640211252804,
          -1.9274352921279108,
          1.1316775226261155,
          2.2334153463676603,
          4.976301719265782,
          0.8206434075355252,
          -0.9791115732392139,
          1.8979543122446767,
          2.15782388506965,
          2.1893684348812696,
          0.1706398919993507
         ],
         "yaxis": "y2"
        }
       ],
       "layout": {
        "legend": {
         "bgcolor": "#F5F6F9",
         "font": {
          "color": "#4D5663"
         }
        },
        "paper_bgcolor": "#F5F6F9",
        "plot_bgcolor": "#F5F6F9",
        "title": {
         "font": {
          "color": "#4D5663"
         },
         "text": "Compare normals"
        },
        "xaxis": {
         "gridcolor": "#E1E5ED",
         "showgrid": true,
         "tickfont": {
          "color": "#4D5663"
         },
         "title": {
          "font": {
           "color": "#4D5663"
          },
          "text": ""
         },
         "zerolinecolor": "#E1E5ED"
        },
        "yaxis": {
         "gridcolor": "#E1E5ED",
         "showgrid": true,
         "tickfont": {
          "color": "#4D5663"
         },
         "title": {
          "font": {
           "color": "#4D5663"
          },
          "text": "A value"
         },
         "zerolinecolor": "#E1E5ED"
        },
        "yaxis2": {
         "anchor": "x",
         "gridcolor": "#E1E5ED",
         "overlaying": "y",
         "showgrid": true,
         "side": "right",
         "tickfont": {
          "color": "#4D5663"
         },
         "title": {
          "text": "B value"
         },
         "zerolinecolor": "#E1E5ED"
        }
       }
      },
      "text/html": [
       "<div>\n",
       "        \n",
       "        \n",
       "            <div id=\"42313ffc-b188-47fd-9a1b-237f38e0964a\" class=\"plotly-graph-div\" style=\"height:525px; width:100%;\"></div>\n",
       "            <script type=\"text/javascript\">\n",
       "                require([\"plotly\"], function(Plotly) {\n",
       "                    window.PLOTLYENV=window.PLOTLYENV || {};\n",
       "                    window.PLOTLYENV.BASE_URL='https://plot.ly';\n",
       "                    \n",
       "                if (document.getElementById(\"42313ffc-b188-47fd-9a1b-237f38e0964a\")) {\n",
       "                    Plotly.newPlot(\n",
       "                        '42313ffc-b188-47fd-9a1b-237f38e0964a',\n",
       "                        [{\"boxpoints\": false, \"line\": {\"width\": 1.3}, \"marker\": {\"color\": \"rgba(255, 153, 51, 1.0)\"}, \"name\": \"A\", \"orientation\": \"v\", \"type\": \"box\", \"uid\": \"a1ef0ade-6e33-4d80-8f11-8d922b0102f2\", \"y\": [-0.43137872573851926, 1.7128253534125066, -0.33772397497782203, -0.4432701431854507, 1.456265003494332, -0.3510804564037211, -0.8171554206966791, -1.8791324235343443, 1.076225104881268, -1.7625642441812936, 0.8774031153181374, 0.8081026611027878, 1.7332445248004569, -0.6113751312931187, 0.6341252225852855, -1.0993486994445418, 0.8183037904772391, -0.8531976644938939, -0.47255297378920375, 2.181314904201043, -0.0799444579104314, 0.13469778059247983, 0.7116174456072654, 1.4426321779935194, 0.4409231316398853, 2.0731503373152114, -0.8952901995839829, 0.12117010932145805, 1.297335772761338, -1.2484049769375196, 1.5462013124359941, -0.20304017882145078, -0.307080152522652, 1.033726767124423, -0.8685217553806, -0.1049206932602511, 0.44361826385250863, 1.5437019856359104, -0.9399740520172575, 0.5504858313836494, -1.243336252327596, 0.17610829682030618, 2.2021968238845413, -0.9277979189223712, -1.1584753705026083, 1.2913016179186605, 0.33955249076747135, 0.7933584068096609, 0.5845705062964952, 0.5515200717790961, 0.7349544297521418, 0.4499277469025218, -0.4666894040452529, -2.0364407415879793, -0.8571993281543907, 0.8129073077982981, 0.5934451482104726, 0.6740976860488485, -1.7333368390697215, -0.17775895256650787, -0.8241493161710762, 0.98931338896734, -0.07671865486138017, -0.1570579173316405, 0.49157897053778865, -0.08366444751980241, -0.11756308712385001, 2.1727000569993633, -1.1907021991584177, 1.4982733408825017, -0.76875099491407, 0.277734275222971, -0.13247739291168964, -0.9581506927924228, -0.2174095292483412, 0.9055029124931765, -0.756975675565933, 0.7482405692173117, 0.37631651046453124, -0.23366412570911074, -1.686061328700247, 0.05730121591444102, -2.0894776258850016, -0.9087475382296989, 1.1263302163426998, -0.27477742659625015, -0.6856598473556572, -0.09973554628294796, -1.1348079220926968, 0.34000111840640784, -0.7435938466425046, 0.5197132682937714, 0.4064462194577156, 1.1897683970178472, -2.1970311153800317, 0.5332851349402887, -0.600122718460658, -0.8697570720707358, -1.324743463101558, 0.6762327448129607]}, {\"boxpoints\": false, \"line\": {\"width\": 1.3}, \"marker\": {\"color\": \"rgba(55, 128, 191, 1.0)\"}, \"name\": \"B\", \"orientation\": \"v\", \"type\": \"box\", \"uid\": \"654b3e20-4222-4ec7-a133-52c42f351741\", \"xaxis\": \"x\", \"y\": [4.625696279127581, 3.9831327252680957, 1.7813550420911985, 0.5342269430577109, -0.574274631290052, 0.6868664602186797, -3.702659973411558, 0.6089670314496536, 1.0622162429142568, -0.8472484023177738, -2.4779135883785663, 0.8684893049600966, -0.5868033372739236, 2.151685380160151, 0.009670006762140804, -1.0352876234151043, 0.8379347676800011, -1.959146112690831, -1.657414860531694, 4.1923415497632215, -0.8045751833944796, 1.225764928973804, 1.3498581031023624, 3.065912633920616, -1.1647840224448496, 0.5284575453127013, 1.8646075487301244, 1.3181275202890097, -0.22594448007610812, 2.416782966985714, 2.253457445761738, 1.8061284758642602, 0.13905790315505207, -1.8461867741595985, 1.3529083524393986, 2.121558273332367, 6.11341474384493, 1.0271806177742988, 1.1895968539967496, 3.6612018024655795, 0.6431911678459644, 4.785210826811447, -4.059164699026376, 0.6258063951906315, 3.0828338489889098, -0.4373864529635285, 0.4552349845267085, 3.060596848268152, 3.9258741057686155, 3.569115842281737, 0.5106780336241175, 0.7145959901942336, 0.2870259412873213, 0.7371008943794425, 2.138771534223197, -1.7187962011318225, 2.8695418143399936, -0.6755310863706314, 0.5410401687944932, -0.16979884729958172, -1.9327879418454006, 0.7472692632720592, 1.1685615251087795, 2.281568665699352, -1.9191496208504062, -4.465515606276881, 1.4933853638569197, 5.115475181349057, 0.20533589558960907, 4.092431084772892, 2.7242638835636708, -0.3203994260940397, 1.5349070745299471, 2.2419227453969013, 3.9671964912198088, 1.3122829383050307, 5.464649219955986, 0.889441043544864, 0.020645609162615708, 2.5741501872262647, 1.3861594845382745, -0.4905132927383187, -1.86006124791182, 1.8319253806971552, -0.37336981558753557, 0.6168192953046692, 1.945395926514587, 2.4486217354308857, -0.06444763083742067, -0.7221640211252804, -1.9274352921279108, 1.1316775226261155, 2.2334153463676603, 4.976301719265782, 0.8206434075355252, -0.9791115732392139, 1.8979543122446767, 2.15782388506965, 2.1893684348812696, 0.1706398919993507], \"yaxis\": \"y2\"}],\n",
       "                        {\"legend\": {\"bgcolor\": \"#F5F6F9\", \"font\": {\"color\": \"#4D5663\"}}, \"paper_bgcolor\": \"#F5F6F9\", \"plot_bgcolor\": \"#F5F6F9\", \"title\": {\"font\": {\"color\": \"#4D5663\"}, \"text\": \"Compare normals\"}, \"xaxis\": {\"gridcolor\": \"#E1E5ED\", \"showgrid\": true, \"tickfont\": {\"color\": \"#4D5663\"}, \"title\": {\"font\": {\"color\": \"#4D5663\"}, \"text\": \"\"}, \"zerolinecolor\": \"#E1E5ED\"}, \"yaxis\": {\"gridcolor\": \"#E1E5ED\", \"showgrid\": true, \"tickfont\": {\"color\": \"#4D5663\"}, \"title\": {\"font\": {\"color\": \"#4D5663\"}, \"text\": \"A value\"}, \"zerolinecolor\": \"#E1E5ED\"}, \"yaxis2\": {\"anchor\": \"x\", \"gridcolor\": \"#E1E5ED\", \"overlaying\": \"y\", \"showgrid\": true, \"side\": \"right\", \"tickfont\": {\"color\": \"#4D5663\"}, \"title\": {\"text\": \"B value\"}, \"zerolinecolor\": \"#E1E5ED\"}},\n",
       "                        {\"showLink\": true, \"linkText\": \"Export to plot.ly\", \"plotlyServerURL\": \"https://plot.ly\", \"responsive\": true}\n",
       "                    ).then(function(){\n",
       "                            \n",
       "var gd = document.getElementById('42313ffc-b188-47fd-9a1b-237f38e0964a');\n",
       "var x = new MutationObserver(function (mutations, observer) {{\n",
       "        var display = window.getComputedStyle(gd).display;\n",
       "        if (!display || display === 'none') {{\n",
       "            console.log([gd, 'removed!']);\n",
       "            Plotly.purge(gd);\n",
       "            observer.disconnect();\n",
       "        }}\n",
       "}});\n",
       "\n",
       "// Listen for the removal of the full notebook cells\n",
       "var notebookContainer = gd.closest('#notebook-container');\n",
       "if (notebookContainer) {{\n",
       "    x.observe(notebookContainer, {childList: true});\n",
       "}}\n",
       "\n",
       "// Listen for the clearing of the current output cell\n",
       "var outputEl = gd.closest('.output');\n",
       "if (outputEl) {{\n",
       "    x.observe(outputEl, {childList: true});\n",
       "}}\n",
       "\n",
       "                        })\n",
       "                };\n",
       "                });\n",
       "            </script>\n",
       "        </div>"
      ]
     },
     "metadata": {},
     "output_type": "display_data"
    }
   ],
   "source": [
    "df_2[['A','B']].iplot(\n",
    "    yTitle='A value', \n",
    "    secondary_y ='B',\n",
    "    secondary_y_title='B value',\n",
    "    kind='box',\n",
    "    title='Compare normals')"
   ]
  }
 ],
 "metadata": {
  "kernelspec": {
   "display_name": "Python 3",
   "language": "python",
   "name": "python3"
  },
  "language_info": {
   "codemirror_mode": {
    "name": "ipython",
    "version": 3
   },
   "file_extension": ".py",
   "mimetype": "text/x-python",
   "name": "python",
   "nbconvert_exporter": "python",
   "pygments_lexer": "ipython3",
   "version": "3.7.3"
  }
 },
 "nbformat": 4,
 "nbformat_minor": 2
}
